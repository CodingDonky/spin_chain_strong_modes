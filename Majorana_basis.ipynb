{
 "cells": [
  {
   "cell_type": "code",
   "execution_count": 3,
   "metadata": {},
   "outputs": [
    {
     "data": {
      "text/plain": [
       "print_symbols (generic function with 1 method)"
      ]
     },
     "execution_count": 3,
     "metadata": {},
     "output_type": "execute_result"
    }
   ],
   "source": [
    "# `setup.jl` will load core packages including the ED package\n",
    "include(\"./src/setup.jl\")"
   ]
  },
  {
   "cell_type": "code",
   "execution_count": 4,
   "metadata": {},
   "outputs": [
    {
     "name": "stdout",
     "output_type": "stream",
     "text": [
      "id, σx, σy, σz, ⊗(x,y)\n"
     ]
    }
   ],
   "source": [
    "print_symbols()"
   ]
  },
  {
   "cell_type": "markdown",
   "metadata": {},
   "source": [
    "Other sources:\n",
    "- https://arxiv.org/pdf/cond-mat/0010440.pdf"
   ]
  },
  {
   "cell_type": "markdown",
   "metadata": {},
   "source": [
    "# Majorana intro\n",
    "\n",
    "This notebook walks through the process of operating in the majorana basis. Majorana particles are defined as particles that are their own antiparticle. In the language of second quantization, this is simply the statement that creating the particle, and annihilating it should be done with the same operator.\n",
    "\n",
    "I'll open with a quick Majorana intro, considering the Hamiltonian: $H=-\\frac{1}{2m} \\frac{\\partial^2}{\\partial x^2} - V \\delta(x)$ with associated raising and lowering operatrs $c^\\dagger$ and $c$ respectively.\n",
    "\n",
    "We can fabricate operators $\\gamma_+=c+c^\\dagger$, $\\gamma_-=-i(c-c^\\dagger)$ that satisfy the majorana condition $\\gamma_\\pm = \\gamma_pm^\\dagger$, each of the operators square to one, and you can construct a number operator from them $n = c^\\dagger c = 0.5(i \\gamma_+ \\gamma_- + 1)$.\n",
    "\n",
    "https://www.theorie.physik.uni-muenchen.de/activities/schools/archiv/asc_school_15/refael_notes.pdf"
   ]
  },
  {
   "cell_type": "markdown",
   "metadata": {},
   "source": [
    "# Jordan Wigner Transformation\n",
    "\n",
    "All of this in the context of the Ising model's Hamiltonian:\n",
    "\n",
    "$$ H = -J g \\sum_i \\hat{\\sigma}_i^x - J \\sum_{<i,j>} \\hat{\\sigma}_i^z \\hat{\\sigma}_j^z $$\n",
    "\n",
    "Starting out defining raising and lowering operators for the Ising chain:\n",
    "\n",
    "$$ \\hat{\\sigma}_i^\\pm = \\frac{1}{2} (\\hat{\\sigma}_i^x \\pm i \\hat{\\sigma}_i^y) $$\n",
    "\n",
    "Which satisfies the anti-commutation relations: $\\{ \\sigma_i^-, \\sigma_i^+ \\} = 1$, $\\{\\sigma_i^-, \\sigma_i^-\\} = \\{\\sigma_i^+, \\sigma_i^+\\} = 0 $\n",
    "\n",
    "And just for fun we can construct the number operator $n_l = c_l^\\dagger c_l$.\n",
    "\n",
    "The Jordan-Wigner transformation can be applied, recovering the true fermion anticommutation relations from the spin operators. (otherwise, interpretting the raising and lowering operators as creation and anhiliation operators are interpretted as being bosonic as they commute at different sites $[\\sigma_i^+,\\sigma_j^-] = 0, j \\neq i$, while fermionic operators anticommute at different sites). \n",
    "\n",
    "This Jordan-Wigner transformation is as follows:\n",
    "\n",
    "$$ c_i = \\Pi_{j<i} (\\hat{\\sigma}_j^z) \\hat{\\sigma}_i^+ $$\n",
    "$$ c_i^\\dagger = \\Pi_{j<i} (\\hat{\\sigma}_j^z) \\hat{\\sigma}_i^- $$\n",
    "\n",
    "These fermionic operators are non-local. The spin operator is only defined at a point (local), whie the fermionic operator depends on the spin values along a whole line, from the left boundary to the given location.\n",
    "\n",
    "The Jordan-Wigner transformation is also reversible via:\n",
    "\n",
    "$$ \\hat{\\sigma}_i^+ = \\Pi_{j<i} (1 - 2 c_j^\\dagger c_j) c_i $$\n",
    "$$ \\hat{\\sigma}_i^- = \\Pi_{j<i} (1 - 2 c_j^\\dagger c_j) c_i^\\dagger $$"
   ]
  },
  {
   "cell_type": "markdown",
   "metadata": {},
   "source": [
    "# Kitaev Chain\n",
    "\n",
    "We are working with the Hamiltonian for the Kitaev chain, written below. It is a simplification of the hamiltonian used throughout the codebase in which the parameter $J_z=0, \\gamma \\neq 0$.\n",
    "\n",
    "$$ H = H_{xx} + H_{yy} + H_z $$\n",
    "\n",
    "$$ H = \\sum\\limits_{i}^{L} [J (\\frac{1+\\gamma}{2})σ^{x}_{i}σ^{x}_{i+1} + J (\\frac{1-\\gamma}{2})σ^{y}_{i}σ^{y}_{i+1} + g σ^{z}_{i}] $$\n",
    "\n",
    "\n",
    "The same Hamiltonian written in the Majorana basis can be constructed after a Jordan-Wigner transformation."
   ]
  },
  {
   "cell_type": "markdown",
   "metadata": {},
   "source": [
    "Map the problem to Majorana fermions:\n",
    "\n",
    "$$ a_{2l-1} = \\Pi_{j=1}^{l-1} \\sigma_j^z \\sigma_l^x $$\n",
    "\n",
    "$$ a_{2l} = \\Pi_{j=1}^{l-1} \\sigma_j^z \\sigma_l^y $$\n",
    "\n",
    "where l = 1, 2, ..., L.\n",
    "\n",
    "Now say $$\\vec{a} = (a_1, a_2, ..., a_{2L})$$\n"
   ]
  },
  {
   "cell_type": "code",
   "execution_count": 15,
   "metadata": {},
   "outputs": [
    {
     "data": {
      "text/plain": [
       "4×4 Matrix{Float64}:\n",
       " 0.0        0.894427  0.447214   0.0\n",
       " 0.894427   0.0       0.0       -0.447214\n",
       " 0.447214   0.0       0.0        0.894427\n",
       " 0.0       -0.447214  0.894427   0.0"
      ]
     },
     "execution_count": 15,
     "metadata": {},
     "output_type": "execute_result"
    }
   ],
   "source": [
    "ED.Psi0(2,0.5)"
   ]
  },
  {
   "cell_type": "code",
   "execution_count": 5,
   "metadata": {},
   "outputs": [
    {
     "data": {
      "text/plain": [
       "get_σiz (generic function with 1 method)"
      ]
     },
     "execution_count": 5,
     "metadata": {},
     "output_type": "execute_result"
    }
   ],
   "source": [
    "function get_σix(L::Int64, i::Int64)\n",
    "    ops = fill(id, L)\n",
    "    ops[end-i+1] = σx\n",
    "    return foldl(⊗, ops)\n",
    "end\n",
    "\n",
    "function get_σiy(L::Int64, i::Int64)\n",
    "    ops = fill(id, L)\n",
    "    ops[end-i+1] = σy\n",
    "    return foldl(⊗, ops)\n",
    "end\n",
    "\n",
    "function get_σiz(L::Int64, i::Int64)\n",
    "    ops = fill(id, L)\n",
    "    ops[end-i+1] = σz\n",
    "    return foldl(⊗, ops)\n",
    "end"
   ]
  },
  {
   "cell_type": "code",
   "execution_count": 14,
   "metadata": {},
   "outputs": [
    {
     "data": {
      "text/plain": [
       "get_majorana_a_l (generic function with 1 method)"
      ]
     },
     "execution_count": 14,
     "metadata": {},
     "output_type": "execute_result"
    }
   ],
   "source": [
    "function get_U(L::Int64, jx::Float64, g::Float64, gamma::Float64, T::Float64)\n",
    "    return exp.( -im * T/2 * \n",
    "            ( ED.Hxx(L, jx*(1+gamma)/2) + \n",
    "            ED.Hyy(L, jx*(1-gamma)/2) + \n",
    "            g * ED.Hz(L, jx*(1+gamma)/2) ) \n",
    "        )\n",
    "end\n",
    "\n",
    "function get_majorana_a_l(L::Int64, l::Int64)\n",
    "    \"\"\"\n",
    "    Returns the lth majorana state\n",
    "    \"\"\"\n",
    "    if l%2==0 # l even\n",
    "        a = get_σiz(1, L) * get_σix(1, l)\n",
    "        for j in 2:l-1\n",
    "            a = a * ( get_σiz(L, j) * get_σix(l, 1) )\n",
    "        end\n",
    "    else # l odd\n",
    "        a = get_σiz(1,L) * get_σix(1, l)\n",
    "        for j in 2:l-1\n",
    "            a = a * ( get_σiz(L, j) * get_σix(l,1) )\n",
    "        end\n",
    "    end\n",
    "    \n",
    "    return a\n",
    "    \n",
    "end\n",
    "\n",
    "# function get_majorana_vector_a(L::Int64)\n",
    "#     a_vector = zeros(L)\n",
    "#     for i in 1:L\n",
    "#         a_vector[i] = get_majorana_a_l(L, i)\n",
    "#     end\n",
    "#     return a_vector\n",
    "# end"
   ]
  },
  {
   "cell_type": "code",
   "execution_count": 9,
   "metadata": {},
   "outputs": [
    {
     "ename": "LoadError",
     "evalue": "BoundsError: attempt to access 1-element Vector{Matrix{Complex{Int64}}} at index [-2]",
     "output_type": "error",
     "traceback": [
      "BoundsError: attempt to access 1-element Vector{Matrix{Complex{Int64}}} at index [-2]",
      "",
      "Stacktrace:",
      " [1] setindex!(A::Vector{Matrix{Complex{Int64}}}, x::Matrix{Complex{Int64}}, i1::Int64)",
      "   @ Base ./array.jl:839",
      " [2] get_σiz(L::Int64, i::Int64)",
      "   @ Main ./In[5]:15",
      " [3] get_majorana_a_l(L::Int64, l::Int64)",
      "   @ Main ./In[7]:0",
      " [4] top-level scope",
      "   @ In[9]:1",
      " [5] eval",
      "   @ ./boot.jl:360 [inlined]",
      " [6] include_string(mapexpr::typeof(REPL.softscope), mod::Module, code::String, filename::String)",
      "   @ Base ./loading.jl:1094"
     ]
    }
   ],
   "source": [
    "get_majorana_a_l(4, 2)"
   ]
  },
  {
   "cell_type": "code",
   "execution_count": 130,
   "metadata": {},
   "outputs": [
    {
     "data": {
      "text/plain": [
       "16×16 Matrix{ComplexF64}:\n",
       "    0.999995+0.0031853im  …          1.0-0.0im\n",
       "         1.0-0.0im                   1.0-0.0im\n",
       "         1.0-0.0im                   1.0-0.0im\n",
       " 0.000796327-1.0im           0.000796327-1.0im\n",
       "         1.0-0.0im                   1.0-0.0im\n",
       "         1.0-0.0im        …          1.0-0.0im\n",
       " 0.000796327-1.0im                   1.0-0.0im\n",
       "         1.0-0.0im                   1.0-0.0im\n",
       "         1.0-0.0im                   1.0-0.0im\n",
       "         1.0-0.0im           0.000796327-1.0im\n",
       "         1.0-0.0im        …          1.0-0.0im\n",
       "         1.0-0.0im                   1.0-0.0im\n",
       " 0.000796327-1.0im           0.000796327-1.0im\n",
       "         1.0-0.0im                   1.0-0.0im\n",
       "         1.0-0.0im                   1.0-0.0im\n",
       "         1.0-0.0im        …     0.999995-0.0031853im"
      ]
     },
     "execution_count": 130,
     "metadata": {},
     "output_type": "execute_result"
    }
   ],
   "source": [
    "get_U( 4, 1.0, 1.0, 3.14)"
   ]
  },
  {
   "cell_type": "code",
   "execution_count": 83,
   "metadata": {},
   "outputs": [
    {
     "data": {
      "text/plain": [
       "Matrix{Complex{Int64}} (alias for Array{Complex{Int64}, 2})"
      ]
     },
     "execution_count": 83,
     "metadata": {},
     "output_type": "execute_result"
    }
   ],
   "source": [
    "typeof(σy)"
   ]
  },
  {
   "cell_type": "code",
   "execution_count": 108,
   "metadata": {},
   "outputs": [
    {
     "data": {
      "text/plain": [
       "Matrix{Complex{Int64}} (alias for Array{Complex{Int64}, 2})"
      ]
     },
     "execution_count": 108,
     "metadata": {},
     "output_type": "execute_result"
    }
   ],
   "source": [
    "typeof( convert(Matrix{Complex{Int64}}, σy) )"
   ]
  },
  {
   "cell_type": "code",
   "execution_count": null,
   "metadata": {},
   "outputs": [],
   "source": []
  },
  {
   "cell_type": "code",
   "execution_count": 121,
   "metadata": {},
   "outputs": [
    {
     "ename": "LoadError",
     "evalue": "MethodError: \u001b[0mCannot `convert` an object of type \u001b[92mComplex{Int64}\u001b[39m\u001b[0m to an object of type \u001b[91mMatrix{Complex{Int64}}\u001b[39m\n\u001b[0mClosest candidates are:\n\u001b[0m  convert(::Type{Array{T, N}}, \u001b[91m::StaticArrays.SizedArray{S, T, N, N, Array{T, N}}\u001b[39m) where {S, T, N} at /Users/newberry/.julia/packages/StaticArrays/aMe0r/src/SizedArray.jl:120\n\u001b[0m  convert(::Type{Array{T, N}}, \u001b[91m::StaticArrays.SizedArray{S, T, N, M, TData} where {M, TData<:AbstractArray{T, M}}\u001b[39m) where {T, S, N} at /Users/newberry/.julia/packages/StaticArrays/aMe0r/src/SizedArray.jl:114\n\u001b[0m  convert(::Type{T}, \u001b[91m::AbstractArray\u001b[39m) where T<:Array at array.jl:532\n\u001b[0m  ...",
     "output_type": "error",
     "traceback": [
      "MethodError: \u001b[0mCannot `convert` an object of type \u001b[92mComplex{Int64}\u001b[39m\u001b[0m to an object of type \u001b[91mMatrix{Complex{Int64}}\u001b[39m\n\u001b[0mClosest candidates are:\n\u001b[0m  convert(::Type{Array{T, N}}, \u001b[91m::StaticArrays.SizedArray{S, T, N, N, Array{T, N}}\u001b[39m) where {S, T, N} at /Users/newberry/.julia/packages/StaticArrays/aMe0r/src/SizedArray.jl:120\n\u001b[0m  convert(::Type{Array{T, N}}, \u001b[91m::StaticArrays.SizedArray{S, T, N, M, TData} where {M, TData<:AbstractArray{T, M}}\u001b[39m) where {T, S, N} at /Users/newberry/.julia/packages/StaticArrays/aMe0r/src/SizedArray.jl:114\n\u001b[0m  convert(::Type{T}, \u001b[91m::AbstractArray\u001b[39m) where T<:Array at array.jl:532\n\u001b[0m  ...",
      "",
      "Stacktrace:",
      " [1] setindex!(A::Vector{Matrix{Complex{Int64}}}, x::Complex{Int64}, i1::Int64)",
      "   @ Base ./array.jl:839",
      " [2] _append!(a::Vector{Matrix{Complex{Int64}}}, #unused#::Base.HasShape{2}, iter::Matrix{Complex{Int64}})",
      "   @ Base ./array.jl:991",
      " [3] append!(a::Vector{Matrix{Complex{Int64}}}, iter::Matrix{Complex{Int64}})",
      "   @ Base ./array.jl:981",
      " [4] top-level scope",
      "   @ In[121]:2",
      " [5] eval",
      "   @ ./boot.jl:360 [inlined]",
      " [6] include_string(mapexpr::typeof(REPL.softscope), mod::Module, code::String, filename::String)",
      "   @ Base ./loading.jl:1094"
     ]
    }
   ],
   "source": [
    "test = Matrix{Complex{Int64}}[]\n",
    "append!(test, convert(Matrix{Complex{Int64}}, σy))\n",
    "# append!(test, id)"
   ]
  },
  {
   "cell_type": "code",
   "execution_count": 85,
   "metadata": {},
   "outputs": [
    {
     "data": {
      "text/plain": [
       "4-element Vector{Complex{Int64}}:\n",
       " 0 + 0im\n",
       " 0 + 1im\n",
       " 0 - 1im\n",
       " 0 + 0im"
      ]
     },
     "execution_count": 85,
     "metadata": {},
     "output_type": "execute_result"
    }
   ],
   "source": [
    "test = Complex{Int64}[]\n",
    "append!(test, σy)\n",
    "# append!(test, id)"
   ]
  },
  {
   "cell_type": "code",
   "execution_count": 112,
   "metadata": {},
   "outputs": [
    {
     "data": {
      "text/plain": [
       "Matrix{T} where T[]"
      ]
     },
     "execution_count": 112,
     "metadata": {},
     "output_type": "execute_result"
    }
   ],
   "source": [
    "test = Matrix[]"
   ]
  },
  {
   "cell_type": "code",
   "execution_count": 120,
   "metadata": {},
   "outputs": [
    {
     "ename": "LoadError",
     "evalue": "MethodError: \u001b[0mCannot `convert` an object of type \n\u001b[0m  \u001b[92mInt64\u001b[39m\u001b[0m to an object of type \n\u001b[0m  \u001b[91mMatrix{T} where T\u001b[39m\n\u001b[0mClosest candidates are:\n\u001b[0m  convert(::Type{T}, \u001b[91m::AbstractArray\u001b[39m) where T<:Array at array.jl:532\n\u001b[0m  convert(::Type{T}, \u001b[91m::Factorization\u001b[39m) where T<:AbstractArray at /Users/julia/buildbot/worker/package_macos64/build/usr/share/julia/stdlib/v1.6/LinearAlgebra/src/factorization.jl:58\n\u001b[0m  convert(::Type{T}, \u001b[91m::T\u001b[39m) where T<:AbstractArray at abstractarray.jl:14\n\u001b[0m  ...",
     "output_type": "error",
     "traceback": [
      "MethodError: \u001b[0mCannot `convert` an object of type \n\u001b[0m  \u001b[92mInt64\u001b[39m\u001b[0m to an object of type \n\u001b[0m  \u001b[91mMatrix{T} where T\u001b[39m\n\u001b[0mClosest candidates are:\n\u001b[0m  convert(::Type{T}, \u001b[91m::AbstractArray\u001b[39m) where T<:Array at array.jl:532\n\u001b[0m  convert(::Type{T}, \u001b[91m::Factorization\u001b[39m) where T<:AbstractArray at /Users/julia/buildbot/worker/package_macos64/build/usr/share/julia/stdlib/v1.6/LinearAlgebra/src/factorization.jl:58\n\u001b[0m  convert(::Type{T}, \u001b[91m::T\u001b[39m) where T<:AbstractArray at abstractarray.jl:14\n\u001b[0m  ...",
      "",
      "Stacktrace:",
      " [1] setindex!(A::Vector{Matrix{T} where T}, x::Int64, i1::Int64)",
      "   @ Base ./array.jl:839",
      " [2] _append!(a::Vector{Matrix{T} where T}, #unused#::Base.HasShape{2}, iter::Matrix{Int64})",
      "   @ Base ./array.jl:991",
      " [3] append!(a::Vector{Matrix{T} where T}, iter::Matrix{Int64})",
      "   @ Base ./array.jl:981",
      " [4] top-level scope",
      "   @ In[120]:1",
      " [5] eval",
      "   @ ./boot.jl:360 [inlined]",
      " [6] include_string(mapexpr::typeof(REPL.softscope), mod::Module, code::String, filename::String)",
      "   @ Base ./loading.jl:1094"
     ]
    }
   ],
   "source": [
    "append!(test, [[1,2,3] [1,2,3]])"
   ]
  },
  {
   "cell_type": "code",
   "execution_count": null,
   "metadata": {},
   "outputs": [],
   "source": [
    "test[1]"
   ]
  },
  {
   "cell_type": "code",
   "execution_count": null,
   "metadata": {},
   "outputs": [],
   "source": []
  },
  {
   "cell_type": "code",
   "execution_count": 25,
   "metadata": {
    "scrolled": true
   },
   "outputs": [
    {
     "data": {
      "text/plain": [
       "Eigen{Float64, Float64, Matrix{Float64}, Vector{Float64}}\n",
       "values:\n",
       "16-element Vector{Float64}:\n",
       " -0.9999999999999999\n",
       " -0.9999999999999991\n",
       " -0.9999999999999991\n",
       " -0.9999999999999991\n",
       " -0.9999999999999991\n",
       " -0.9999999999999989\n",
       " -0.9999999999999987\n",
       " -0.9999999999999987\n",
       "  0.9999999999999999\n",
       "  0.9999999999999999\n",
       "  0.9999999999999999\n",
       "  0.9999999999999999\n",
       "  1.0\n",
       "  1.0\n",
       "  1.0000000000000002\n",
       "  1.0000000000000007\n",
       "vectors:\n",
       "16×16 Matrix{Float64}:\n",
       "  0.0718496     0.445932      0.543654     …   0.00419344   -0.0549316\n",
       " -0.0739935    -0.132711     -0.683182         0.0272224    -0.0071049\n",
       " -0.0909302    -0.60003       0.108079        -0.0296093    -0.110612\n",
       "  0.0165755     0.491912     -0.406604        -0.0789999    -0.133169\n",
       " -0.182423     -0.258941      0.0463206        0.19209      -0.231517\n",
       "  0.175919      0.184099     -0.184032     …   0.11957      -0.23401\n",
       " -0.014925      0.0221277    -0.0158098        0.120936     -0.0543207\n",
       "  0.0856793    -0.0460378     0.0220793        0.0359245     0.0255041\n",
       "  0.658094     -0.131598     -0.0717448       -0.44486       0.455877\n",
       " -0.525529      0.00806971    0.0450878       -0.140571      0.626745\n",
       " -0.388482      0.14277      -0.0501613    …  -0.584113     -0.156642\n",
       "  0.10729      -0.173739      0.10719         -0.454428     -0.422286\n",
       " -0.19051       0.065853     -0.0211282       -0.32229      -0.0647407\n",
       "  0.0322253    -0.0753599     0.0480753       -0.236195     -0.217519\n",
       "  1.29599e-17  -6.47996e-18   3.23998e-18     -2.59198e-17   0.0\n",
       "  0.0           0.0           0.0          …   0.0           0.0"
      ]
     },
     "execution_count": 25,
     "metadata": {},
     "output_type": "execute_result"
    }
   ],
   "source": [
    "#Psi0(L,g)\n",
    "A = ED.Psi0(4, 0.5)\n",
    "evals, evecs = eigen(A)"
   ]
  },
  {
   "cell_type": "code",
   "execution_count": null,
   "metadata": {},
   "outputs": [],
   "source": []
  },
  {
   "cell_type": "code",
   "execution_count": null,
   "metadata": {},
   "outputs": [],
   "source": [
    "for ti in 1:length(times)\n",
    "    print(\"ed: ti = $ti\\r\")\n",
    "    U = Diagonal(exp.(-im*times[ti].*vals))\n",
    "    ainfs[ti] = 1/(2^L)*tr(U'*sigxV*U*sigxV)\n",
    "end"
   ]
  },
  {
   "cell_type": "code",
   "execution_count": null,
   "metadata": {},
   "outputs": [],
   "source": []
  },
  {
   "cell_type": "code",
   "execution_count": null,
   "metadata": {},
   "outputs": [],
   "source": []
  },
  {
   "cell_type": "code",
   "execution_count": 41,
   "metadata": {},
   "outputs": [],
   "source": [
    "Ls = [6,8]\n",
    "gs = range(-.4,.4,length = 41)\n",
    "jx = 1.0\n",
    "tol = 1e-13\n",
    "\n",
    "for (Li,L) in enumerate(Ls), (gi,g) in enumerate(gs)\n",
    "\n",
    "    ham = ED.H(L,jx,0.0,g)\n",
    "    psi0 = ED.Psi0(L,g)\n",
    "    # @printf(\"g^L = %.2e, max of comm = %.2e \",g^L,maximum(abs.(ham*psi0 - psi0*ham)))\n",
    "    tmp = psi0*psi0\n",
    "#     println(tmp)\n",
    "    tmp2 = maximum(Diagonal(tmp))\n",
    "#     @test abs(tmp2 - 1.0) < tol\n",
    "end\n"
   ]
  },
  {
   "cell_type": "code",
   "execution_count": 43,
   "metadata": {},
   "outputs": [
    {
     "data": {
      "text/plain": [
       "16×16 Matrix{Float64}:\n",
       "  1.0           0.0           0.0          …   0.0           0.0\n",
       "  0.0           1.0           2.31066e-17      0.0           0.0\n",
       "  0.0           2.31066e-17   1.0             -1.44416e-18   0.0\n",
       " -2.31066e-17   0.0           0.0              0.0          -1.44416e-18\n",
       "  0.0           1.15533e-17   5.77664e-18      2.88832e-18   0.0\n",
       " -1.15533e-17   0.0           0.0          …   0.0           2.88832e-18\n",
       " -5.77664e-18   0.0           0.0              0.0          -5.77664e-18\n",
       "  0.0          -5.77664e-18   1.15533e-17      5.77664e-18   0.0\n",
       "  0.0           5.77664e-18   2.88832e-18     -5.77664e-18   0.0\n",
       " -5.77664e-18   0.0           0.0              0.0          -5.77664e-18\n",
       " -2.88832e-18   0.0           0.0          …   0.0           1.15533e-17\n",
       "  0.0          -2.88832e-18   5.77664e-18     -1.15533e-17   0.0\n",
       " -1.44416e-18   0.0           0.0              0.0          -2.31066e-17\n",
       "  0.0          -1.44416e-18   0.0              2.31066e-17   0.0\n",
       "  0.0           0.0          -1.44416e-18      1.0           0.0\n",
       "  0.0           0.0           0.0          …   0.0           1.0"
      ]
     },
     "execution_count": 43,
     "metadata": {},
     "output_type": "execute_result"
    }
   ],
   "source": [
    "g = 0.5\n",
    "L=4\n",
    "ham = ED.H(L,1.0,0.0,g)\n",
    "psi0 = ED.Psi0(L,g)\n",
    "# @printf(\"g^L = %.2e, max of comm = %.2e \",g^L,maximum(abs.(ham*psi0 - psi0*ham)))\n",
    "tmp = psi0*psi0"
   ]
  },
  {
   "cell_type": "code",
   "execution_count": 44,
   "metadata": {},
   "outputs": [
    {
     "data": {
      "text/plain": [
       "16×16 Matrix{Float64}:\n",
       "  1.0           0.0           0.0          …   0.0           0.0\n",
       "  0.0           1.0           2.31066e-17      0.0           0.0\n",
       "  0.0           2.31066e-17   1.0             -1.44416e-18   0.0\n",
       " -2.31066e-17   0.0           0.0              0.0          -1.44416e-18\n",
       "  0.0           1.15533e-17   5.77664e-18      2.88832e-18   0.0\n",
       " -1.15533e-17   0.0           0.0          …   0.0           2.88832e-18\n",
       " -5.77664e-18   0.0           0.0              0.0          -5.77664e-18\n",
       "  0.0          -5.77664e-18   1.15533e-17      5.77664e-18   0.0\n",
       "  0.0           5.77664e-18   2.88832e-18     -5.77664e-18   0.0\n",
       " -5.77664e-18   0.0           0.0              0.0          -5.77664e-18\n",
       " -2.88832e-18   0.0           0.0          …   0.0           1.15533e-17\n",
       "  0.0          -2.88832e-18   5.77664e-18     -1.15533e-17   0.0\n",
       " -1.44416e-18   0.0           0.0              0.0          -2.31066e-17\n",
       "  0.0          -1.44416e-18   0.0              2.31066e-17   0.0\n",
       "  0.0           0.0          -1.44416e-18      1.0           0.0\n",
       "  0.0           0.0           0.0          …   0.0           1.0"
      ]
     },
     "execution_count": 44,
     "metadata": {},
     "output_type": "execute_result"
    }
   ],
   "source": [
    "tmp"
   ]
  },
  {
   "cell_type": "code",
   "execution_count": null,
   "metadata": {},
   "outputs": [],
   "source": []
  },
  {
   "cell_type": "code",
   "execution_count": null,
   "metadata": {},
   "outputs": [],
   "source": []
  },
  {
   "cell_type": "code",
   "execution_count": null,
   "metadata": {},
   "outputs": [],
   "source": [
    "\"\"\"\n",
    "Binary `BitArray` representation of the given integer `num`, padded to length `N`.\n",
    "\"\"\"\n",
    "bit_rep(num::Integer, N::Integer) = BitArray(parse(Bool, i) for i in string(num, base=2, pad=N))\n",
    "\n",
    "\"\"\"\n",
    "    generate_basis(N::Integer) -> basis\n",
    "\n",
    "Generates a basis (`Vector{BitArray}`) spanning the Hilbert space of `N` spins.\n",
    "\"\"\"\n",
    "function generate_basis(N::Integer)\n",
    "    nstates = 2^N\n",
    "    basis = Vector{BitArray{1}}(undef, nstates)\n",
    "    for i in 0:nstates-1\n",
    "        basis[i+1] = bit_rep(i, N)\n",
    "    end\n",
    "    return basis\n",
    "end\n",
    "\n",
    "function GetHamiltonian(N::Int64,g::Float64,𝛾::Float64,J::Float64,Jz::Float64)\n",
    "    if N>12\n",
    "        return nothing\n",
    "    end\n",
    "    \n",
    "    # vector of operators: [σx, σx, id, ...]\n",
    "    first_term_ops = fill(id, N)\n",
    "    first_term_ops[1] = σx\n",
    "    first_term_ops[2] = σx\n",
    "    \n",
    "    # vector of operators: [σy, σy, id, ...]\n",
    "    second_term_ops = fill(id, N)\n",
    "    second_term_ops[1] = σy\n",
    "    second_term_ops[2] = σy\n",
    "    \n",
    "    # vector of operators: [σz, σz, id, ...]\n",
    "    third_term_ops = fill(id, N)\n",
    "    third_term_ops[1] = σz\n",
    "    third_term_ops[2] = σz\n",
    "    \n",
    "    # vector of operators: [σz, id, ...]\n",
    "    fourth_term_ops = fill(id, N)\n",
    "    fourth_term_ops[1] = σz\n",
    "    \n",
    "    H = zeros(Int, 2^N, 2^N)\n",
    "    # Term 1\n",
    "    for i in 1:N-1\n",
    "        # tensor multiply all operators\n",
    "        H -= J*((1+𝛾)/2) * foldl(⊗, first_term_ops)\n",
    "        # cyclic shift the operators\n",
    "        first_term_ops = circshift(first_term_ops,1)\n",
    "    end\n",
    "        \n",
    "    # Term 2\n",
    "    for i in 1:N-1\n",
    "        # tensor multiply all operators\n",
    "        H -= J*((1-𝛾)/2) * foldl(⊗, second_term_ops)\n",
    "        # cyclic shift the operators\n",
    "        second_term_ops = circshift(second_term_ops,1)\n",
    "    end\n",
    "        \n",
    "    # Term 3\n",
    "    for i in 1:N-1\n",
    "        # tensor multiply all operators\n",
    "        H -= Jz * foldl(⊗, third_term_ops)\n",
    "        # cyclic shift the operators\n",
    "        third_term_ops = circshift(third_term_ops,1)\n",
    "    end\n",
    "        \n",
    "    # Term 4 (only non-interaction term)\n",
    "    for i in 1:N\n",
    "        H -= g * foldl(⊗, fourth_term_ops)\n",
    "        fourth_term_ops = circshift(fourth_term_ops,1)\n",
    "    end\n",
    "    \n",
    "    return H\n",
    "end\n",
    "\n",
    "function get_σix(i::Int64, N::Int64)\n",
    "    ops = fill(id, N)\n",
    "    #ops[i] = σx\n",
    "    ops[end-i+1] = σx\n",
    "    return foldl(⊗, ops)\n",
    "end\n",
    "\n",
    "function get_Ainf_AN(L::Int64,g::Float64,jx::Float64,jz::Float64, \n",
    "        gamma::Float64,times::AbstractArray)\n",
    "    #=\n",
    "    Partially optimized. Refactored from Daniel Yates' code\n",
    "    =#\n",
    "    H = GetHamiltonian(L,g,gamma,jx,jz)\n",
    "    \n",
    "    ainfs = zeros(Complex{Float64}, length(times))\n",
    "    \n",
    "    sigx = get_σix(1, L)\n",
    "    \n",
    "    vals, vecs = eigen(H)\n",
    "    \n",
    "    H_d = zeros( size(H) )\n",
    "    for i in 1:size(vals)[1]\n",
    "        H_d[i,i] = vals[i]\n",
    "    end\n",
    "    \n",
    "    sigxV = vecs'*sigx*vecs\n",
    "    for ti in 1:length(times)\n",
    "        print(\"ed: ti = $ti\\r\")\n",
    "        U = Diagonal(exp.(-im*times[ti].*vals))\n",
    "        ainfs[ti] = 1/(2^L)*tr(U'*sigxV*U*sigxV)\n",
    "    end\n",
    "    return real.(ainfs)\n",
    "end"
   ]
  },
  {
   "cell_type": "code",
   "execution_count": null,
   "metadata": {},
   "outputs": [],
   "source": []
  }
 ],
 "metadata": {
  "kernelspec": {
   "display_name": "Julia 1.6.1",
   "language": "julia",
   "name": "julia-1.6"
  },
  "language_info": {
   "file_extension": ".jl",
   "mimetype": "application/julia",
   "name": "julia",
   "version": "1.6.1"
  }
 },
 "nbformat": 4,
 "nbformat_minor": 4
}
