{
 "cells": [
  {
   "cell_type": "code",
   "execution_count": 1,
   "metadata": {},
   "outputs": [
    {
     "name": "stderr",
     "output_type": "stream",
     "text": [
      "┌ Warning: PyPlot is using tkagg backend, which is known to cause crashes on MacOS (#410); use the MPLBACKEND environment variable to request a different backend.\n",
      "└ @ PyPlot /Users/newberry/.julia/packages/PyPlot/XHEG0/src/init.jl:192\n"
     ]
    },
    {
     "data": {
      "text/plain": [
       "⊗ (generic function with 1 method)"
      ]
     },
     "execution_count": 1,
     "metadata": {},
     "output_type": "execute_result"
    }
   ],
   "source": [
    "# `setup.jl` will load core packages including the ED package\n",
    "include(\"./src/setup.jl\")"
   ]
  },
  {
   "cell_type": "markdown",
   "metadata": {},
   "source": [
    "# Generating Ainf data"
   ]
  },
  {
   "cell_type": "code",
   "execution_count": 2,
   "metadata": {
    "scrolled": true
   },
   "outputs": [
    {
     "name": "stdout",
     "output_type": "stream",
     "text": [
      "2\n",
      "3d: ti = 200\n",
      "4d: ti = 200\n",
      "ed: ti = 320\r"
     ]
    },
    {
     "name": "stderr",
     "output_type": "stream",
     "text": [
      "Excessive output truncated after 524301 bytes."
     ]
    },
    {
     "name": "stdout",
     "output_type": "stream",
     "text": [
      "ed: ti = 33\r",
      "ed: ti = 34\r",
      "ed: ti = 35\r",
      "ed: ti = 36\r",
      "ed: ti = 37\r",
      "ed: ti = 38\r",
      "ed: ti = 39\r",
      "ed: ti = 40\r",
      "ed: ti = 41\r",
      "ed: ti = 42\r",
      "ed: ti = 43\r",
      "ed: ti = 44\r",
      "ed: ti = 45\r",
      "ed: ti = 46\r",
      "ed: ti = 47\r",
      "ed: ti = 48\r",
      "ed: ti = 49\r",
      "ed: ti = 50\r",
      "ed: ti = 51\r",
      "ed: ti = 52\r",
      "ed: ti = 53\r",
      "ed: ti = 54\r",
      "ed: ti = 55\r",
      "ed: ti = 56\r",
      "ed: ti = 57\r",
      "ed: ti = 58\r",
      "ed: ti = 59\r",
      "ed: ti = 60\r",
      "ed: ti = 61\r",
      "ed: ti = 62\r",
      "ed: ti = 63\r",
      "ed: ti = 64\r",
      "ed: ti = 65\r",
      "ed: ti = 66\r",
      "ed: ti = 67\r",
      "ed: ti = 68\r",
      "ed: ti = 69\r",
      "ed: ti = 70\r",
      "ed: ti = 71\r",
      "ed: ti = 72\r",
      "ed: ti = 73\r",
      "ed: ti = 74\r",
      "ed: ti = 75\r",
      "ed: ti = 76\r",
      "ed: ti = 77\r",
      "ed: ti = 78\r",
      "ed: ti = 79\r",
      "ed: ti = 80\r"
     ]
    }
   ],
   "source": [
    "L_list = [2, 3, 4, 5, 6, 7, 8, 9, 10, 11, 12]\n",
    "gamma_list = [0.1, 0.2, 0.3, 0.4, 0.5, 0.6, 0.7, 0.8, 0.9]\n",
    "jz_list = [0, 0.01, 0.03, 0.05, 0.07, 0.09, 0.1, 0.2, 0.3]\n",
    "jx = 1.0\n",
    "g = 0.3\n",
    "\n",
    "# Logarithmic time scale for Ainf, default from 0.1 to 10000\n",
    "t_list = 10.0 .^(range(-1,stop=4,length=200))\n",
    "\n",
    "Ainfs_dict = Dict()\n",
    "\n",
    "for (L_i, L) in enumerate(L_list)\n",
    "    println(L)\n",
    "    for (jz_i, jz) in enumerate(jz_list)\n",
    "        for (gamma_i, gamma) in enumerate(gamma_list)\n",
    "            Ainf = ED.get_Ainf(L, g, jx, jz, gamma, t_list)\n",
    "            Ainfs_dict[L, jz, gamma] = Ainf\n",
    "        end\n",
    "    end\n",
    "end"
   ]
  },
  {
   "cell_type": "code",
   "execution_count": 12,
   "metadata": {
    "scrolled": true
   },
   "outputs": [
    {
     "name": "stdout",
     "output_type": "stream",
     "text": [
      "2\n",
      "ed: ti = 172\r"
     ]
    },
    {
     "name": "stderr",
     "output_type": "stream",
     "text": [
      "Excessive output truncated after 524297 bytes."
     ]
    },
    {
     "name": "stdout",
     "output_type": "stream",
     "text": [
      "ed: ti = 173\r",
      "ed: ti = 174\r",
      "ed: ti = 175\r",
      "ed: ti = 176\r",
      "ed: ti = 177\r",
      "ed: ti = 178\r",
      "ed: ti = 179\r",
      "ed: ti = 180\r",
      "ed: ti = 181\r",
      "ed: ti = 182\r",
      "ed: ti = 183\r",
      "ed: ti = 184\r",
      "ed: ti = 185\r",
      "ed: ti = 186\r",
      "ed: ti = 187\r",
      "ed: ti = 188\r",
      "ed: ti = 189\r",
      "ed: ti = 190\r",
      "ed: ti = 191\r",
      "ed: ti = 192\r",
      "ed: ti = 193\r",
      "ed: ti = 194\r",
      "ed: ti = 195\r",
      "ed: ti = 196\r",
      "ed: ti = 197\r",
      "ed: ti = 198\r",
      "ed: ti = 199\r",
      "ed: ti = 200\r",
      "ed: ti = 1\r",
      "ed: ti = 2\r",
      "ed: ti = 3\r",
      "ed: ti = 4\r",
      "ed: ti = 5\r",
      "ed: ti = 6\r",
      "ed: ti = 7\r",
      "ed: ti = 8\r",
      "ed: ti = 9\r",
      "ed: ti = 10\r",
      "ed: ti = 11\r",
      "ed: ti = 12\r",
      "ed: ti = 13\r",
      "ed: ti = 14\r",
      "ed: ti = 15\r",
      "ed: ti = 16\r",
      "ed: ti = 17\r",
      "ed: ti = 18\r",
      "ed: ti = 19\r",
      "ed: ti = 20\r",
      "ed: ti = 21\r",
      "ed: ti = 22\r",
      "ed: ti = 23\r",
      "ed: ti = 24\r",
      "ed: ti = 25\r",
      "ed: ti = 26\r",
      "ed: ti = 27\r",
      "ed: ti = 28\r",
      "ed: ti = 29\r",
      "ed: ti = 30\r",
      "ed: ti = 31\r",
      "ed: ti = 32\r",
      "ed: ti = 33\r",
      "ed: ti = 34\r",
      "ed: ti = 35\r",
      "ed: ti = 36\r",
      "ed: ti = 37\r",
      "ed: ti = 38\r",
      "ed: ti = 39\r",
      "ed: ti = 40\r",
      "ed: ti = 41\r",
      "ed: ti = 42\r",
      "ed: ti = 43\r",
      "ed: ti = 44\r",
      "ed: ti = 45\r",
      "ed: ti = 46\r",
      "ed: ti = 47\r",
      "ed: ti = 48\r",
      "ed: ti = 49\r",
      "ed: ti = 50\r",
      "ed: ti = 51\r",
      "ed: ti = 52\r",
      "ed: ti = 53\r",
      "ed: ti = 54\r",
      "ed: ti = 55\r",
      "ed: ti = 56\r",
      "ed: ti = 57\r",
      "ed: ti = 58\r",
      "ed: ti = 59\r",
      "ed: ti = 60\r",
      "ed: ti = 61\r",
      "ed: ti = 62\r",
      "ed: ti = 63\r",
      "ed: ti = 64\r",
      "ed: ti = 65\r",
      "ed: ti = 66\r",
      "ed: ti = 67\r",
      "ed: ti = 68\r",
      "ed: ti = 69\r",
      "ed: ti = 70\r",
      "ed: ti = 71\r",
      "ed: ti = 72\r",
      "ed: ti = 73\r",
      "ed: ti = 74\r",
      "ed: ti = 75\r",
      "ed: ti = 76\r",
      "ed: ti = 77\r",
      "ed: ti = 78\r",
      "ed: ti = 79\r",
      "ed: ti = 80\r"
     ]
    }
   ],
   "source": [
    "L_list = [2, 3, 4, 5, 6, 7, 8, 9, 10]\n",
    "L_list = [11, 12]\n",
    "gamma_list = [0.1, 0.2, 0.3, 0.4, 0.5, 0.6, 0.7, 0.8, 0.9]\n",
    "jz_list = [0, 0.1, 0.2, 0.3, 0.4, 0.5, 0.7, 0.9]\n",
    "jx = 1.0\n",
    "g_list = [0.1, 0.2, 0.3, 0.4, 0.5, 0.7, 0.9]\n",
    "\n",
    "# Logarithmic time scale for Ainf, default from 0.1 to 10000\n",
    "t_list = 10.0 .^(range(-1,stop=4,length=200))\n",
    "\n",
    "Ainfs_dict = Dict()\n",
    "\n",
    "for (L_i, L) in enumerate(L_list)\n",
    "    println(L)\n",
    "    for (jz_i, jz) in enumerate(jz_list)\n",
    "        for (gamma_i, gamma) in enumerate(gamma_list)\n",
    "            for (g_i, g) in enumerate(g_list)\n",
    "                Ainf = ED.get_Ainf(L, g, jx, jz, gamma, t_list)\n",
    "                Ainfs_dict[L, jz, gamma, g] = Ainf\n",
    "            end\n",
    "        end\n",
    "    end\n",
    "end"
   ]
  },
  {
   "cell_type": "code",
   "execution_count": 13,
   "metadata": {},
   "outputs": [
    {
     "data": {
      "text/plain": [
       "Dict{Any, Any} with 4536 entries:\n",
       "  (10, 0.2, 0.4, 0.1) => [0.997208, 0.996866, 0.996483, 0.996054, 0.995572, 0.9…\n",
       "  (3, 0.7, 0.6, 0.5)  => [0.98452, 0.982637, 0.980528, 0.978165, 0.97552, 0.972…\n",
       "  (6, 0.1, 0.3, 0.9)  => [0.981269, 0.978988, 0.976431, 0.973566, 0.970356, 0.9…\n",
       "  (4, 0.4, 0.3, 0.1)  => [0.994173, 0.993461, 0.992663, 0.991767, 0.990764, 0.9…\n",
       "  (3, 0.4, 0.3, 0.7)  => [0.984659, 0.982792, 0.9807, 0.978356, 0.97573, 0.9727…\n",
       "  (3, 0.3, 0.2, 0.2)  => [0.994221, 0.993515, 0.992723, 0.991835, 0.990839, 0.9…\n",
       "  (8, 0.0, 0.7, 0.2)  => [0.998754, 0.998602, 0.998431, 0.998239, 0.998024, 0.9…\n",
       "  (4, 0.9, 0.8, 0.2)  => [0.982908, 0.980826, 0.978492, 0.975878, 0.972948, 0.9…\n",
       "  (6, 0.4, 0.8, 0.1)  => [0.996413, 0.995975, 0.995483, 0.994932, 0.994314, 0.9…\n",
       "  (5, 0.5, 0.8, 0.3)  => [0.993035, 0.992186, 0.991233, 0.990165, 0.988968, 0.9…\n",
       "  (7, 0.1, 0.3, 0.2)  => [0.996559, 0.996138, 0.995666, 0.995136, 0.994542, 0.9…\n",
       "  (6, 0.4, 0.1, 0.7)  => [0.983072, 0.981012, 0.978704, 0.976118, 0.973222, 0.9…\n",
       "  (2, 0.9, 0.3, 0.2)  => [0.980651, 0.978291, 0.975645, 0.97268, 0.969356, 0.96…\n",
       "  (8, 0.3, 0.3, 0.1)  => [0.995565, 0.995022, 0.994414, 0.993732, 0.992968, 0.9…\n",
       "  (10, 0.3, 0.4, 0.3) => [0.994622, 0.993965, 0.993229, 0.992403, 0.991477, 0.9…\n",
       "  (5, 0.1, 0.1, 0.4)  => [0.992575, 0.991668, 0.99065, 0.989509, 0.988229, 0.98…\n",
       "  (7, 0.4, 0.4, 0.7)  => [0.985304, 0.983515, 0.981511, 0.979265, 0.97675, 0.97…\n",
       "  (8, 0.2, 0.6, 0.4)  => [0.99522, 0.994637, 0.993982, 0.993248, 0.992426, 0.99…\n",
       "  (2, 0.1, 0.5, 0.4)  => [0.995365, 0.994798, 0.994163, 0.99345, 0.992651, 0.99…\n",
       "  (5, 0.7, 0.3, 0.1)  => [0.987619, 0.98611, 0.984417, 0.982521, 0.980396, 0.97…\n",
       "  (4, 0.7, 0.5, 0.7)  => [0.979351, 0.976845, 0.97404, 0.970899, 0.967384, 0.96…\n",
       "  (7, 0.0, 0.9, 0.7)  => [0.990199, 0.989003, 0.987663, 0.98616, 0.984476, 0.98…\n",
       "  (3, 0.7, 0.2, 0.3)  => [0.985301, 0.983512, 0.981506, 0.97926, 0.976743, 0.97…\n",
       "  (2, 0.7, 0.4, 0.1)  => [0.988237, 0.986799, 0.985186, 0.983377, 0.981348, 0.9…\n",
       "  (9, 0.9, 0.3, 0.2)  => [0.98069, 0.97834, 0.975707, 0.972758, 0.969454, 0.965…\n",
       "  ⋮                   => ⋮"
      ]
     },
     "execution_count": 13,
     "metadata": {},
     "output_type": "execute_result"
    }
   ],
   "source": [
    "Ainfs_dict"
   ]
  },
  {
   "cell_type": "code",
   "execution_count": 14,
   "metadata": {},
   "outputs": [],
   "source": [
    "using JLD\n",
    "\n",
    "save(\"data/Ainfs_dict_low_gamma_g.jld\", \n",
    "    \"Ainfs_dict\", Ainfs_dict, \n",
    "    \"t_list\", t_list, \n",
    "    \"L_list\", L_list, \n",
    "    \"jz_list\", jz_list,\n",
    "    \"gamma_list\", gamma_list, \n",
    "    \"jx_list\", [1.0],\n",
    "    \"g_list\", g_list)"
   ]
  },
  {
   "cell_type": "code",
   "execution_count": null,
   "metadata": {},
   "outputs": [],
   "source": [
    "test = load( \"Ainfs_dict_v2.jld\"  )\n",
    "test[\"Ainfs_dict\"] == Ainfs_dict"
   ]
  },
  {
   "cell_type": "markdown",
   "metadata": {},
   "source": [
    "# Generating Ainf data 2"
   ]
  },
  {
   "cell_type": "code",
   "execution_count": 5,
   "metadata": {},
   "outputs": [
    {
     "data": {
      "text/plain": [
       "get_Ainf (generic function with 1 method)"
      ]
     },
     "execution_count": 5,
     "metadata": {},
     "output_type": "execute_result"
    }
   ],
   "source": [
    "ED.get_Ainf"
   ]
  },
  {
   "cell_type": "code",
   "execution_count": null,
   "metadata": {},
   "outputs": [],
   "source": [
    "function get_Ayy_inf(L::Int64,g::Float64,jx::Float64,jz::Float64, gamma::Float64,times::AbstractArray)\n",
    "    #=\n",
    "    Unoptimized autocorrelation for y1-y1\n",
    "    =#\n",
    "    ainfs = zeros(Complex{Float64}, length(times))\n",
    "    sigx = sigX(L,1)\n",
    "    sigz = sigZ(L,1)\n",
    "    sigy = im.*(sigz*sigx)\n",
    "    us,vs = eigen(H_Delta(L,jx,jz,g,gamma))\n",
    "    sigyV = vs'*sigy*vs\n",
    "    for ti in 1:length(times)\n",
    "        print(\"ed: ti = $ti\\r\")\n",
    "        U = Diagonal(exp.(-im*times[ti].*us))\n",
    "        ainfs[ti] = 1/(2^L)*tr(U'*sigyV*U*sigyV)\n",
    "    end\n",
    "    return real.(ainfs)\n",
    "end\n",
    "\n",
    "function get_Ainf(L::Int64,g::Float64,jx::Float64,jz::Float64, gamma::Float64,times::AbstractArray)\n",
    "    #=\n",
    "    This is partially optimized.\n",
    "    =#\n",
    "    ainfs = zeros(Complex{Float64}, length(times))\n",
    "    sigx = Complex{Float64}.(sigX(L,1))\n",
    "    us,vs = get_uvs(L,g,jx,jz,gamma)\n",
    "    sigxV = vs'*sigx*vs\n",
    "    for ti in 1:length(times)\n",
    "        print(\"ed: ti = $ti\\r\")\n",
    "        U = Diagonal(exp.(-im*times[ti].*us))\n",
    "        ainfs[ti] = 1/(2^L)*tr(U'*sigxV*U*sigxV)\n",
    "    end\n",
    "    return real.(ainfs)\n",
    "end"
   ]
  },
  {
   "cell_type": "code",
   "execution_count": null,
   "metadata": {},
   "outputs": [],
   "source": []
  },
  {
   "cell_type": "code",
   "execution_count": 14,
   "metadata": {
    "scrolled": true
   },
   "outputs": [
    {
     "name": "stdout",
     "output_type": "stream",
     "text": [
      "2\n",
      "3d: ti = 200\n",
      "4d: ti = 200\n",
      "ed: ti = 188\r"
     ]
    },
    {
     "name": "stderr",
     "output_type": "stream",
     "text": [
      "Excessive output truncated after 524301 bytes."
     ]
    },
    {
     "name": "stdout",
     "output_type": "stream",
     "text": [
      "ed: ti = 189\r",
      "ed: ti = 190\r",
      "ed: ti = 191\r",
      "ed: ti = 192\r",
      "ed: ti = 193\r",
      "ed: ti = 194\r",
      "ed: ti = 195\r",
      "ed: ti = 196\r",
      "ed: ti = 197\r",
      "ed: ti = 198\r",
      "ed: ti = 199\r",
      "ed: ti = 200\r",
      "ed: ti = 1\r",
      "ed: ti = 2\r",
      "ed: ti = 3\r",
      "ed: ti = 4\r",
      "ed: ti = 5\r",
      "ed: ti = 6\r",
      "ed: ti = 7\r",
      "ed: ti = 8\r",
      "ed: ti = 9\r",
      "ed: ti = 10\r",
      "ed: ti = 11\r",
      "ed: ti = 12\r",
      "ed: ti = 13\r",
      "ed: ti = 14\r",
      "ed: ti = 15\r",
      "ed: ti = 16\r",
      "ed: ti = 17\r",
      "ed: ti = 18\r",
      "ed: ti = 19\r",
      "ed: ti = 20\r",
      "ed: ti = 21\r",
      "ed: ti = 22\r",
      "ed: ti = 23\r",
      "ed: ti = 24\r",
      "ed: ti = 25\r",
      "ed: ti = 26\r",
      "ed: ti = 27\r",
      "ed: ti = 28\r",
      "ed: ti = 29\r",
      "ed: ti = 30\r",
      "ed: ti = 31\r",
      "ed: ti = 32\r",
      "ed: ti = 33\r",
      "ed: ti = 34\r",
      "ed: ti = 35\r",
      "ed: ti = 36\r",
      "ed: ti = 37\r",
      "ed: ti = 38\r",
      "ed: ti = 39\r",
      "ed: ti = 40\r",
      "ed: ti = 41\r",
      "ed: ti = 42\r",
      "ed: ti = 43\r",
      "ed: ti = 44\r",
      "ed: ti = 45\r",
      "ed: ti = 46\r",
      "ed: ti = 47\r",
      "ed: ti = 48\r",
      "ed: ti = 49\r",
      "ed: ti = 50\r",
      "ed: ti = 51\r",
      "ed: ti = 52\r",
      "ed: ti = 53\r",
      "ed: ti = 54\r",
      "ed: ti = 55\r",
      "ed: ti = 56\r",
      "ed: ti = 57\r",
      "ed: ti = 58\r",
      "ed: ti = 59\r",
      "ed: ti = 60\r",
      "ed: ti = 61\r",
      "ed: ti = 62\r",
      "ed: ti = 63\r",
      "ed: ti = 64\r",
      "ed: ti = 65\r",
      "ed: ti = 66\r",
      "ed: ti = 67\r",
      "ed: ti = 68\r",
      "ed: ti = 69\r",
      "ed: ti = 70\r",
      "ed: ti = 71\r",
      "ed: ti = 72\r",
      "ed: ti = 73\r",
      "ed: ti = 74\r",
      "ed: ti = 75\r",
      "ed: ti = 76\r",
      "ed: ti = 77\r",
      "ed: ti = 78\r",
      "ed: ti = 79\r",
      "ed: ti = 80\r"
     ]
    }
   ],
   "source": [
    "L_list = [2, 3, 4, 5, 6, 7, 8, 9, 10, 11, 12]\n",
    "gamma_list = [0.1, 0.2, 0.3, 0.4, 0.5, 0.6, 0.7, 0.8, 0.9]\n",
    "jz_list = [0, 0.01, 0.03, 0.05, 0.07, 0.09, 0.1, 0.2, 0.3]\n",
    "jx = 1.0\n",
    "g = 0.3\n",
    "\n",
    "# Logarithmic time scale for Ainf, default from 0.1 to 10000\n",
    "t_list = 10.0 .^(range(-1,stop=4,length=200))\n",
    "\n",
    "Ainfs_dict = Dict()\n",
    "\n",
    "for (L_i, L) in enumerate(L_list)\n",
    "    println(L)\n",
    "    for (jz_i, jz) in enumerate(jz_list)\n",
    "        for (gamma_i, gamma) in enumerate(gamma_list)\n",
    "            Ainf = ED.get_Ayy_inf(L, g, jx, jz, gamma, t_list)\n",
    "            Ainfs_dict[L, jz, gamma] = Ainf\n",
    "        end\n",
    "    end\n",
    "end"
   ]
  },
  {
   "cell_type": "code",
   "execution_count": 12,
   "metadata": {},
   "outputs": [],
   "source": [
    "using JLD"
   ]
  },
  {
   "cell_type": "code",
   "execution_count": 13,
   "metadata": {},
   "outputs": [],
   "source": [
    "save(\"data/Ainfs_dict_sigy_v2.jld\", \n",
    "    \"Ainfs_dict\", Ainfs_dict, \n",
    "    \"t_list\", t_list, \n",
    "    \"L_list\", L_list, \n",
    "    \"jz_list\", jz_list,\n",
    "    \"gamma_list\", gamma_list, \n",
    "    \"jx\", 1.0,\n",
    "    \"g\", g)"
   ]
  },
  {
   "cell_type": "code",
   "execution_count": 9,
   "metadata": {},
   "outputs": [
    {
     "data": {
      "text/plain": [
       "Dict{String, Any} with 7 entries:\n",
       "  \"g\"          => 0.3\n",
       "  \"jz_list\"    => [0.0, 0.01, 0.03, 0.05, 0.07, 0.09, 0.1, 0.2, 0.3]\n",
       "  \"L_list\"     => [2, 3, 4, 5, 6, 7, 8, 9]\n",
       "  \"jx\"         => 1.0\n",
       "  \"Ainfs_dict\" => Dict{Any, Any}((4, 0.3, 0.2)=>[0.989245, 0.987932, 0.98646, 0…\n",
       "  \"gamma_list\" => [0.1, 0.2, 0.3, 0.4, 0.5, 0.6, 0.7, 0.8, 0.9]\n",
       "  \"t_list\"     => [0.1, 0.105956, 0.112267, 0.118953, 0.126038, 0.133545, 0.141…"
      ]
     },
     "execution_count": 9,
     "metadata": {},
     "output_type": "execute_result"
    }
   ],
   "source": [
    "test = load( \"Ainfs_dict_sigy_v1.jld\"  )"
   ]
  },
  {
   "cell_type": "code",
   "execution_count": 10,
   "metadata": {},
   "outputs": [
    {
     "data": {
      "text/plain": [
       "true"
      ]
     },
     "execution_count": 10,
     "metadata": {},
     "output_type": "execute_result"
    }
   ],
   "source": [
    "test[\"Ainfs_dict\"] == Ainfs_dict"
   ]
  },
  {
   "cell_type": "code",
   "execution_count": null,
   "metadata": {},
   "outputs": [],
   "source": []
  }
 ],
 "metadata": {
  "kernelspec": {
   "display_name": "Julia 1.6.1",
   "language": "julia",
   "name": "julia-1.6"
  },
  "language_info": {
   "file_extension": ".jl",
   "mimetype": "application/julia",
   "name": "julia",
   "version": "1.6.1"
  }
 },
 "nbformat": 4,
 "nbformat_minor": 4
}
