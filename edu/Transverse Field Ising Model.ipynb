{
 "cells": [
  {
   "cell_type": "markdown",
   "metadata": {},
   "source": [
    "Greek Letters:\n",
    "    \tσ τ Ψ Θ δ ξ μ ω \n",
    "        \n",
    "References:\n",
    "    https://arxiv.org/pdf/hep-th/9810032.pdf\n",
    "    https://juliaphysics.github.io/PhysicsTutorials.jl/tutorials/general/quantum_ising/quantum_ising.html"
   ]
  },
  {
   "cell_type": "markdown",
   "metadata": {},
   "source": [
    "$$ H=−\\sum\\limits_{⟨i,j⟩} σ^{z}_{i}⊗σ^{z}_{j}−h \\sum\\limits_{i} σ^{x}_{i} $$\n",
    "\n",
    "Definitions:\n",
    "\n",
    "$\\mathbb{1} = 2x2 Identity$\n",
    "\n",
    "$σ^{\\alpha}_{i} = \\mathbb{1} ⊗ \\mathbb{1} ⊗ ... ⊗ \\mathbb{1} ⊗ σ^{\\alpha} ⊗ \\mathbb{1} ⊗ ... ⊗ \\mathbb{1}$ (with $σ^{\\alpha}$ at position 'i' in the kronecker product chain)\n",
    "\n",
    "$\\sum\\limits_{⟨i,j⟩}$ indicates that we only spin neighbors interact. (⟨i,j⟩ -> <1,2>, <2,3>, ...)"
   ]
  },
  {
   "cell_type": "markdown",
   "metadata": {},
   "source": [
    "Transverse Ising Field Model:\n",
    "\n",
    "In a nutshell, this system is interesting because the $σ^{z}_{i}⊗σ^{z}_{j}$ term favors aligned spins and competes with the $h σ^{x}_{i}$ term which favors spins in the x direction $|\\rightarrow> = \\frac{|↑>+|↓>}{\\sqrt{2}}$. Note |→> is an eigenstate of σx. The competition arises because $[σ^{x},σ^{z}]≠0$."
   ]
  },
  {
   "cell_type": "code",
   "execution_count": 45,
   "metadata": {},
   "outputs": [],
   "source": [
    "id = [[1 0] ; [0 1]].+0im;\n",
    "σx = [[0 1] ; [1 0]].+0im;\n",
    "σy = [[0 -im] ; [im 0]];\n",
    "σz = [[1 0] ; [0 -1]].+0im;\n",
    "\n",
    "# kron(x,y) return kronecker product (tensor product) of 2 ndim matrices\n",
    "⊗(x,y) = kron(x,y);\n",
    "\n",
    "# σ1x = σx⊗id # Example tensor product\n",
    "# foldl(⊗, [σx,σx,σx]) # Shorthand for σx⊗σx⊗σx"
   ]
  },
  {
   "cell_type": "markdown",
   "metadata": {},
   "source": [
    "$$ H_4 =−σ^{z}_{1} σ^{z}_{2} I_3 I_4 −I_1 σ^{z}_{2} σ^{z}_{3} I_4 − I_1 I_2 σ^{z}_{3} σ^{z}_{4}−h(σ^{x}_{1} I_2 I_3 I_4 + I_1 σ^{x}_{2} I_3 I_4 + I_1 I_2 σ^{x}_{3} I_4 + I_1 I_2 I_3 σ^{x}_{4}) $$\n",
    "\n",
    "Note, for the two site problem:\n",
    "$ σ^{x}_{1} = σ^{x} ⊗ \\mathbb{1} $,\n",
    "$ σ^{x}_{2} = \\mathbb{1} ⊗ σ^{x} $"
   ]
  },
  {
   "cell_type": "code",
   "execution_count": 44,
   "metadata": {},
   "outputs": [
    {
     "ename": "LoadError",
     "evalue": "UndefVarError: id not defined",
     "output_type": "error",
     "traceback": [
      "UndefVarError: id not defined",
      "",
      "Stacktrace:",
      " [1] top-level scope",
      "   @ In[44]:3",
      " [2] eval",
      "   @ ./boot.jl:360 [inlined]",
      " [3] include_string(mapexpr::typeof(REPL.softscope), mod::Module, code::String, filename::String)",
      "   @ Base ./loading.jl:1094"
     ]
    }
   ],
   "source": [
    "# Explicit 4-site Hamiltonian construction\n",
    "h = 1\n",
    "H = - σz⊗σz⊗id⊗id - id⊗σz⊗σz⊗id - id⊗id⊗σz⊗σz\n",
    "H -= h*(σx⊗id⊗id⊗id + id⊗σx⊗id⊗id + id⊗id⊗σx⊗id + id⊗id⊗id⊗σx)"
   ]
  },
  {
   "cell_type": "code",
   "execution_count": 9,
   "metadata": {},
   "outputs": [
    {
     "data": {
      "text/plain": [
       "TransverseFieldIsing (generic function with 1 method)"
      ]
     },
     "execution_count": 9,
     "metadata": {},
     "output_type": "execute_result"
    }
   ],
   "source": [
    "function TransverseFieldIsing(;N,h)\n",
    "    # vector of operators: [σᶻ, σᶻ, id, ...]\n",
    "    first_term_ops = fill(id, N)\n",
    "    first_term_ops[1] = σz\n",
    "    first_term_ops[2] = σz\n",
    "    \n",
    "    # vector of operators: [σˣ, id, ...]\n",
    "    second_term_ops = fill(id, N)\n",
    "    second_term_ops[1] = σx\n",
    "    \n",
    "    H = zeros(Int, 2^N, 2^N)\n",
    "    for i in 1:N-1\n",
    "        # tensor multiply all operators\n",
    "        H -= foldl(⊗, first_term_ops)\n",
    "        # cyclic shift the operators\n",
    "        first_term_ops = circshift(first_term_ops,1)\n",
    "    end\n",
    "    \n",
    "    for i in 1:N\n",
    "        H -= h*foldl(⊗, second_term_ops)\n",
    "        second_term_ops = circshift(second_term_ops,1)\n",
    "    end\n",
    "    H\n",
    "end"
   ]
  },
  {
   "cell_type": "code",
   "execution_count": 16,
   "metadata": {},
   "outputs": [
    {
     "data": {
      "text/plain": [
       "4×4 Matrix{Complex{Int64}}:\n",
       " -1+0im  -1+0im  -1+0im   0+0im\n",
       " -1+0im   1+0im   0+0im  -1+0im\n",
       " -1+0im   0+0im   1+0im  -1+0im\n",
       "  0+0im  -1+0im  -1+0im  -1+0im"
      ]
     },
     "execution_count": 16,
     "metadata": {},
     "output_type": "execute_result"
    }
   ],
   "source": [
    "H = TransverseFieldIsing(N=2,h=1)"
   ]
  },
  {
   "cell_type": "markdown",
   "metadata": {},
   "source": [
    "$$ H=−\\sum\\limits_{⟨i,j⟩} σ^{z}_{i}⊗σ^{z}_{j}−h \\sum\\limits_{i} σ^{x}_{i} $$"
   ]
  },
  {
   "cell_type": "markdown",
   "metadata": {},
   "source": [
    "Many particle basis, arbitrarily choose following convention: $0=false=↓$ and $1=true=↑$\n",
    "\n",
    "Many spin basis states can be recorded in a single bit array, \n",
    "\n",
    "example: for N=4: $|0010⟩=|false,false,true,false⟩=|↓↓↑↓>$"
   ]
  },
  {
   "cell_type": "code",
   "execution_count": 23,
   "metadata": {},
   "outputs": [
    {
     "data": {
      "text/plain": [
       "generate_basis"
      ]
     },
     "execution_count": 23,
     "metadata": {},
     "output_type": "execute_result"
    }
   ],
   "source": [
    "\"\"\"\n",
    "Binary `BitArray` representation of the given integer `num`, padded to length `N`.\n",
    "\"\"\"\n",
    "bit_rep(num::Integer, N::Integer) = BitArray(parse(Bool, i) for i in string(num, base=2, pad=N))\n",
    "\n",
    "\"\"\"\n",
    "    generate_basis(N::Integer) -> basis\n",
    "\n",
    "Generates a basis (`Vector{BitArray}`) spanning the Hilbert space of `N` spins.\n",
    "\"\"\"\n",
    "function generate_basis(N::Integer)\n",
    "    nstates = 2^N\n",
    "    basis = Vector{BitArray{1}}(undef, nstates)\n",
    "    for i in 0:nstates-1\n",
    "        basis[i+1] = bit_rep(i, N)\n",
    "    end\n",
    "    return basis\n",
    "end"
   ]
  },
  {
   "cell_type": "code",
   "execution_count": 25,
   "metadata": {},
   "outputs": [
    {
     "data": {
      "text/plain": [
       "8-element Vector{BitVector}:\n",
       " [0, 0, 0]\n",
       " [0, 0, 1]\n",
       " [0, 1, 0]\n",
       " [0, 1, 1]\n",
       " [1, 0, 0]\n",
       " [1, 0, 1]\n",
       " [1, 1, 0]\n",
       " [1, 1, 1]"
      ]
     },
     "execution_count": 25,
     "metadata": {},
     "output_type": "execute_result"
    }
   ],
   "source": [
    "generate_basis(3)"
   ]
  },
  {
   "cell_type": "code",
   "execution_count": null,
   "metadata": {},
   "outputs": [],
   "source": []
  },
  {
   "cell_type": "code",
   "execution_count": null,
   "metadata": {},
   "outputs": [],
   "source": []
  },
  {
   "cell_type": "code",
   "execution_count": null,
   "metadata": {},
   "outputs": [],
   "source": []
  },
  {
   "cell_type": "code",
   "execution_count": 26,
   "metadata": {},
   "outputs": [
    {
     "name": "stderr",
     "output_type": "stream",
     "text": [
      "WARNING: using LinearAlgebra.I in module Main conflicts with an existing identifier.\n"
     ]
    },
    {
     "data": {
      "text/plain": [
       "TransverseFieldIsing_explicit (generic function with 1 method)"
      ]
     },
     "execution_count": 26,
     "metadata": {},
     "output_type": "execute_result"
    }
   ],
   "source": [
    "using LinearAlgebra\n",
    "\n",
    "function TransverseFieldIsing_explicit(; N::Integer, h::T=0) where T<:Real\n",
    "    basis = generate_basis(N)\n",
    "    H = zeros(T, 2^N, 2^N)\n",
    "    bonds = zip(collect(1:N-1), collect(2:N))\n",
    "    for (i, bstate) in enumerate(basis)\n",
    "        # diagonal part\n",
    "        diag_term = 0.\n",
    "        for (site_i, site_j) in bonds\n",
    "            if bstate[site_i] == bstate[site_j]\n",
    "                diag_term -= 1\n",
    "            else\n",
    "                diag_term += 1\n",
    "            end\n",
    "        end\n",
    "        H[i, i] = diag_term\n",
    "        \n",
    "        # off diagonal part\n",
    "        for site in 1:N\n",
    "            new_bstate = copy(bstate)\n",
    "            # flip the bit on the site (that's what σˣ does)\n",
    "            new_bstate[site] = !new_bstate[site]\n",
    "            # find corresponding single basis state with unity overlap (orthonormality)\n",
    "            new_i = findfirst(isequal(new_bstate), basis)\n",
    "            H[i, new_i] = -h\n",
    "        end\n",
    "    end\n",
    "    return H\n",
    "end"
   ]
  },
  {
   "cell_type": "code",
   "execution_count": 28,
   "metadata": {},
   "outputs": [
    {
     "data": {
      "text/plain": [
       "16×16 Matrix{Int64}:\n",
       " -3  -1  -1   0  -1   0   0   0  -1   0   0   0   0   0   0   0\n",
       " -1  -1   0  -1   0  -1   0   0   0  -1   0   0   0   0   0   0\n",
       " -1   0   1  -1   0   0  -1   0   0   0  -1   0   0   0   0   0\n",
       "  0  -1  -1  -1   0   0   0  -1   0   0   0  -1   0   0   0   0\n",
       " -1   0   0   0   1  -1  -1   0   0   0   0   0  -1   0   0   0\n",
       "  0  -1   0   0  -1   3   0  -1   0   0   0   0   0  -1   0   0\n",
       "  0   0  -1   0  -1   0   1  -1   0   0   0   0   0   0  -1   0\n",
       "  0   0   0  -1   0  -1  -1  -1   0   0   0   0   0   0   0  -1\n",
       " -1   0   0   0   0   0   0   0  -1  -1  -1   0  -1   0   0   0\n",
       "  0  -1   0   0   0   0   0   0  -1   1   0  -1   0  -1   0   0\n",
       "  0   0  -1   0   0   0   0   0  -1   0   3  -1   0   0  -1   0\n",
       "  0   0   0  -1   0   0   0   0   0  -1  -1   1   0   0   0  -1\n",
       "  0   0   0   0  -1   0   0   0  -1   0   0   0  -1  -1  -1   0\n",
       "  0   0   0   0   0  -1   0   0   0  -1   0   0  -1   1   0  -1\n",
       "  0   0   0   0   0   0  -1   0   0   0  -1   0  -1   0  -1  -1\n",
       "  0   0   0   0   0   0   0  -1   0   0   0  -1   0  -1  -1  -3"
      ]
     },
     "execution_count": 28,
     "metadata": {},
     "output_type": "execute_result"
    }
   ],
   "source": [
    "TransverseFieldIsing_explicit(N=4, h=1)"
   ]
  },
  {
   "cell_type": "code",
   "execution_count": null,
   "metadata": {},
   "outputs": [],
   "source": []
  },
  {
   "cell_type": "code",
   "execution_count": 30,
   "metadata": {},
   "outputs": [
    {
     "data": {
      "text/plain": [
       "16-element Vector{Float64}:\n",
       " 0.07252346335867726\n",
       " 0.06545296299993097\n",
       " 0.05923414955341791\n",
       " 0.06528943350095022\n",
       " 0.05923414955341792\n",
       " 0.053726720723156075\n",
       " 0.059086157310514704\n",
       " 0.06545296299993231\n",
       " 0.065452962999931\n",
       " 0.059086157310514704\n",
       " 0.05372672072315608\n",
       " 0.059234149553419116\n",
       " 0.0652894335009503\n",
       " 0.05923414955341909\n",
       " 0.06545296299993233\n",
       " 0.07252346335868012"
      ]
     },
     "execution_count": 30,
     "metadata": {},
     "output_type": "execute_result"
    }
   ],
   "source": [
    "H = TransverseFieldIsing(N=4, h=10)\n",
    "vals, vecs = eigen(H)\n",
    "groundstate = vecs[:,1]\n",
    "abs2.(groundstate)"
   ]
  },
  {
   "cell_type": "markdown",
   "metadata": {},
   "source": [
    "$$ M= \\frac{1}{N} \\sum\\limits_{i} σ^{z}_{i} $$"
   ]
  },
  {
   "cell_type": "code",
   "execution_count": 31,
   "metadata": {},
   "outputs": [
    {
     "data": {
      "text/plain": [
       "magnetization (generic function with 1 method)"
      ]
     },
     "execution_count": 31,
     "metadata": {},
     "output_type": "execute_result"
    }
   ],
   "source": [
    "function magnetization(state, basis)\n",
    "    M = 0.\n",
    "    for (i, bstate) in enumerate(basis)\n",
    "        bstate_M = 0.\n",
    "        for spin in bstate\n",
    "            bstate_M += (state[i]^2 * (spin ? 1 : -1))/length(bstate)\n",
    "        end\n",
    "        @assert abs(bstate_M) <= 1\n",
    "        M += abs(bstate_M)\n",
    "    end\n",
    "    return M\n",
    "end"
   ]
  },
  {
   "cell_type": "code",
   "execution_count": 47,
   "metadata": {},
   "outputs": [
    {
     "data": {
      "text/plain": [
       "16-element Vector{Float64}:\n",
       " 0.07252346335867726\n",
       " 0.06545296299993097\n",
       " 0.05923414955341791\n",
       " 0.06528943350095022\n",
       " 0.05923414955341792\n",
       " 0.053726720723156075\n",
       " 0.059086157310514704\n",
       " 0.06545296299993231\n",
       " 0.065452962999931\n",
       " 0.059086157310514704\n",
       " 0.05372672072315608\n",
       " 0.059234149553419116\n",
       " 0.0652894335009503\n",
       " 0.05923414955341909\n",
       " 0.06545296299993233\n",
       " 0.07252346335868012"
      ]
     },
     "execution_count": 47,
     "metadata": {},
     "output_type": "execute_result"
    }
   ],
   "source": [
    "basis = generate_basis(4)\n",
    "H = TransverseFieldIsing(N=4, h=10)\n",
    "vals, vecs = eigen(H);\n",
    "groundstate = vecs[:,1];\n",
    "abs2.(groundstate)"
   ]
  },
  {
   "cell_type": "code",
   "execution_count": 48,
   "metadata": {},
   "outputs": [
    {
     "data": {
      "image/svg+xml": [
       "<?xml version=\"1.0\" encoding=\"utf-8\"?>\n",
       "<svg xmlns=\"http://www.w3.org/2000/svg\" xmlns:xlink=\"http://www.w3.org/1999/xlink\" width=\"600\" height=\"400\" viewBox=\"0 0 2400 1600\">\n",
       "<defs>\n",
       "  <clipPath id=\"clip540\">\n",
       "    <rect x=\"0\" y=\"0\" width=\"2400\" height=\"1600\"/>\n",
       "  </clipPath>\n",
       "</defs>\n",
       "<path clip-path=\"url(#clip540)\" d=\"\n",
       "M0 1600 L2400 1600 L2400 0 L0 0  Z\n",
       "  \" fill=\"#ffffff\" fill-rule=\"evenodd\" fill-opacity=\"1\"/>\n",
       "<defs>\n",
       "  <clipPath id=\"clip541\">\n",
       "    <rect x=\"480\" y=\"0\" width=\"1681\" height=\"1600\"/>\n",
       "  </clipPath>\n",
       "</defs>\n",
       "<path clip-path=\"url(#clip540)\" d=\"\n",
       "M216.436 1486.45 L2352.76 1486.45 L2352.76 47.2441 L216.436 47.2441  Z\n",
       "  \" fill=\"#ffffff\" fill-rule=\"evenodd\" fill-opacity=\"1\"/>\n",
       "<defs>\n",
       "  <clipPath id=\"clip542\">\n",
       "    <rect x=\"216\" y=\"47\" width=\"2137\" height=\"1440\"/>\n",
       "  </clipPath>\n",
       "</defs>\n",
       "<polyline clip-path=\"url(#clip542)\" style=\"stroke:#000000; stroke-linecap:butt; stroke-linejoin:round; stroke-width:2; stroke-opacity:0.1; fill:none\" points=\"\n",
       "  545.617,1486.45 545.617,47.2441 \n",
       "  \"/>\n",
       "<polyline clip-path=\"url(#clip542)\" style=\"stroke:#000000; stroke-linecap:butt; stroke-linejoin:round; stroke-width:2; stroke-opacity:0.1; fill:none\" points=\"\n",
       "  948.697,1486.45 948.697,47.2441 \n",
       "  \"/>\n",
       "<polyline clip-path=\"url(#clip542)\" style=\"stroke:#000000; stroke-linecap:butt; stroke-linejoin:round; stroke-width:2; stroke-opacity:0.1; fill:none\" points=\"\n",
       "  1351.78,1486.45 1351.78,47.2441 \n",
       "  \"/>\n",
       "<polyline clip-path=\"url(#clip542)\" style=\"stroke:#000000; stroke-linecap:butt; stroke-linejoin:round; stroke-width:2; stroke-opacity:0.1; fill:none\" points=\"\n",
       "  1754.86,1486.45 1754.86,47.2441 \n",
       "  \"/>\n",
       "<polyline clip-path=\"url(#clip542)\" style=\"stroke:#000000; stroke-linecap:butt; stroke-linejoin:round; stroke-width:2; stroke-opacity:0.1; fill:none\" points=\"\n",
       "  2157.93,1486.45 2157.93,47.2441 \n",
       "  \"/>\n",
       "<polyline clip-path=\"url(#clip540)\" style=\"stroke:#000000; stroke-linecap:butt; stroke-linejoin:round; stroke-width:4; stroke-opacity:1; fill:none\" points=\"\n",
       "  216.436,1486.45 2352.76,1486.45 \n",
       "  \"/>\n",
       "<polyline clip-path=\"url(#clip540)\" style=\"stroke:#000000; stroke-linecap:butt; stroke-linejoin:round; stroke-width:4; stroke-opacity:1; fill:none\" points=\"\n",
       "  545.617,1486.45 545.617,1469.18 \n",
       "  \"/>\n",
       "<polyline clip-path=\"url(#clip540)\" style=\"stroke:#000000; stroke-linecap:butt; stroke-linejoin:round; stroke-width:4; stroke-opacity:1; fill:none\" points=\"\n",
       "  948.697,1486.45 948.697,1469.18 \n",
       "  \"/>\n",
       "<polyline clip-path=\"url(#clip540)\" style=\"stroke:#000000; stroke-linecap:butt; stroke-linejoin:round; stroke-width:4; stroke-opacity:1; fill:none\" points=\"\n",
       "  1351.78,1486.45 1351.78,1469.18 \n",
       "  \"/>\n",
       "<polyline clip-path=\"url(#clip540)\" style=\"stroke:#000000; stroke-linecap:butt; stroke-linejoin:round; stroke-width:4; stroke-opacity:1; fill:none\" points=\"\n",
       "  1754.86,1486.45 1754.86,1469.18 \n",
       "  \"/>\n",
       "<polyline clip-path=\"url(#clip540)\" style=\"stroke:#000000; stroke-linecap:butt; stroke-linejoin:round; stroke-width:4; stroke-opacity:1; fill:none\" points=\"\n",
       "  2157.93,1486.45 2157.93,1469.18 \n",
       "  \"/>\n",
       "<path clip-path=\"url(#clip540)\" d=\"M549.865 1528.49 Q553.221 1529.2 555.096 1531.47 Q556.995 1533.74 556.995 1537.07 Q556.995 1542.19 553.476 1544.99 Q549.958 1547.79 543.476 1547.79 Q541.3 1547.79 538.985 1547.35 Q536.694 1546.93 534.24 1546.08 L534.24 1541.56 Q536.184 1542.7 538.499 1543.28 Q540.814 1543.86 543.337 1543.86 Q547.735 1543.86 550.027 1542.12 Q552.342 1540.38 552.342 1537.07 Q552.342 1534.02 550.189 1532.31 Q548.059 1530.57 544.24 1530.57 L540.212 1530.57 L540.212 1526.73 L544.425 1526.73 Q547.874 1526.73 549.703 1525.36 Q551.532 1523.97 551.532 1521.38 Q551.532 1518.72 549.633 1517.31 Q547.758 1515.87 544.24 1515.87 Q542.319 1515.87 540.12 1516.29 Q537.921 1516.7 535.282 1517.58 L535.282 1513.42 Q537.944 1512.68 540.258 1512.31 Q542.596 1511.93 544.657 1511.93 Q549.981 1511.93 553.083 1514.37 Q556.184 1516.77 556.184 1520.89 Q556.184 1523.76 554.541 1525.75 Q552.897 1527.72 549.865 1528.49 Z\" fill=\"#000000\" fill-rule=\"evenodd\" fill-opacity=\"1\" /><path clip-path=\"url(#clip540)\" d=\"M949.102 1527.98 Q945.953 1527.98 944.102 1530.13 Q942.273 1532.28 942.273 1536.03 Q942.273 1539.76 944.102 1541.93 Q945.953 1544.09 949.102 1544.09 Q952.25 1544.09 954.078 1541.93 Q955.93 1539.76 955.93 1536.03 Q955.93 1532.28 954.078 1530.13 Q952.25 1527.98 949.102 1527.98 M958.384 1513.32 L958.384 1517.58 Q956.625 1516.75 954.819 1516.31 Q953.037 1515.87 951.278 1515.87 Q946.648 1515.87 944.194 1519 Q941.764 1522.12 941.416 1528.44 Q942.782 1526.43 944.842 1525.36 Q946.903 1524.27 949.379 1524.27 Q954.588 1524.27 957.597 1527.44 Q960.629 1530.59 960.629 1536.03 Q960.629 1541.36 957.481 1544.57 Q954.333 1547.79 949.102 1547.79 Q943.106 1547.79 939.935 1543.21 Q936.764 1538.6 936.764 1529.87 Q936.764 1521.68 940.653 1516.82 Q944.541 1511.93 951.092 1511.93 Q952.852 1511.93 954.634 1512.28 Q956.44 1512.63 958.384 1513.32 Z\" fill=\"#000000\" fill-rule=\"evenodd\" fill-opacity=\"1\" /><path clip-path=\"url(#clip540)\" d=\"M1342.08 1546.4 L1342.08 1542.14 Q1343.84 1542.98 1345.64 1543.42 Q1347.45 1543.86 1349.18 1543.86 Q1353.81 1543.86 1356.24 1540.75 Q1358.7 1537.63 1359.04 1531.29 Q1357.7 1533.28 1355.64 1534.34 Q1353.58 1535.41 1351.08 1535.41 Q1345.9 1535.41 1342.86 1532.28 Q1339.85 1529.13 1339.85 1523.69 Q1339.85 1518.37 1343 1515.15 Q1346.15 1511.93 1351.38 1511.93 Q1357.38 1511.93 1360.53 1516.54 Q1363.7 1521.12 1363.7 1529.87 Q1363.7 1538.05 1359.81 1542.93 Q1355.94 1547.79 1349.39 1547.79 Q1347.63 1547.79 1345.83 1547.44 Q1344.02 1547.1 1342.08 1546.4 M1351.38 1531.75 Q1354.53 1531.75 1356.36 1529.6 Q1358.21 1527.44 1358.21 1523.69 Q1358.21 1519.97 1356.36 1517.81 Q1354.53 1515.64 1351.38 1515.64 Q1348.23 1515.64 1346.38 1517.81 Q1344.55 1519.97 1344.55 1523.69 Q1344.55 1527.44 1346.38 1529.6 Q1348.23 1531.75 1351.38 1531.75 Z\" fill=\"#000000\" fill-rule=\"evenodd\" fill-opacity=\"1\" /><path clip-path=\"url(#clip540)\" d=\"M1730.34 1543.18 L1737.98 1543.18 L1737.98 1516.82 L1729.67 1518.49 L1729.67 1514.23 L1737.93 1512.56 L1742.61 1512.56 L1742.61 1543.18 L1750.25 1543.18 L1750.25 1547.12 L1730.34 1547.12 L1730.34 1543.18 Z\" fill=\"#000000\" fill-rule=\"evenodd\" fill-opacity=\"1\" /><path clip-path=\"url(#clip540)\" d=\"M1763.72 1543.18 L1780.04 1543.18 L1780.04 1547.12 L1758.1 1547.12 L1758.1 1543.18 Q1760.76 1540.43 1765.34 1535.8 Q1769.95 1531.15 1771.13 1529.81 Q1773.37 1527.28 1774.25 1525.55 Q1775.16 1523.79 1775.16 1522.1 Q1775.16 1519.34 1773.21 1517.61 Q1771.29 1515.87 1768.19 1515.87 Q1765.99 1515.87 1763.54 1516.63 Q1761.1 1517.4 1758.33 1518.95 L1758.33 1514.23 Q1761.15 1513.09 1763.6 1512.51 Q1766.06 1511.93 1768.1 1511.93 Q1773.47 1511.93 1776.66 1514.62 Q1779.85 1517.31 1779.85 1521.8 Q1779.85 1523.93 1779.04 1525.85 Q1778.26 1527.74 1776.15 1530.34 Q1775.57 1531.01 1772.47 1534.23 Q1769.37 1537.42 1763.72 1543.18 Z\" fill=\"#000000\" fill-rule=\"evenodd\" fill-opacity=\"1\" /><path clip-path=\"url(#clip540)\" d=\"M2133.12 1543.18 L2140.76 1543.18 L2140.76 1516.82 L2132.45 1518.49 L2132.45 1514.23 L2140.71 1512.56 L2145.39 1512.56 L2145.39 1543.18 L2153.03 1543.18 L2153.03 1547.12 L2133.12 1547.12 L2133.12 1543.18 Z\" fill=\"#000000\" fill-rule=\"evenodd\" fill-opacity=\"1\" /><path clip-path=\"url(#clip540)\" d=\"M2162.52 1512.56 L2180.87 1512.56 L2180.87 1516.5 L2166.8 1516.5 L2166.8 1524.97 Q2167.82 1524.62 2168.84 1524.46 Q2169.86 1524.27 2170.87 1524.27 Q2176.66 1524.27 2180.04 1527.44 Q2183.42 1530.62 2183.42 1536.03 Q2183.42 1541.61 2179.95 1544.71 Q2176.48 1547.79 2170.16 1547.79 Q2167.98 1547.79 2165.71 1547.42 Q2163.47 1547.05 2161.06 1546.31 L2161.06 1541.61 Q2163.14 1542.74 2165.36 1543.3 Q2167.59 1543.86 2170.06 1543.86 Q2174.07 1543.86 2176.41 1541.75 Q2178.74 1539.64 2178.74 1536.03 Q2178.74 1532.42 2176.41 1530.31 Q2174.07 1528.21 2170.06 1528.21 Q2168.19 1528.21 2166.31 1528.62 Q2164.46 1529.04 2162.52 1529.92 L2162.52 1512.56 Z\" fill=\"#000000\" fill-rule=\"evenodd\" fill-opacity=\"1\" /><polyline clip-path=\"url(#clip542)\" style=\"stroke:#000000; stroke-linecap:butt; stroke-linejoin:round; stroke-width:2; stroke-opacity:0.1; fill:none\" points=\"\n",
       "  216.436,1353.74 2352.76,1353.74 \n",
       "  \"/>\n",
       "<polyline clip-path=\"url(#clip542)\" style=\"stroke:#000000; stroke-linecap:butt; stroke-linejoin:round; stroke-width:2; stroke-opacity:0.1; fill:none\" points=\"\n",
       "  216.436,992.58 2352.76,992.58 \n",
       "  \"/>\n",
       "<polyline clip-path=\"url(#clip542)\" style=\"stroke:#000000; stroke-linecap:butt; stroke-linejoin:round; stroke-width:2; stroke-opacity:0.1; fill:none\" points=\"\n",
       "  216.436,631.416 2352.76,631.416 \n",
       "  \"/>\n",
       "<polyline clip-path=\"url(#clip542)\" style=\"stroke:#000000; stroke-linecap:butt; stroke-linejoin:round; stroke-width:2; stroke-opacity:0.1; fill:none\" points=\"\n",
       "  216.436,270.253 2352.76,270.253 \n",
       "  \"/>\n",
       "<polyline clip-path=\"url(#clip540)\" style=\"stroke:#000000; stroke-linecap:butt; stroke-linejoin:round; stroke-width:4; stroke-opacity:1; fill:none\" points=\"\n",
       "  216.436,1486.45 216.436,47.2441 \n",
       "  \"/>\n",
       "<polyline clip-path=\"url(#clip540)\" style=\"stroke:#000000; stroke-linecap:butt; stroke-linejoin:round; stroke-width:4; stroke-opacity:1; fill:none\" points=\"\n",
       "  216.436,1353.74 242.072,1353.74 \n",
       "  \"/>\n",
       "<polyline clip-path=\"url(#clip540)\" style=\"stroke:#000000; stroke-linecap:butt; stroke-linejoin:round; stroke-width:4; stroke-opacity:1; fill:none\" points=\"\n",
       "  216.436,992.58 242.072,992.58 \n",
       "  \"/>\n",
       "<polyline clip-path=\"url(#clip540)\" style=\"stroke:#000000; stroke-linecap:butt; stroke-linejoin:round; stroke-width:4; stroke-opacity:1; fill:none\" points=\"\n",
       "  216.436,631.416 242.072,631.416 \n",
       "  \"/>\n",
       "<polyline clip-path=\"url(#clip540)\" style=\"stroke:#000000; stroke-linecap:butt; stroke-linejoin:round; stroke-width:4; stroke-opacity:1; fill:none\" points=\"\n",
       "  216.436,270.253 242.072,270.253 \n",
       "  \"/>\n",
       "<path clip-path=\"url(#clip540)\" d=\"M63.9319 1339.54 Q60.3208 1339.54 58.4921 1343.11 Q56.6865 1346.65 56.6865 1353.78 Q56.6865 1360.88 58.4921 1364.45 Q60.3208 1367.99 63.9319 1367.99 Q67.5661 1367.99 69.3717 1364.45 Q71.2004 1360.88 71.2004 1353.78 Q71.2004 1346.65 69.3717 1343.11 Q67.5661 1339.54 63.9319 1339.54 M63.9319 1335.84 Q69.742 1335.84 72.7976 1340.44 Q75.8763 1345.03 75.8763 1353.78 Q75.8763 1362.5 72.7976 1367.11 Q69.742 1371.69 63.9319 1371.69 Q58.1217 1371.69 55.043 1367.11 Q51.9875 1362.5 51.9875 1353.78 Q51.9875 1345.03 55.043 1340.44 Q58.1217 1335.84 63.9319 1335.84 Z\" fill=\"#000000\" fill-rule=\"evenodd\" fill-opacity=\"1\" /><path clip-path=\"url(#clip540)\" d=\"M84.0938 1365.14 L88.978 1365.14 L88.978 1371.02 L84.0938 1371.02 L84.0938 1365.14 Z\" fill=\"#000000\" fill-rule=\"evenodd\" fill-opacity=\"1\" /><path clip-path=\"url(#clip540)\" d=\"M109.163 1339.54 Q105.552 1339.54 103.723 1343.11 Q101.918 1346.65 101.918 1353.78 Q101.918 1360.88 103.723 1364.45 Q105.552 1367.99 109.163 1367.99 Q112.797 1367.99 114.603 1364.45 Q116.432 1360.88 116.432 1353.78 Q116.432 1346.65 114.603 1343.11 Q112.797 1339.54 109.163 1339.54 M109.163 1335.84 Q114.973 1335.84 118.029 1340.44 Q121.107 1345.03 121.107 1353.78 Q121.107 1362.5 118.029 1367.11 Q114.973 1371.69 109.163 1371.69 Q103.353 1371.69 100.274 1367.11 Q97.2187 1362.5 97.2187 1353.78 Q97.2187 1345.03 100.274 1340.44 Q103.353 1335.84 109.163 1335.84 Z\" fill=\"#000000\" fill-rule=\"evenodd\" fill-opacity=\"1\" /><path clip-path=\"url(#clip540)\" d=\"M129.371 1336.46 L147.728 1336.46 L147.728 1340.4 L133.654 1340.4 L133.654 1348.87 Q134.672 1348.52 135.691 1348.36 Q136.709 1348.18 137.728 1348.18 Q143.515 1348.18 146.894 1351.35 Q150.274 1354.52 150.274 1359.94 Q150.274 1365.51 146.802 1368.62 Q143.33 1371.69 137.01 1371.69 Q134.834 1371.69 132.566 1371.32 Q130.32 1370.95 127.913 1370.21 L127.913 1365.51 Q129.996 1366.65 132.219 1367.2 Q134.441 1367.76 136.918 1367.76 Q140.922 1367.76 143.26 1365.65 Q145.598 1363.55 145.598 1359.94 Q145.598 1356.32 143.26 1354.22 Q140.922 1352.11 136.918 1352.11 Q135.043 1352.11 133.168 1352.53 Q131.316 1352.94 129.371 1353.82 L129.371 1336.46 Z\" fill=\"#000000\" fill-rule=\"evenodd\" fill-opacity=\"1\" /><path clip-path=\"url(#clip540)\" d=\"M159.533 1336.46 L177.89 1336.46 L177.89 1340.4 L163.816 1340.4 L163.816 1348.87 Q164.834 1348.52 165.853 1348.36 Q166.871 1348.18 167.89 1348.18 Q173.677 1348.18 177.056 1351.35 Q180.436 1354.52 180.436 1359.94 Q180.436 1365.51 176.964 1368.62 Q173.491 1371.69 167.172 1371.69 Q164.996 1371.69 162.728 1371.32 Q160.482 1370.95 158.075 1370.21 L158.075 1365.51 Q160.158 1366.65 162.38 1367.2 Q164.603 1367.76 167.079 1367.76 Q171.084 1367.76 173.422 1365.65 Q175.76 1363.55 175.76 1359.94 Q175.76 1356.32 173.422 1354.22 Q171.084 1352.11 167.079 1352.11 Q165.204 1352.11 163.329 1352.53 Q161.478 1352.94 159.533 1353.82 L159.533 1336.46 Z\" fill=\"#000000\" fill-rule=\"evenodd\" fill-opacity=\"1\" /><path clip-path=\"url(#clip540)\" d=\"M62.9365 978.378 Q59.3254 978.378 57.4967 981.943 Q55.6912 985.485 55.6912 992.615 Q55.6912 999.721 57.4967 1003.29 Q59.3254 1006.83 62.9365 1006.83 Q66.5707 1006.83 68.3763 1003.29 Q70.205 999.721 70.205 992.615 Q70.205 985.485 68.3763 981.943 Q66.5707 978.378 62.9365 978.378 M62.9365 974.675 Q68.7467 974.675 71.8022 979.281 Q74.8809 983.865 74.8809 992.615 Q74.8809 1001.34 71.8022 1005.95 Q68.7467 1010.53 62.9365 1010.53 Q57.1264 1010.53 54.0477 1005.95 Q50.9921 1001.34 50.9921 992.615 Q50.9921 983.865 54.0477 979.281 Q57.1264 974.675 62.9365 974.675 Z\" fill=\"#000000\" fill-rule=\"evenodd\" fill-opacity=\"1\" /><path clip-path=\"url(#clip540)\" d=\"M83.0984 1003.98 L87.9827 1003.98 L87.9827 1009.86 L83.0984 1009.86 L83.0984 1003.98 Z\" fill=\"#000000\" fill-rule=\"evenodd\" fill-opacity=\"1\" /><path clip-path=\"url(#clip540)\" d=\"M108.168 978.378 Q104.557 978.378 102.728 981.943 Q100.922 985.485 100.922 992.615 Q100.922 999.721 102.728 1003.29 Q104.557 1006.83 108.168 1006.83 Q111.802 1006.83 113.608 1003.29 Q115.436 999.721 115.436 992.615 Q115.436 985.485 113.608 981.943 Q111.802 978.378 108.168 978.378 M108.168 974.675 Q113.978 974.675 117.033 979.281 Q120.112 983.865 120.112 992.615 Q120.112 1001.34 117.033 1005.95 Q113.978 1010.53 108.168 1010.53 Q102.358 1010.53 99.2789 1005.95 Q96.2234 1001.34 96.2234 992.615 Q96.2234 983.865 99.2789 979.281 Q102.358 974.675 108.168 974.675 Z\" fill=\"#000000\" fill-rule=\"evenodd\" fill-opacity=\"1\" /><path clip-path=\"url(#clip540)\" d=\"M138.908 990.716 Q135.76 990.716 133.908 992.869 Q132.08 995.022 132.08 998.772 Q132.08 1002.5 133.908 1004.67 Q135.76 1006.83 138.908 1006.83 Q142.056 1006.83 143.885 1004.67 Q145.737 1002.5 145.737 998.772 Q145.737 995.022 143.885 992.869 Q142.056 990.716 138.908 990.716 M148.191 976.064 L148.191 980.323 Q146.431 979.49 144.626 979.05 Q142.843 978.61 141.084 978.61 Q136.455 978.61 134.001 981.735 Q131.57 984.86 131.223 991.179 Q132.589 989.165 134.649 988.101 Q136.709 987.013 139.186 987.013 Q144.394 987.013 147.404 990.184 Q150.436 993.332 150.436 998.772 Q150.436 1004.1 147.288 1007.31 Q144.14 1010.53 138.908 1010.53 Q132.913 1010.53 129.742 1005.95 Q126.57 1001.34 126.57 992.615 Q126.57 984.42 130.459 979.559 Q134.348 974.675 140.899 974.675 Q142.658 974.675 144.441 975.022 Q146.246 975.369 148.191 976.064 Z\" fill=\"#000000\" fill-rule=\"evenodd\" fill-opacity=\"1\" /><path clip-path=\"url(#clip540)\" d=\"M168.491 978.378 Q164.88 978.378 163.052 981.943 Q161.246 985.485 161.246 992.615 Q161.246 999.721 163.052 1003.29 Q164.88 1006.83 168.491 1006.83 Q172.126 1006.83 173.931 1003.29 Q175.76 999.721 175.76 992.615 Q175.76 985.485 173.931 981.943 Q172.126 978.378 168.491 978.378 M168.491 974.675 Q174.302 974.675 177.357 979.281 Q180.436 983.865 180.436 992.615 Q180.436 1001.34 177.357 1005.95 Q174.302 1010.53 168.491 1010.53 Q162.681 1010.53 159.603 1005.95 Q156.547 1001.34 156.547 992.615 Q156.547 983.865 159.603 979.281 Q162.681 974.675 168.491 974.675 Z\" fill=\"#000000\" fill-rule=\"evenodd\" fill-opacity=\"1\" /><path clip-path=\"url(#clip540)\" d=\"M63.9319 617.215 Q60.3208 617.215 58.4921 620.78 Q56.6865 624.321 56.6865 631.451 Q56.6865 638.557 58.4921 642.122 Q60.3208 645.664 63.9319 645.664 Q67.5661 645.664 69.3717 642.122 Q71.2004 638.557 71.2004 631.451 Q71.2004 624.321 69.3717 620.78 Q67.5661 617.215 63.9319 617.215 M63.9319 613.511 Q69.742 613.511 72.7976 618.118 Q75.8763 622.701 75.8763 631.451 Q75.8763 640.178 72.7976 644.784 Q69.742 649.368 63.9319 649.368 Q58.1217 649.368 55.043 644.784 Q51.9875 640.178 51.9875 631.451 Q51.9875 622.701 55.043 618.118 Q58.1217 613.511 63.9319 613.511 Z\" fill=\"#000000\" fill-rule=\"evenodd\" fill-opacity=\"1\" /><path clip-path=\"url(#clip540)\" d=\"M84.0938 642.817 L88.978 642.817 L88.978 648.696 L84.0938 648.696 L84.0938 642.817 Z\" fill=\"#000000\" fill-rule=\"evenodd\" fill-opacity=\"1\" /><path clip-path=\"url(#clip540)\" d=\"M109.163 617.215 Q105.552 617.215 103.723 620.78 Q101.918 624.321 101.918 631.451 Q101.918 638.557 103.723 642.122 Q105.552 645.664 109.163 645.664 Q112.797 645.664 114.603 642.122 Q116.432 638.557 116.432 631.451 Q116.432 624.321 114.603 620.78 Q112.797 617.215 109.163 617.215 M109.163 613.511 Q114.973 613.511 118.029 618.118 Q121.107 622.701 121.107 631.451 Q121.107 640.178 118.029 644.784 Q114.973 649.368 109.163 649.368 Q103.353 649.368 100.274 644.784 Q97.2187 640.178 97.2187 631.451 Q97.2187 622.701 100.274 618.118 Q103.353 613.511 109.163 613.511 Z\" fill=\"#000000\" fill-rule=\"evenodd\" fill-opacity=\"1\" /><path clip-path=\"url(#clip540)\" d=\"M139.904 629.553 Q136.756 629.553 134.904 631.706 Q133.075 633.858 133.075 637.608 Q133.075 641.335 134.904 643.511 Q136.756 645.664 139.904 645.664 Q143.052 645.664 144.881 643.511 Q146.732 641.335 146.732 637.608 Q146.732 633.858 144.881 631.706 Q143.052 629.553 139.904 629.553 M149.186 614.9 L149.186 619.159 Q147.427 618.326 145.621 617.886 Q143.839 617.446 142.08 617.446 Q137.45 617.446 134.996 620.571 Q132.566 623.696 132.219 630.016 Q133.584 628.002 135.644 626.937 Q137.705 625.849 140.181 625.849 Q145.39 625.849 148.399 629.021 Q151.431 632.169 151.431 637.608 Q151.431 642.932 148.283 646.15 Q145.135 649.368 139.904 649.368 Q133.908 649.368 130.737 644.784 Q127.566 640.178 127.566 631.451 Q127.566 623.257 131.455 618.396 Q135.344 613.511 141.894 613.511 Q143.654 613.511 145.436 613.859 Q147.242 614.206 149.186 614.9 Z\" fill=\"#000000\" fill-rule=\"evenodd\" fill-opacity=\"1\" /><path clip-path=\"url(#clip540)\" d=\"M159.533 614.136 L177.89 614.136 L177.89 618.071 L163.816 618.071 L163.816 626.544 Q164.834 626.196 165.853 626.034 Q166.871 625.849 167.89 625.849 Q173.677 625.849 177.056 629.021 Q180.436 632.192 180.436 637.608 Q180.436 643.187 176.964 646.289 Q173.491 649.368 167.172 649.368 Q164.996 649.368 162.728 648.997 Q160.482 648.627 158.075 647.886 L158.075 643.187 Q160.158 644.321 162.38 644.877 Q164.603 645.432 167.079 645.432 Q171.084 645.432 173.422 643.326 Q175.76 641.22 175.76 637.608 Q175.76 633.997 173.422 631.891 Q171.084 629.784 167.079 629.784 Q165.204 629.784 163.329 630.201 Q161.478 630.618 159.533 631.497 L159.533 614.136 Z\" fill=\"#000000\" fill-rule=\"evenodd\" fill-opacity=\"1\" /><path clip-path=\"url(#clip540)\" d=\"M62.9365 256.052 Q59.3254 256.052 57.4967 259.616 Q55.6912 263.158 55.6912 270.288 Q55.6912 277.394 57.4967 280.959 Q59.3254 284.5 62.9365 284.5 Q66.5707 284.5 68.3763 280.959 Q70.205 277.394 70.205 270.288 Q70.205 263.158 68.3763 259.616 Q66.5707 256.052 62.9365 256.052 M62.9365 252.348 Q68.7467 252.348 71.8022 256.954 Q74.8809 261.538 74.8809 270.288 Q74.8809 279.014 71.8022 283.621 Q68.7467 288.204 62.9365 288.204 Q57.1264 288.204 54.0477 283.621 Q50.9921 279.014 50.9921 270.288 Q50.9921 261.538 54.0477 256.954 Q57.1264 252.348 62.9365 252.348 Z\" fill=\"#000000\" fill-rule=\"evenodd\" fill-opacity=\"1\" /><path clip-path=\"url(#clip540)\" d=\"M83.0984 281.653 L87.9827 281.653 L87.9827 287.533 L83.0984 287.533 L83.0984 281.653 Z\" fill=\"#000000\" fill-rule=\"evenodd\" fill-opacity=\"1\" /><path clip-path=\"url(#clip540)\" d=\"M108.168 256.052 Q104.557 256.052 102.728 259.616 Q100.922 263.158 100.922 270.288 Q100.922 277.394 102.728 280.959 Q104.557 284.5 108.168 284.5 Q111.802 284.5 113.608 280.959 Q115.436 277.394 115.436 270.288 Q115.436 263.158 113.608 259.616 Q111.802 256.052 108.168 256.052 M108.168 252.348 Q113.978 252.348 117.033 256.954 Q120.112 261.538 120.112 270.288 Q120.112 279.014 117.033 283.621 Q113.978 288.204 108.168 288.204 Q102.358 288.204 99.2789 283.621 Q96.2234 279.014 96.2234 270.288 Q96.2234 261.538 99.2789 256.954 Q102.358 252.348 108.168 252.348 Z\" fill=\"#000000\" fill-rule=\"evenodd\" fill-opacity=\"1\" /><path clip-path=\"url(#clip540)\" d=\"M127.149 252.973 L149.371 252.973 L149.371 254.964 L136.825 287.533 L131.941 287.533 L143.746 256.908 L127.149 256.908 L127.149 252.973 Z\" fill=\"#000000\" fill-rule=\"evenodd\" fill-opacity=\"1\" /><path clip-path=\"url(#clip540)\" d=\"M168.491 256.052 Q164.88 256.052 163.052 259.616 Q161.246 263.158 161.246 270.288 Q161.246 277.394 163.052 280.959 Q164.88 284.5 168.491 284.5 Q172.126 284.5 173.931 280.959 Q175.76 277.394 175.76 270.288 Q175.76 263.158 173.931 259.616 Q172.126 256.052 168.491 256.052 M168.491 252.348 Q174.302 252.348 177.357 256.954 Q180.436 261.538 180.436 270.288 Q180.436 279.014 177.357 283.621 Q174.302 288.204 168.491 288.204 Q162.681 288.204 159.603 283.621 Q156.547 279.014 156.547 270.288 Q156.547 261.538 159.603 256.954 Q162.681 252.348 168.491 252.348 Z\" fill=\"#000000\" fill-rule=\"evenodd\" fill-opacity=\"1\" /><polyline clip-path=\"url(#clip542)\" style=\"stroke:#009af9; stroke-linecap:butt; stroke-linejoin:round; stroke-width:4; stroke-opacity:1; fill:none\" points=\"\n",
       "  276.898,87.9763 411.258,598.698 545.617,1047.9 679.977,610.51 814.337,1047.9 948.697,1445.72 1083.06,1058.59 1217.42,598.698 1351.78,598.698 1486.14,1058.59 \n",
       "  1620.5,1445.72 1754.86,1047.9 1889.21,610.51 2023.57,1047.9 2157.93,598.698 2292.29,87.9763 \n",
       "  \"/>\n",
       "<path clip-path=\"url(#clip540)\" d=\"\n",
       "M1991.75 216.178 L2281.55 216.178 L2281.55 95.2176 L1991.75 95.2176  Z\n",
       "  \" fill=\"#ffffff\" fill-rule=\"evenodd\" fill-opacity=\"1\"/>\n",
       "<polyline clip-path=\"url(#clip540)\" style=\"stroke:#000000; stroke-linecap:butt; stroke-linejoin:round; stroke-width:4; stroke-opacity:1; fill:none\" points=\"\n",
       "  1991.75,216.178 2281.55,216.178 2281.55,95.2176 1991.75,95.2176 1991.75,216.178 \n",
       "  \"/>\n",
       "<polyline clip-path=\"url(#clip540)\" style=\"stroke:#009af9; stroke-linecap:butt; stroke-linejoin:round; stroke-width:4; stroke-opacity:1; fill:none\" points=\"\n",
       "  2015.48,155.698 2157.9,155.698 \n",
       "  \"/>\n",
       "<path clip-path=\"url(#clip540)\" d=\"M2195.48 175.385 Q2193.68 180.015 2191.97 181.427 Q2190.25 182.839 2187.38 182.839 L2183.98 182.839 L2183.98 179.274 L2186.48 179.274 Q2188.24 179.274 2189.21 178.44 Q2190.18 177.607 2191.36 174.505 L2192.13 172.561 L2181.64 147.052 L2186.16 147.052 L2194.26 167.329 L2202.36 147.052 L2206.87 147.052 L2195.48 175.385 Z\" fill=\"#000000\" fill-rule=\"evenodd\" fill-opacity=\"1\" /><path clip-path=\"url(#clip540)\" d=\"M2214.16 169.042 L2221.8 169.042 L2221.8 142.677 L2213.49 144.343 L2213.49 140.084 L2221.76 138.418 L2226.43 138.418 L2226.43 169.042 L2234.07 169.042 L2234.07 172.978 L2214.16 172.978 L2214.16 169.042 Z\" fill=\"#000000\" fill-rule=\"evenodd\" fill-opacity=\"1\" /></svg>\n"
      ]
     },
     "execution_count": 48,
     "metadata": {},
     "output_type": "execute_result"
    }
   ],
   "source": [
    "plot(abs2.(groundstate))"
   ]
  },
  {
   "cell_type": "code",
   "execution_count": 36,
   "metadata": {},
   "outputs": [
    {
     "data": {
      "text/plain": [
       "0.3944211518240577"
      ]
     },
     "execution_count": 36,
     "metadata": {},
     "output_type": "execute_result"
    }
   ],
   "source": [
    "magnetization(groundstate, basis)"
   ]
  },
  {
   "cell_type": "code",
   "execution_count": 42,
   "metadata": {},
   "outputs": [
    {
     "name": "stdout",
     "output_type": "stream",
     "text": [
      "[0.9999000299900032, 0.9992275301410243, 0.9941108617216778, 0.9591866669399158, 0.8202546347014362, 0.643560628291341, 0.5535510608967722, 0.519342103385646, 0.5069557253424016, 0.5024999687505857]\n",
      "[0.9999619162456799, 0.9996970723690666, 0.9974830646467234, 0.9773789215903045, 0.8354226216616814, 0.6201747242734772, 0.5387766199872499, 0.5132785827294044, 0.5046859825477753, 0.5016729165356771]\n",
      "[0.9999687399231212, 0.9997574390110389, 0.9980906655902653, 0.983462562100982, 0.8309926493841762, 0.5178560625397856, 0.41874605456604935, 0.38991363075606433, 0.38026669651571443, 0.3768812968150838]\n",
      "[0.9999724979921559, 0.9997869479334595, 0.9983421299947641, 0.9864441615020836, 0.8497025365410158, 0.5004140817498629, 0.41087379409708, 0.38702986409349616, 0.37922567251760064, 0.37650660958364374]\n",
      "[0.9999749983061565, 0.9998063320776894, 0.9984949630645031, 0.9879234155671197, 0.8614091153977393, 0.4444734806937445, 0.34967357165841756, 0.32499890197175746, 0.31689733445178886, 0.31406880494636497]\n",
      "[0.999976784185132, 0.9998201684819573, 0.9986028002409548, 0.988860912171985, 0.8755349710468306, 0.4315829101434208, 0.344792185953772, 0.3232625647591521, 0.31627529393226456, 0.3138454757505539]\n",
      "[0.9999781235936352, 0.9998305454632233, 0.9986835480468157, 0.9895264359538203, 0.8855404267939251, 0.39469789448050085, 0.3062294421842412, 0.28440051150330997, 0.27728832356191385, 0.27481060089736004]\n",
      "[0.9999791653557973, 0.9998386164387216, 0.9987463408009285, 0.9900354288763695, 0.8943779809197776, 0.38489636641974573, 0.3028515450156106, 0.28321310269862465, 0.27686429607287594, 0.2746585251704734]\n",
      "[0.9999799987655265, 0.9998450732188143, 0.9987965740132134, 0.9904403291915099, 0.9008623747672851, 0.3582176662981046, 0.27573791196839953, 0.2559736833623696, 0.24956106896877917, 0.2473297390891208]\n"
     ]
    }
   ],
   "source": [
    "using Plots\n",
    "hs = 10 .^ range(-2., stop=2., length=10)\n",
    "Ns = 2:10\n",
    "p = plot()\n",
    "for N in Ns\n",
    "    M = zeros(length(hs))\n",
    "    for (i,h) in enumerate(hs)\n",
    "        basis = generate_basis(N)\n",
    "        H = TransverseFieldIsing(N=N, h=h)\n",
    "        vals, vecs = eigen(H)\n",
    "        groundstate = vecs[:,1]\n",
    "        M[i] = magnetization(groundstate, basis)\n",
    "    end\n",
    "    plot!(p, hs, M, xscale=:log10, marker=:circle, label=\"N = $N\",\n",
    "        xlab=\"h\", ylab=\"M(h)\")\n",
    "    println(M)\n",
    "end"
   ]
  },
  {
   "cell_type": "code",
   "execution_count": 43,
   "metadata": {},
   "outputs": [
    {
     "data": {
      "image/svg+xml": [
       "<?xml version=\"1.0\" encoding=\"utf-8\"?>\n",
       "<svg xmlns=\"http://www.w3.org/2000/svg\" xmlns:xlink=\"http://www.w3.org/1999/xlink\" width=\"600\" height=\"400\" viewBox=\"0 0 2400 1600\">\n",
       "<defs>\n",
       "  <clipPath id=\"clip460\">\n",
       "    <rect x=\"0\" y=\"0\" width=\"2400\" height=\"1600\"/>\n",
       "  </clipPath>\n",
       "</defs>\n",
       "<path clip-path=\"url(#clip460)\" d=\"\n",
       "M0 1600 L2400 1600 L2400 0 L0 0  Z\n",
       "  \" fill=\"#ffffff\" fill-rule=\"evenodd\" fill-opacity=\"1\"/>\n",
       "<defs>\n",
       "  <clipPath id=\"clip461\">\n",
       "    <rect x=\"480\" y=\"0\" width=\"1681\" height=\"1600\"/>\n",
       "  </clipPath>\n",
       "</defs>\n",
       "<path clip-path=\"url(#clip460)\" d=\"\n",
       "M219.866 1410.9 L2352.76 1410.9 L2352.76 47.2441 L219.866 47.2441  Z\n",
       "  \" fill=\"#ffffff\" fill-rule=\"evenodd\" fill-opacity=\"1\"/>\n",
       "<defs>\n",
       "  <clipPath id=\"clip462\">\n",
       "    <rect x=\"219\" y=\"47\" width=\"2134\" height=\"1365\"/>\n",
       "  </clipPath>\n",
       "</defs>\n",
       "<polyline clip-path=\"url(#clip462)\" style=\"stroke:#000000; stroke-linecap:butt; stroke-linejoin:round; stroke-width:2; stroke-opacity:0.1; fill:none\" points=\"\n",
       "  280.231,1410.9 280.231,47.2441 \n",
       "  \"/>\n",
       "<polyline clip-path=\"url(#clip462)\" style=\"stroke:#000000; stroke-linecap:butt; stroke-linejoin:round; stroke-width:2; stroke-opacity:0.1; fill:none\" points=\"\n",
       "  783.271,1410.9 783.271,47.2441 \n",
       "  \"/>\n",
       "<polyline clip-path=\"url(#clip462)\" style=\"stroke:#000000; stroke-linecap:butt; stroke-linejoin:round; stroke-width:2; stroke-opacity:0.1; fill:none\" points=\"\n",
       "  1286.31,1410.9 1286.31,47.2441 \n",
       "  \"/>\n",
       "<polyline clip-path=\"url(#clip462)\" style=\"stroke:#000000; stroke-linecap:butt; stroke-linejoin:round; stroke-width:2; stroke-opacity:0.1; fill:none\" points=\"\n",
       "  1789.35,1410.9 1789.35,47.2441 \n",
       "  \"/>\n",
       "<polyline clip-path=\"url(#clip462)\" style=\"stroke:#000000; stroke-linecap:butt; stroke-linejoin:round; stroke-width:2; stroke-opacity:0.1; fill:none\" points=\"\n",
       "  2292.39,1410.9 2292.39,47.2441 \n",
       "  \"/>\n",
       "<polyline clip-path=\"url(#clip460)\" style=\"stroke:#000000; stroke-linecap:butt; stroke-linejoin:round; stroke-width:4; stroke-opacity:1; fill:none\" points=\"\n",
       "  219.866,1410.9 2352.76,1410.9 \n",
       "  \"/>\n",
       "<polyline clip-path=\"url(#clip460)\" style=\"stroke:#000000; stroke-linecap:butt; stroke-linejoin:round; stroke-width:4; stroke-opacity:1; fill:none\" points=\"\n",
       "  280.231,1410.9 280.231,1394.53 \n",
       "  \"/>\n",
       "<polyline clip-path=\"url(#clip460)\" style=\"stroke:#000000; stroke-linecap:butt; stroke-linejoin:round; stroke-width:4; stroke-opacity:1; fill:none\" points=\"\n",
       "  783.271,1410.9 783.271,1394.53 \n",
       "  \"/>\n",
       "<polyline clip-path=\"url(#clip460)\" style=\"stroke:#000000; stroke-linecap:butt; stroke-linejoin:round; stroke-width:4; stroke-opacity:1; fill:none\" points=\"\n",
       "  1286.31,1410.9 1286.31,1394.53 \n",
       "  \"/>\n",
       "<polyline clip-path=\"url(#clip460)\" style=\"stroke:#000000; stroke-linecap:butt; stroke-linejoin:round; stroke-width:4; stroke-opacity:1; fill:none\" points=\"\n",
       "  1789.35,1410.9 1789.35,1394.53 \n",
       "  \"/>\n",
       "<polyline clip-path=\"url(#clip460)\" style=\"stroke:#000000; stroke-linecap:butt; stroke-linejoin:round; stroke-width:4; stroke-opacity:1; fill:none\" points=\"\n",
       "  2292.39,1410.9 2292.39,1394.53 \n",
       "  \"/>\n",
       "<path clip-path=\"url(#clip460)\" d=\"M230.497 1489.17 L238.136 1489.17 L238.136 1462.8 L229.826 1464.47 L229.826 1460.21 L238.089 1458.54 L242.765 1458.54 L242.765 1489.17 L250.404 1489.17 L250.404 1493.1 L230.497 1493.1 L230.497 1489.17 Z\" fill=\"#000000\" fill-rule=\"evenodd\" fill-opacity=\"1\" /><path clip-path=\"url(#clip460)\" d=\"M269.848 1461.62 Q266.237 1461.62 264.409 1465.19 Q262.603 1468.73 262.603 1475.86 Q262.603 1482.97 264.409 1486.53 Q266.237 1490.07 269.848 1490.07 Q273.483 1490.07 275.288 1486.53 Q277.117 1482.97 277.117 1475.86 Q277.117 1468.73 275.288 1465.19 Q273.483 1461.62 269.848 1461.62 M269.848 1457.92 Q275.659 1457.92 278.714 1462.53 Q281.793 1467.11 281.793 1475.86 Q281.793 1484.59 278.714 1489.19 Q275.659 1493.78 269.848 1493.78 Q264.038 1493.78 260.96 1489.19 Q257.904 1484.59 257.904 1475.86 Q257.904 1467.11 260.96 1462.53 Q264.038 1457.92 269.848 1457.92 Z\" fill=\"#000000\" fill-rule=\"evenodd\" fill-opacity=\"1\" /><path clip-path=\"url(#clip460)\" d=\"M281.793 1452.02 L305.904 1452.02 L305.904 1455.22 L281.793 1455.22 L281.793 1452.02 Z\" fill=\"#000000\" fill-rule=\"evenodd\" fill-opacity=\"1\" /><path clip-path=\"url(#clip460)\" d=\"M317.377 1462.5 L330.637 1462.5 L330.637 1465.69 L312.807 1465.69 L312.807 1462.5 Q314.97 1460.26 318.694 1456.5 Q322.436 1452.72 323.396 1451.63 Q325.22 1449.58 325.935 1448.16 Q326.668 1446.74 326.668 1445.36 Q326.668 1443.12 325.088 1441.71 Q323.527 1440.3 321.007 1440.3 Q319.22 1440.3 317.227 1440.92 Q315.252 1441.54 312.995 1442.8 L312.995 1438.97 Q315.289 1438.05 317.283 1437.58 Q319.277 1437.11 320.932 1437.11 Q325.295 1437.11 327.891 1439.29 Q330.486 1441.47 330.486 1445.12 Q330.486 1446.85 329.828 1448.41 Q329.188 1449.95 327.477 1452.06 Q327.007 1452.6 324.486 1455.22 Q321.966 1457.81 317.377 1462.5 Z\" fill=\"#000000\" fill-rule=\"evenodd\" fill-opacity=\"1\" /><path clip-path=\"url(#clip460)\" d=\"M733.386 1489.17 L741.025 1489.17 L741.025 1462.8 L732.715 1464.47 L732.715 1460.21 L740.979 1458.54 L745.655 1458.54 L745.655 1489.17 L753.294 1489.17 L753.294 1493.1 L733.386 1493.1 L733.386 1489.17 Z\" fill=\"#000000\" fill-rule=\"evenodd\" fill-opacity=\"1\" /><path clip-path=\"url(#clip460)\" d=\"M772.738 1461.62 Q769.127 1461.62 767.298 1465.19 Q765.493 1468.73 765.493 1475.86 Q765.493 1482.97 767.298 1486.53 Q769.127 1490.07 772.738 1490.07 Q776.372 1490.07 778.178 1486.53 Q780.006 1482.97 780.006 1475.86 Q780.006 1468.73 778.178 1465.19 Q776.372 1461.62 772.738 1461.62 M772.738 1457.92 Q778.548 1457.92 781.604 1462.53 Q784.682 1467.11 784.682 1475.86 Q784.682 1484.59 781.604 1489.19 Q778.548 1493.78 772.738 1493.78 Q766.928 1493.78 763.849 1489.19 Q760.794 1484.59 760.794 1475.86 Q760.794 1467.11 763.849 1462.53 Q766.928 1457.92 772.738 1457.92 Z\" fill=\"#000000\" fill-rule=\"evenodd\" fill-opacity=\"1\" /><path clip-path=\"url(#clip460)\" d=\"M784.682 1452.02 L808.794 1452.02 L808.794 1455.22 L784.682 1455.22 L784.682 1452.02 Z\" fill=\"#000000\" fill-rule=\"evenodd\" fill-opacity=\"1\" /><path clip-path=\"url(#clip460)\" d=\"M817.652 1462.5 L823.859 1462.5 L823.859 1441.07 L817.107 1442.43 L817.107 1438.97 L823.821 1437.61 L827.621 1437.61 L827.621 1462.5 L833.827 1462.5 L833.827 1465.69 L817.652 1465.69 L817.652 1462.5 Z\" fill=\"#000000\" fill-rule=\"evenodd\" fill-opacity=\"1\" /><path clip-path=\"url(#clip460)\" d=\"M1251.29 1489.17 L1258.93 1489.17 L1258.93 1462.8 L1250.62 1464.47 L1250.62 1460.21 L1258.89 1458.54 L1263.56 1458.54 L1263.56 1489.17 L1271.2 1489.17 L1271.2 1493.1 L1251.29 1493.1 L1251.29 1489.17 Z\" fill=\"#000000\" fill-rule=\"evenodd\" fill-opacity=\"1\" /><path clip-path=\"url(#clip460)\" d=\"M1290.65 1461.62 Q1287.03 1461.62 1285.21 1465.19 Q1283.4 1468.73 1283.4 1475.86 Q1283.4 1482.97 1285.21 1486.53 Q1287.03 1490.07 1290.65 1490.07 Q1294.28 1490.07 1296.09 1486.53 Q1297.91 1482.97 1297.91 1475.86 Q1297.91 1468.73 1296.09 1465.19 Q1294.28 1461.62 1290.65 1461.62 M1290.65 1457.92 Q1296.46 1457.92 1299.51 1462.53 Q1302.59 1467.11 1302.59 1475.86 Q1302.59 1484.59 1299.51 1489.19 Q1296.46 1493.78 1290.65 1493.78 Q1284.84 1493.78 1281.76 1489.19 Q1278.7 1484.59 1278.7 1475.86 Q1278.7 1467.11 1281.76 1462.53 Q1284.84 1457.92 1290.65 1457.92 Z\" fill=\"#000000\" fill-rule=\"evenodd\" fill-opacity=\"1\" /><path clip-path=\"url(#clip460)\" d=\"M1312.29 1440.11 Q1309.36 1440.11 1307.87 1443.01 Q1306.41 1445.89 1306.41 1451.68 Q1306.41 1457.46 1307.87 1460.35 Q1309.36 1463.23 1312.29 1463.23 Q1315.25 1463.23 1316.71 1460.35 Q1318.2 1457.46 1318.2 1451.68 Q1318.2 1445.89 1316.71 1443.01 Q1315.25 1440.11 1312.29 1440.11 M1312.29 1437.11 Q1317.02 1437.11 1319.5 1440.85 Q1322 1444.57 1322 1451.68 Q1322 1458.77 1319.5 1462.51 Q1317.02 1466.24 1312.29 1466.24 Q1307.57 1466.24 1305.07 1462.51 Q1302.59 1458.77 1302.59 1451.68 Q1302.59 1444.57 1305.07 1440.85 Q1307.57 1437.11 1312.29 1437.11 Z\" fill=\"#000000\" fill-rule=\"evenodd\" fill-opacity=\"1\" /><path clip-path=\"url(#clip460)\" d=\"M1755.68 1489.17 L1763.32 1489.17 L1763.32 1462.8 L1755.01 1464.47 L1755.01 1460.21 L1763.27 1458.54 L1767.95 1458.54 L1767.95 1489.17 L1775.59 1489.17 L1775.59 1493.1 L1755.68 1493.1 L1755.68 1489.17 Z\" fill=\"#000000\" fill-rule=\"evenodd\" fill-opacity=\"1\" /><path clip-path=\"url(#clip460)\" d=\"M1795.03 1461.62 Q1791.42 1461.62 1789.59 1465.19 Q1787.78 1468.73 1787.78 1475.86 Q1787.78 1482.97 1789.59 1486.53 Q1791.42 1490.07 1795.03 1490.07 Q1798.66 1490.07 1800.47 1486.53 Q1802.3 1482.97 1802.3 1475.86 Q1802.3 1468.73 1800.47 1465.19 Q1798.66 1461.62 1795.03 1461.62 M1795.03 1457.92 Q1800.84 1457.92 1803.9 1462.53 Q1806.97 1467.11 1806.97 1475.86 Q1806.97 1484.59 1803.9 1489.19 Q1800.84 1493.78 1795.03 1493.78 Q1789.22 1493.78 1786.14 1489.19 Q1783.09 1484.59 1783.09 1475.86 Q1783.09 1467.11 1786.14 1462.53 Q1789.22 1457.92 1795.03 1457.92 Z\" fill=\"#000000\" fill-rule=\"evenodd\" fill-opacity=\"1\" /><path clip-path=\"url(#clip460)\" d=\"M1807.52 1462.5 L1813.73 1462.5 L1813.73 1441.07 L1806.97 1442.43 L1806.97 1438.97 L1813.69 1437.61 L1817.49 1437.61 L1817.49 1462.5 L1823.69 1462.5 L1823.69 1465.69 L1807.52 1465.69 L1807.52 1462.5 Z\" fill=\"#000000\" fill-rule=\"evenodd\" fill-opacity=\"1\" /><path clip-path=\"url(#clip460)\" d=\"M2258.16 1489.17 L2265.8 1489.17 L2265.8 1462.8 L2257.49 1464.47 L2257.49 1460.21 L2265.76 1458.54 L2270.43 1458.54 L2270.43 1489.17 L2278.07 1489.17 L2278.07 1493.1 L2258.16 1493.1 L2258.16 1489.17 Z\" fill=\"#000000\" fill-rule=\"evenodd\" fill-opacity=\"1\" /><path clip-path=\"url(#clip460)\" d=\"M2297.52 1461.62 Q2293.9 1461.62 2292.08 1465.19 Q2290.27 1468.73 2290.27 1475.86 Q2290.27 1482.97 2292.08 1486.53 Q2293.9 1490.07 2297.52 1490.07 Q2301.15 1490.07 2302.96 1486.53 Q2304.78 1482.97 2304.78 1475.86 Q2304.78 1468.73 2302.96 1465.19 Q2301.15 1461.62 2297.52 1461.62 M2297.52 1457.92 Q2303.33 1457.92 2306.38 1462.53 Q2309.46 1467.11 2309.46 1475.86 Q2309.46 1484.59 2306.38 1489.19 Q2303.33 1493.78 2297.52 1493.78 Q2291.71 1493.78 2288.63 1489.19 Q2285.57 1484.59 2285.57 1475.86 Q2285.57 1467.11 2288.63 1462.53 Q2291.71 1457.92 2297.52 1457.92 Z\" fill=\"#000000\" fill-rule=\"evenodd\" fill-opacity=\"1\" /><path clip-path=\"url(#clip460)\" d=\"M2314.03 1462.5 L2327.29 1462.5 L2327.29 1465.69 L2309.46 1465.69 L2309.46 1462.5 Q2311.62 1460.26 2315.35 1456.5 Q2319.09 1452.72 2320.05 1451.63 Q2321.87 1449.58 2322.59 1448.16 Q2323.32 1446.74 2323.32 1445.36 Q2323.32 1443.12 2321.74 1441.71 Q2320.18 1440.3 2317.66 1440.3 Q2315.87 1440.3 2313.88 1440.92 Q2311.9 1441.54 2309.65 1442.8 L2309.65 1438.97 Q2311.94 1438.05 2313.94 1437.58 Q2315.93 1437.11 2317.58 1437.11 Q2321.95 1437.11 2324.54 1439.29 Q2327.14 1441.47 2327.14 1445.12 Q2327.14 1446.85 2326.48 1448.41 Q2325.84 1449.95 2324.13 1452.06 Q2323.66 1452.6 2321.14 1455.22 Q2318.62 1457.81 2314.03 1462.5 Z\" fill=\"#000000\" fill-rule=\"evenodd\" fill-opacity=\"1\" /><path clip-path=\"url(#clip460)\" d=\"M1301.24 1552.67 L1301.24 1574.19 L1295.38 1574.19 L1295.38 1552.86 Q1295.38 1547.8 1293.41 1545.29 Q1291.44 1542.77 1287.49 1542.77 Q1282.75 1542.77 1280.01 1545.79 Q1277.27 1548.82 1277.27 1554.04 L1277.27 1574.19 L1271.38 1574.19 L1271.38 1524.66 L1277.27 1524.66 L1277.27 1544.08 Q1279.37 1540.86 1282.21 1539.27 Q1285.07 1537.68 1288.79 1537.68 Q1294.94 1537.68 1298.09 1541.5 Q1301.24 1545.29 1301.24 1552.67 Z\" fill=\"#000000\" fill-rule=\"evenodd\" fill-opacity=\"1\" /><polyline clip-path=\"url(#clip462)\" style=\"stroke:#000000; stroke-linecap:butt; stroke-linejoin:round; stroke-width:2; stroke-opacity:0.1; fill:none\" points=\"\n",
       "  219.866,1111.35 2352.76,1111.35 \n",
       "  \"/>\n",
       "<polyline clip-path=\"url(#clip462)\" style=\"stroke:#000000; stroke-linecap:butt; stroke-linejoin:round; stroke-width:2; stroke-opacity:0.1; fill:none\" points=\"\n",
       "  219.866,769.502 2352.76,769.502 \n",
       "  \"/>\n",
       "<polyline clip-path=\"url(#clip462)\" style=\"stroke:#000000; stroke-linecap:butt; stroke-linejoin:round; stroke-width:2; stroke-opacity:0.1; fill:none\" points=\"\n",
       "  219.866,427.653 2352.76,427.653 \n",
       "  \"/>\n",
       "<polyline clip-path=\"url(#clip462)\" style=\"stroke:#000000; stroke-linecap:butt; stroke-linejoin:round; stroke-width:2; stroke-opacity:0.1; fill:none\" points=\"\n",
       "  219.866,85.8038 2352.76,85.8038 \n",
       "  \"/>\n",
       "<polyline clip-path=\"url(#clip460)\" style=\"stroke:#000000; stroke-linecap:butt; stroke-linejoin:round; stroke-width:4; stroke-opacity:1; fill:none\" points=\"\n",
       "  219.866,1410.9 219.866,47.2441 \n",
       "  \"/>\n",
       "<polyline clip-path=\"url(#clip460)\" style=\"stroke:#000000; stroke-linecap:butt; stroke-linejoin:round; stroke-width:4; stroke-opacity:1; fill:none\" points=\"\n",
       "  219.866,1111.35 245.461,1111.35 \n",
       "  \"/>\n",
       "<polyline clip-path=\"url(#clip460)\" style=\"stroke:#000000; stroke-linecap:butt; stroke-linejoin:round; stroke-width:4; stroke-opacity:1; fill:none\" points=\"\n",
       "  219.866,769.502 245.461,769.502 \n",
       "  \"/>\n",
       "<polyline clip-path=\"url(#clip460)\" style=\"stroke:#000000; stroke-linecap:butt; stroke-linejoin:round; stroke-width:4; stroke-opacity:1; fill:none\" points=\"\n",
       "  219.866,427.653 245.461,427.653 \n",
       "  \"/>\n",
       "<polyline clip-path=\"url(#clip460)\" style=\"stroke:#000000; stroke-linecap:butt; stroke-linejoin:round; stroke-width:4; stroke-opacity:1; fill:none\" points=\"\n",
       "  219.866,85.8038 245.461,85.8038 \n",
       "  \"/>\n",
       "<path clip-path=\"url(#clip460)\" d=\"M126.205 1097.15 Q122.593 1097.15 120.765 1100.72 Q118.959 1104.26 118.959 1111.39 Q118.959 1118.49 120.765 1122.06 Q122.593 1125.6 126.205 1125.6 Q129.839 1125.6 131.644 1122.06 Q133.473 1118.49 133.473 1111.39 Q133.473 1104.26 131.644 1100.72 Q129.839 1097.15 126.205 1097.15 M126.205 1093.45 Q132.015 1093.45 135.07 1098.05 Q138.149 1102.64 138.149 1111.39 Q138.149 1120.11 135.07 1124.72 Q132.015 1129.3 126.205 1129.3 Q120.394 1129.3 117.316 1124.72 Q114.26 1120.11 114.26 1111.39 Q114.26 1102.64 117.316 1098.05 Q120.394 1093.45 126.205 1093.45 Z\" fill=\"#000000\" fill-rule=\"evenodd\" fill-opacity=\"1\" /><path clip-path=\"url(#clip460)\" d=\"M146.366 1122.75 L151.251 1122.75 L151.251 1128.63 L146.366 1128.63 L146.366 1122.75 Z\" fill=\"#000000\" fill-rule=\"evenodd\" fill-opacity=\"1\" /><path clip-path=\"url(#clip460)\" d=\"M174.283 1098.15 L162.477 1116.59 L174.283 1116.59 L174.283 1098.15 M173.056 1094.07 L178.936 1094.07 L178.936 1116.59 L183.866 1116.59 L183.866 1120.48 L178.936 1120.48 L178.936 1128.63 L174.283 1128.63 L174.283 1120.48 L158.681 1120.48 L158.681 1115.97 L173.056 1094.07 Z\" fill=\"#000000\" fill-rule=\"evenodd\" fill-opacity=\"1\" /><path clip-path=\"url(#clip460)\" d=\"M126.529 755.301 Q122.918 755.301 121.089 758.866 Q119.283 762.407 119.283 769.537 Q119.283 776.644 121.089 780.208 Q122.918 783.75 126.529 783.75 Q130.163 783.75 131.968 780.208 Q133.797 776.644 133.797 769.537 Q133.797 762.407 131.968 758.866 Q130.163 755.301 126.529 755.301 M126.529 751.597 Q132.339 751.597 135.394 756.204 Q138.473 760.787 138.473 769.537 Q138.473 778.264 135.394 782.87 Q132.339 787.454 126.529 787.454 Q120.718 787.454 117.64 782.87 Q114.584 778.264 114.584 769.537 Q114.584 760.787 117.64 756.204 Q120.718 751.597 126.529 751.597 Z\" fill=\"#000000\" fill-rule=\"evenodd\" fill-opacity=\"1\" /><path clip-path=\"url(#clip460)\" d=\"M146.691 780.903 L151.575 780.903 L151.575 786.782 L146.691 786.782 L146.691 780.903 Z\" fill=\"#000000\" fill-rule=\"evenodd\" fill-opacity=\"1\" /><path clip-path=\"url(#clip460)\" d=\"M172.339 767.639 Q169.19 767.639 167.339 769.792 Q165.51 771.944 165.51 775.694 Q165.51 779.421 167.339 781.597 Q169.19 783.75 172.339 783.75 Q175.487 783.75 177.315 781.597 Q179.167 779.421 179.167 775.694 Q179.167 771.944 177.315 769.792 Q175.487 767.639 172.339 767.639 M181.621 752.986 L181.621 757.245 Q179.862 756.412 178.056 755.972 Q176.274 755.533 174.514 755.533 Q169.885 755.533 167.431 758.658 Q165.001 761.782 164.653 768.102 Q166.019 766.088 168.079 765.023 Q170.139 763.935 172.616 763.935 Q177.825 763.935 180.834 767.107 Q183.866 770.255 183.866 775.694 Q183.866 781.019 180.718 784.236 Q177.57 787.454 172.339 787.454 Q166.343 787.454 163.172 782.87 Q160.001 778.264 160.001 769.537 Q160.001 761.343 163.89 756.482 Q167.778 751.597 174.329 751.597 Q176.089 751.597 177.871 751.945 Q179.676 752.292 181.621 752.986 Z\" fill=\"#000000\" fill-rule=\"evenodd\" fill-opacity=\"1\" /><path clip-path=\"url(#clip460)\" d=\"M126.783 413.452 Q123.172 413.452 121.343 417.017 Q119.538 420.558 119.538 427.688 Q119.538 434.794 121.343 438.359 Q123.172 441.901 126.783 441.901 Q130.417 441.901 132.223 438.359 Q134.052 434.794 134.052 427.688 Q134.052 420.558 132.223 417.017 Q130.417 413.452 126.783 413.452 M126.783 409.748 Q132.593 409.748 135.649 414.355 Q138.728 418.938 138.728 427.688 Q138.728 436.415 135.649 441.021 Q132.593 445.604 126.783 445.604 Q120.973 445.604 117.894 441.021 Q114.839 436.415 114.839 427.688 Q114.839 418.938 117.894 414.355 Q120.973 409.748 126.783 409.748 Z\" fill=\"#000000\" fill-rule=\"evenodd\" fill-opacity=\"1\" /><path clip-path=\"url(#clip460)\" d=\"M146.945 439.054 L151.829 439.054 L151.829 444.933 L146.945 444.933 L146.945 439.054 Z\" fill=\"#000000\" fill-rule=\"evenodd\" fill-opacity=\"1\" /><path clip-path=\"url(#clip460)\" d=\"M172.014 428.521 Q168.681 428.521 166.76 430.304 Q164.862 432.086 164.862 435.211 Q164.862 438.336 166.76 440.118 Q168.681 441.901 172.014 441.901 Q175.348 441.901 177.269 440.118 Q179.19 438.313 179.19 435.211 Q179.19 432.086 177.269 430.304 Q175.371 428.521 172.014 428.521 M167.339 426.53 Q164.329 425.79 162.64 423.73 Q160.973 421.669 160.973 418.706 Q160.973 414.563 163.913 412.156 Q166.876 409.748 172.014 409.748 Q177.176 409.748 180.116 412.156 Q183.056 414.563 183.056 418.706 Q183.056 421.669 181.366 423.73 Q179.7 425.79 176.714 426.53 Q180.093 427.317 181.968 429.609 Q183.866 431.901 183.866 435.211 Q183.866 440.234 180.788 442.919 Q177.732 445.604 172.014 445.604 Q166.297 445.604 163.218 442.919 Q160.163 440.234 160.163 435.211 Q160.163 431.901 162.061 429.609 Q163.959 427.317 167.339 426.53 M165.626 419.146 Q165.626 421.831 167.292 423.336 Q168.982 424.841 172.014 424.841 Q175.024 424.841 176.714 423.336 Q178.426 421.831 178.426 419.146 Q178.426 416.461 176.714 414.956 Q175.024 413.452 172.014 413.452 Q168.982 413.452 167.292 414.956 Q165.626 416.461 165.626 419.146 Z\" fill=\"#000000\" fill-rule=\"evenodd\" fill-opacity=\"1\" /><path clip-path=\"url(#clip460)\" d=\"M117.501 99.1487 L125.14 99.1487 L125.14 72.7831 L116.83 74.4497 L116.83 70.1905 L125.093 68.5238 L129.769 68.5238 L129.769 99.1487 L137.408 99.1487 L137.408 103.084 L117.501 103.084 L117.501 99.1487 Z\" fill=\"#000000\" fill-rule=\"evenodd\" fill-opacity=\"1\" /><path clip-path=\"url(#clip460)\" d=\"M146.853 97.2042 L151.737 97.2042 L151.737 103.084 L146.853 103.084 L146.853 97.2042 Z\" fill=\"#000000\" fill-rule=\"evenodd\" fill-opacity=\"1\" /><path clip-path=\"url(#clip460)\" d=\"M171.922 71.6025 Q168.311 71.6025 166.482 75.1673 Q164.677 78.709 164.677 85.8386 Q164.677 92.945 166.482 96.5098 Q168.311 100.051 171.922 100.051 Q175.556 100.051 177.362 96.5098 Q179.19 92.945 179.19 85.8386 Q179.19 78.709 177.362 75.1673 Q175.556 71.6025 171.922 71.6025 M171.922 67.8989 Q177.732 67.8989 180.788 72.5053 Q183.866 77.0886 183.866 85.8386 Q183.866 94.5654 180.788 99.1718 Q177.732 103.755 171.922 103.755 Q166.112 103.755 163.033 99.1718 Q159.978 94.5654 159.978 85.8386 Q159.978 77.0886 163.033 72.5053 Q166.112 67.8989 171.922 67.8989 Z\" fill=\"#000000\" fill-rule=\"evenodd\" fill-opacity=\"1\" /><path clip-path=\"url(#clip460)\" d=\"M16.4842 797.279 L16.4842 787.699 L48.8219 775.572 L16.4842 763.382 L16.4842 753.801 L64.0042 753.801 L64.0042 760.071 L22.277 760.071 L54.8694 772.325 L54.8694 778.787 L22.277 791.041 L64.0042 791.041 L64.0042 797.279 L16.4842 797.279 Z\" fill=\"#000000\" fill-rule=\"evenodd\" fill-opacity=\"1\" /><path clip-path=\"url(#clip460)\" d=\"M14.5426 727.224 Q21.8632 731.489 29.0246 733.558 Q36.186 735.627 43.5384 735.627 Q50.8908 735.627 58.1159 733.558 Q65.3091 731.458 72.5979 727.224 L72.5979 732.317 Q65.1182 737.091 57.8931 739.478 Q50.668 741.834 43.5384 741.834 Q36.4406 741.834 29.2474 739.478 Q22.0542 737.123 14.5426 732.317 L14.5426 727.224 Z\" fill=\"#000000\" fill-rule=\"evenodd\" fill-opacity=\"1\" /><path clip-path=\"url(#clip460)\" d=\"M42.4881 686.229 L64.0042 686.229 L64.0042 692.086 L42.679 692.086 Q37.6183 692.086 35.1038 694.059 Q32.5894 696.032 32.5894 699.979 Q32.5894 704.722 35.6131 707.459 Q38.6368 710.196 43.8567 710.196 L64.0042 710.196 L64.0042 716.084 L14.479 716.084 L14.479 710.196 L33.8944 710.196 Q30.6797 708.095 29.0883 705.263 Q27.4968 702.398 27.4968 698.674 Q27.4968 692.531 31.3163 689.38 Q35.1038 686.229 42.4881 686.229 Z\" fill=\"#000000\" fill-rule=\"evenodd\" fill-opacity=\"1\" /><path clip-path=\"url(#clip460)\" d=\"M14.5426 675.471 L14.5426 670.379 Q22.0542 665.604 29.2474 663.249 Q36.4406 660.862 43.5384 660.862 Q50.668 660.862 57.8931 663.249 Q65.1182 665.604 72.5979 670.379 L72.5979 675.471 Q65.3091 671.238 58.1159 669.169 Q50.8908 667.068 43.5384 667.068 Q36.186 667.068 29.0246 669.169 Q21.8632 671.238 14.5426 675.471 Z\" fill=\"#000000\" fill-rule=\"evenodd\" fill-opacity=\"1\" /><polyline clip-path=\"url(#clip462)\" style=\"stroke:#009af9; stroke-linecap:butt; stroke-linejoin:round; stroke-width:4; stroke-opacity:1; fill:none\" points=\"\n",
       "  280.231,85.9747 503.804,87.1242 727.378,95.8698 950.951,155.564 1174.52,393.033 1398.1,695.047 1621.67,848.895 1845.24,907.367 2068.82,928.538 2292.39,936.154 \n",
       "  \n",
       "  \"/>\n",
       "<circle clip-path=\"url(#clip462)\" cx=\"280.231\" cy=\"85.9747\" r=\"14\" fill=\"#009af9\" fill-rule=\"evenodd\" fill-opacity=\"1\" stroke=\"#000000\" stroke-opacity=\"1\" stroke-width=\"3.2\"/>\n",
       "<circle clip-path=\"url(#clip462)\" cx=\"503.804\" cy=\"87.1242\" r=\"14\" fill=\"#009af9\" fill-rule=\"evenodd\" fill-opacity=\"1\" stroke=\"#000000\" stroke-opacity=\"1\" stroke-width=\"3.2\"/>\n",
       "<circle clip-path=\"url(#clip462)\" cx=\"727.378\" cy=\"95.8698\" r=\"14\" fill=\"#009af9\" fill-rule=\"evenodd\" fill-opacity=\"1\" stroke=\"#000000\" stroke-opacity=\"1\" stroke-width=\"3.2\"/>\n",
       "<circle clip-path=\"url(#clip462)\" cx=\"950.951\" cy=\"155.564\" r=\"14\" fill=\"#009af9\" fill-rule=\"evenodd\" fill-opacity=\"1\" stroke=\"#000000\" stroke-opacity=\"1\" stroke-width=\"3.2\"/>\n",
       "<circle clip-path=\"url(#clip462)\" cx=\"1174.52\" cy=\"393.033\" r=\"14\" fill=\"#009af9\" fill-rule=\"evenodd\" fill-opacity=\"1\" stroke=\"#000000\" stroke-opacity=\"1\" stroke-width=\"3.2\"/>\n",
       "<circle clip-path=\"url(#clip462)\" cx=\"1398.1\" cy=\"695.047\" r=\"14\" fill=\"#009af9\" fill-rule=\"evenodd\" fill-opacity=\"1\" stroke=\"#000000\" stroke-opacity=\"1\" stroke-width=\"3.2\"/>\n",
       "<circle clip-path=\"url(#clip462)\" cx=\"1621.67\" cy=\"848.895\" r=\"14\" fill=\"#009af9\" fill-rule=\"evenodd\" fill-opacity=\"1\" stroke=\"#000000\" stroke-opacity=\"1\" stroke-width=\"3.2\"/>\n",
       "<circle clip-path=\"url(#clip462)\" cx=\"1845.24\" cy=\"907.367\" r=\"14\" fill=\"#009af9\" fill-rule=\"evenodd\" fill-opacity=\"1\" stroke=\"#000000\" stroke-opacity=\"1\" stroke-width=\"3.2\"/>\n",
       "<circle clip-path=\"url(#clip462)\" cx=\"2068.82\" cy=\"928.538\" r=\"14\" fill=\"#009af9\" fill-rule=\"evenodd\" fill-opacity=\"1\" stroke=\"#000000\" stroke-opacity=\"1\" stroke-width=\"3.2\"/>\n",
       "<circle clip-path=\"url(#clip462)\" cx=\"2292.39\" cy=\"936.154\" r=\"14\" fill=\"#009af9\" fill-rule=\"evenodd\" fill-opacity=\"1\" stroke=\"#000000\" stroke-opacity=\"1\" stroke-width=\"3.2\"/>\n",
       "<polyline clip-path=\"url(#clip462)\" style=\"stroke:#e26f46; stroke-linecap:butt; stroke-linejoin:round; stroke-width:4; stroke-opacity:1; fill:none\" points=\"\n",
       "  280.231,85.8689 503.804,86.3216 727.378,90.1059 950.951,124.469 1174.52,367.107 1398.1,735.019 1621.67,874.148 1845.24,917.731 2068.82,932.417 2292.39,937.568 \n",
       "  \n",
       "  \"/>\n",
       "<circle clip-path=\"url(#clip462)\" cx=\"280.231\" cy=\"85.8689\" r=\"14\" fill=\"#e26f46\" fill-rule=\"evenodd\" fill-opacity=\"1\" stroke=\"#000000\" stroke-opacity=\"1\" stroke-width=\"3.2\"/>\n",
       "<circle clip-path=\"url(#clip462)\" cx=\"503.804\" cy=\"86.3216\" r=\"14\" fill=\"#e26f46\" fill-rule=\"evenodd\" fill-opacity=\"1\" stroke=\"#000000\" stroke-opacity=\"1\" stroke-width=\"3.2\"/>\n",
       "<circle clip-path=\"url(#clip462)\" cx=\"727.378\" cy=\"90.1059\" r=\"14\" fill=\"#e26f46\" fill-rule=\"evenodd\" fill-opacity=\"1\" stroke=\"#000000\" stroke-opacity=\"1\" stroke-width=\"3.2\"/>\n",
       "<circle clip-path=\"url(#clip462)\" cx=\"950.951\" cy=\"124.469\" r=\"14\" fill=\"#e26f46\" fill-rule=\"evenodd\" fill-opacity=\"1\" stroke=\"#000000\" stroke-opacity=\"1\" stroke-width=\"3.2\"/>\n",
       "<circle clip-path=\"url(#clip462)\" cx=\"1174.52\" cy=\"367.107\" r=\"14\" fill=\"#e26f46\" fill-rule=\"evenodd\" fill-opacity=\"1\" stroke=\"#000000\" stroke-opacity=\"1\" stroke-width=\"3.2\"/>\n",
       "<circle clip-path=\"url(#clip462)\" cx=\"1398.1\" cy=\"735.019\" r=\"14\" fill=\"#e26f46\" fill-rule=\"evenodd\" fill-opacity=\"1\" stroke=\"#000000\" stroke-opacity=\"1\" stroke-width=\"3.2\"/>\n",
       "<circle clip-path=\"url(#clip462)\" cx=\"1621.67\" cy=\"874.148\" r=\"14\" fill=\"#e26f46\" fill-rule=\"evenodd\" fill-opacity=\"1\" stroke=\"#000000\" stroke-opacity=\"1\" stroke-width=\"3.2\"/>\n",
       "<circle clip-path=\"url(#clip462)\" cx=\"1845.24\" cy=\"917.731\" r=\"14\" fill=\"#e26f46\" fill-rule=\"evenodd\" fill-opacity=\"1\" stroke=\"#000000\" stroke-opacity=\"1\" stroke-width=\"3.2\"/>\n",
       "<circle clip-path=\"url(#clip462)\" cx=\"2068.82\" cy=\"932.417\" r=\"14\" fill=\"#e26f46\" fill-rule=\"evenodd\" fill-opacity=\"1\" stroke=\"#000000\" stroke-opacity=\"1\" stroke-width=\"3.2\"/>\n",
       "<circle clip-path=\"url(#clip462)\" cx=\"2292.39\" cy=\"937.568\" r=\"14\" fill=\"#e26f46\" fill-rule=\"evenodd\" fill-opacity=\"1\" stroke=\"#000000\" stroke-opacity=\"1\" stroke-width=\"3.2\"/>\n",
       "<polyline clip-path=\"url(#clip462)\" style=\"stroke:#3da44d; stroke-linecap:butt; stroke-linejoin:round; stroke-width:4; stroke-opacity:1; fill:none\" points=\"\n",
       "  280.231,85.8573 503.804,86.2184 727.378,89.0674 950.951,114.07 1174.52,374.679 1398.1,909.907 1621.67,1079.31 1845.24,1128.59 2068.82,1145.08 2292.39,1150.87 \n",
       "  \n",
       "  \"/>\n",
       "<circle clip-path=\"url(#clip462)\" cx=\"280.231\" cy=\"85.8573\" r=\"14\" fill=\"#3da44d\" fill-rule=\"evenodd\" fill-opacity=\"1\" stroke=\"#000000\" stroke-opacity=\"1\" stroke-width=\"3.2\"/>\n",
       "<circle clip-path=\"url(#clip462)\" cx=\"503.804\" cy=\"86.2184\" r=\"14\" fill=\"#3da44d\" fill-rule=\"evenodd\" fill-opacity=\"1\" stroke=\"#000000\" stroke-opacity=\"1\" stroke-width=\"3.2\"/>\n",
       "<circle clip-path=\"url(#clip462)\" cx=\"727.378\" cy=\"89.0674\" r=\"14\" fill=\"#3da44d\" fill-rule=\"evenodd\" fill-opacity=\"1\" stroke=\"#000000\" stroke-opacity=\"1\" stroke-width=\"3.2\"/>\n",
       "<circle clip-path=\"url(#clip462)\" cx=\"950.951\" cy=\"114.07\" r=\"14\" fill=\"#3da44d\" fill-rule=\"evenodd\" fill-opacity=\"1\" stroke=\"#000000\" stroke-opacity=\"1\" stroke-width=\"3.2\"/>\n",
       "<circle clip-path=\"url(#clip462)\" cx=\"1174.52\" cy=\"374.679\" r=\"14\" fill=\"#3da44d\" fill-rule=\"evenodd\" fill-opacity=\"1\" stroke=\"#000000\" stroke-opacity=\"1\" stroke-width=\"3.2\"/>\n",
       "<circle clip-path=\"url(#clip462)\" cx=\"1398.1\" cy=\"909.907\" r=\"14\" fill=\"#3da44d\" fill-rule=\"evenodd\" fill-opacity=\"1\" stroke=\"#000000\" stroke-opacity=\"1\" stroke-width=\"3.2\"/>\n",
       "<circle clip-path=\"url(#clip462)\" cx=\"1621.67\" cy=\"1079.31\" r=\"14\" fill=\"#3da44d\" fill-rule=\"evenodd\" fill-opacity=\"1\" stroke=\"#000000\" stroke-opacity=\"1\" stroke-width=\"3.2\"/>\n",
       "<circle clip-path=\"url(#clip462)\" cx=\"1845.24\" cy=\"1128.59\" r=\"14\" fill=\"#3da44d\" fill-rule=\"evenodd\" fill-opacity=\"1\" stroke=\"#000000\" stroke-opacity=\"1\" stroke-width=\"3.2\"/>\n",
       "<circle clip-path=\"url(#clip462)\" cx=\"2068.82\" cy=\"1145.08\" r=\"14\" fill=\"#3da44d\" fill-rule=\"evenodd\" fill-opacity=\"1\" stroke=\"#000000\" stroke-opacity=\"1\" stroke-width=\"3.2\"/>\n",
       "<circle clip-path=\"url(#clip462)\" cx=\"2292.39\" cy=\"1150.87\" r=\"14\" fill=\"#3da44d\" fill-rule=\"evenodd\" fill-opacity=\"1\" stroke=\"#000000\" stroke-opacity=\"1\" stroke-width=\"3.2\"/>\n",
       "<polyline clip-path=\"url(#clip462)\" style=\"stroke:#c271d2; stroke-linecap:butt; stroke-linejoin:round; stroke-width:4; stroke-opacity:1; fill:none\" points=\"\n",
       "  280.231,85.8509 503.804,86.168 727.378,88.6376 950.951,108.974 1174.52,342.699 1398.1,939.719 1621.67,1092.77 1845.24,1133.52 2068.82,1146.86 2292.39,1151.51 \n",
       "  \n",
       "  \"/>\n",
       "<circle clip-path=\"url(#clip462)\" cx=\"280.231\" cy=\"85.8509\" r=\"14\" fill=\"#c271d2\" fill-rule=\"evenodd\" fill-opacity=\"1\" stroke=\"#000000\" stroke-opacity=\"1\" stroke-width=\"3.2\"/>\n",
       "<circle clip-path=\"url(#clip462)\" cx=\"503.804\" cy=\"86.168\" r=\"14\" fill=\"#c271d2\" fill-rule=\"evenodd\" fill-opacity=\"1\" stroke=\"#000000\" stroke-opacity=\"1\" stroke-width=\"3.2\"/>\n",
       "<circle clip-path=\"url(#clip462)\" cx=\"727.378\" cy=\"88.6376\" r=\"14\" fill=\"#c271d2\" fill-rule=\"evenodd\" fill-opacity=\"1\" stroke=\"#000000\" stroke-opacity=\"1\" stroke-width=\"3.2\"/>\n",
       "<circle clip-path=\"url(#clip462)\" cx=\"950.951\" cy=\"108.974\" r=\"14\" fill=\"#c271d2\" fill-rule=\"evenodd\" fill-opacity=\"1\" stroke=\"#000000\" stroke-opacity=\"1\" stroke-width=\"3.2\"/>\n",
       "<circle clip-path=\"url(#clip462)\" cx=\"1174.52\" cy=\"342.699\" r=\"14\" fill=\"#c271d2\" fill-rule=\"evenodd\" fill-opacity=\"1\" stroke=\"#000000\" stroke-opacity=\"1\" stroke-width=\"3.2\"/>\n",
       "<circle clip-path=\"url(#clip462)\" cx=\"1398.1\" cy=\"939.719\" r=\"14\" fill=\"#c271d2\" fill-rule=\"evenodd\" fill-opacity=\"1\" stroke=\"#000000\" stroke-opacity=\"1\" stroke-width=\"3.2\"/>\n",
       "<circle clip-path=\"url(#clip462)\" cx=\"1621.67\" cy=\"1092.77\" r=\"14\" fill=\"#c271d2\" fill-rule=\"evenodd\" fill-opacity=\"1\" stroke=\"#000000\" stroke-opacity=\"1\" stroke-width=\"3.2\"/>\n",
       "<circle clip-path=\"url(#clip462)\" cx=\"1845.24\" cy=\"1133.52\" r=\"14\" fill=\"#c271d2\" fill-rule=\"evenodd\" fill-opacity=\"1\" stroke=\"#000000\" stroke-opacity=\"1\" stroke-width=\"3.2\"/>\n",
       "<circle clip-path=\"url(#clip462)\" cx=\"2068.82\" cy=\"1146.86\" r=\"14\" fill=\"#c271d2\" fill-rule=\"evenodd\" fill-opacity=\"1\" stroke=\"#000000\" stroke-opacity=\"1\" stroke-width=\"3.2\"/>\n",
       "<circle clip-path=\"url(#clip462)\" cx=\"2292.39\" cy=\"1151.51\" r=\"14\" fill=\"#c271d2\" fill-rule=\"evenodd\" fill-opacity=\"1\" stroke=\"#000000\" stroke-opacity=\"1\" stroke-width=\"3.2\"/>\n",
       "<polyline clip-path=\"url(#clip462)\" style=\"stroke:#ac8d18; stroke-linecap:butt; stroke-linejoin:round; stroke-width:4; stroke-opacity:1; fill:none\" points=\"\n",
       "  280.231,85.8466 503.804,86.1349 727.378,88.3763 950.951,106.446 1174.52,322.69 1398.1,1035.34 1621.67,1197.37 1845.24,1239.55 2068.82,1253.39 2292.39,1258.23 \n",
       "  \n",
       "  \"/>\n",
       "<circle clip-path=\"url(#clip462)\" cx=\"280.231\" cy=\"85.8466\" r=\"14\" fill=\"#ac8d18\" fill-rule=\"evenodd\" fill-opacity=\"1\" stroke=\"#000000\" stroke-opacity=\"1\" stroke-width=\"3.2\"/>\n",
       "<circle clip-path=\"url(#clip462)\" cx=\"503.804\" cy=\"86.1349\" r=\"14\" fill=\"#ac8d18\" fill-rule=\"evenodd\" fill-opacity=\"1\" stroke=\"#000000\" stroke-opacity=\"1\" stroke-width=\"3.2\"/>\n",
       "<circle clip-path=\"url(#clip462)\" cx=\"727.378\" cy=\"88.3763\" r=\"14\" fill=\"#ac8d18\" fill-rule=\"evenodd\" fill-opacity=\"1\" stroke=\"#000000\" stroke-opacity=\"1\" stroke-width=\"3.2\"/>\n",
       "<circle clip-path=\"url(#clip462)\" cx=\"950.951\" cy=\"106.446\" r=\"14\" fill=\"#ac8d18\" fill-rule=\"evenodd\" fill-opacity=\"1\" stroke=\"#000000\" stroke-opacity=\"1\" stroke-width=\"3.2\"/>\n",
       "<circle clip-path=\"url(#clip462)\" cx=\"1174.52\" cy=\"322.69\" r=\"14\" fill=\"#ac8d18\" fill-rule=\"evenodd\" fill-opacity=\"1\" stroke=\"#000000\" stroke-opacity=\"1\" stroke-width=\"3.2\"/>\n",
       "<circle clip-path=\"url(#clip462)\" cx=\"1398.1\" cy=\"1035.34\" r=\"14\" fill=\"#ac8d18\" fill-rule=\"evenodd\" fill-opacity=\"1\" stroke=\"#000000\" stroke-opacity=\"1\" stroke-width=\"3.2\"/>\n",
       "<circle clip-path=\"url(#clip462)\" cx=\"1621.67\" cy=\"1197.37\" r=\"14\" fill=\"#ac8d18\" fill-rule=\"evenodd\" fill-opacity=\"1\" stroke=\"#000000\" stroke-opacity=\"1\" stroke-width=\"3.2\"/>\n",
       "<circle clip-path=\"url(#clip462)\" cx=\"1845.24\" cy=\"1239.55\" r=\"14\" fill=\"#ac8d18\" fill-rule=\"evenodd\" fill-opacity=\"1\" stroke=\"#000000\" stroke-opacity=\"1\" stroke-width=\"3.2\"/>\n",
       "<circle clip-path=\"url(#clip462)\" cx=\"2068.82\" cy=\"1253.39\" r=\"14\" fill=\"#ac8d18\" fill-rule=\"evenodd\" fill-opacity=\"1\" stroke=\"#000000\" stroke-opacity=\"1\" stroke-width=\"3.2\"/>\n",
       "<circle clip-path=\"url(#clip462)\" cx=\"2292.39\" cy=\"1258.23\" r=\"14\" fill=\"#ac8d18\" fill-rule=\"evenodd\" fill-opacity=\"1\" stroke=\"#000000\" stroke-opacity=\"1\" stroke-width=\"3.2\"/>\n",
       "<polyline clip-path=\"url(#clip462)\" style=\"stroke:#00a9ad; stroke-linecap:butt; stroke-linejoin:round; stroke-width:4; stroke-opacity:1; fill:none\" points=\"\n",
       "  280.231,85.8435 503.804,86.1112 727.378,88.192 950.951,104.843 1174.52,298.545 1398.1,1057.37 1621.67,1205.72 1845.24,1242.51 2068.82,1254.46 2292.39,1258.61 \n",
       "  \n",
       "  \"/>\n",
       "<circle clip-path=\"url(#clip462)\" cx=\"280.231\" cy=\"85.8435\" r=\"14\" fill=\"#00a9ad\" fill-rule=\"evenodd\" fill-opacity=\"1\" stroke=\"#000000\" stroke-opacity=\"1\" stroke-width=\"3.2\"/>\n",
       "<circle clip-path=\"url(#clip462)\" cx=\"503.804\" cy=\"86.1112\" r=\"14\" fill=\"#00a9ad\" fill-rule=\"evenodd\" fill-opacity=\"1\" stroke=\"#000000\" stroke-opacity=\"1\" stroke-width=\"3.2\"/>\n",
       "<circle clip-path=\"url(#clip462)\" cx=\"727.378\" cy=\"88.192\" r=\"14\" fill=\"#00a9ad\" fill-rule=\"evenodd\" fill-opacity=\"1\" stroke=\"#000000\" stroke-opacity=\"1\" stroke-width=\"3.2\"/>\n",
       "<circle clip-path=\"url(#clip462)\" cx=\"950.951\" cy=\"104.843\" r=\"14\" fill=\"#00a9ad\" fill-rule=\"evenodd\" fill-opacity=\"1\" stroke=\"#000000\" stroke-opacity=\"1\" stroke-width=\"3.2\"/>\n",
       "<circle clip-path=\"url(#clip462)\" cx=\"1174.52\" cy=\"298.545\" r=\"14\" fill=\"#00a9ad\" fill-rule=\"evenodd\" fill-opacity=\"1\" stroke=\"#000000\" stroke-opacity=\"1\" stroke-width=\"3.2\"/>\n",
       "<circle clip-path=\"url(#clip462)\" cx=\"1398.1\" cy=\"1057.37\" r=\"14\" fill=\"#00a9ad\" fill-rule=\"evenodd\" fill-opacity=\"1\" stroke=\"#000000\" stroke-opacity=\"1\" stroke-width=\"3.2\"/>\n",
       "<circle clip-path=\"url(#clip462)\" cx=\"1621.67\" cy=\"1205.72\" r=\"14\" fill=\"#00a9ad\" fill-rule=\"evenodd\" fill-opacity=\"1\" stroke=\"#000000\" stroke-opacity=\"1\" stroke-width=\"3.2\"/>\n",
       "<circle clip-path=\"url(#clip462)\" cx=\"1845.24\" cy=\"1242.51\" r=\"14\" fill=\"#00a9ad\" fill-rule=\"evenodd\" fill-opacity=\"1\" stroke=\"#000000\" stroke-opacity=\"1\" stroke-width=\"3.2\"/>\n",
       "<circle clip-path=\"url(#clip462)\" cx=\"2068.82\" cy=\"1254.46\" r=\"14\" fill=\"#00a9ad\" fill-rule=\"evenodd\" fill-opacity=\"1\" stroke=\"#000000\" stroke-opacity=\"1\" stroke-width=\"3.2\"/>\n",
       "<circle clip-path=\"url(#clip462)\" cx=\"2292.39\" cy=\"1258.61\" r=\"14\" fill=\"#00a9ad\" fill-rule=\"evenodd\" fill-opacity=\"1\" stroke=\"#000000\" stroke-opacity=\"1\" stroke-width=\"3.2\"/>\n",
       "<polyline clip-path=\"url(#clip462)\" style=\"stroke:#ed5d92; stroke-linecap:butt; stroke-linejoin:round; stroke-width:4; stroke-opacity:1; fill:none\" points=\"\n",
       "  280.231,85.8412 503.804,86.0935 727.378,88.054 950.951,103.706 1174.52,281.443 1398.1,1120.41 1621.67,1271.63 1845.24,1308.94 2068.82,1321.1 2292.39,1325.33 \n",
       "  \n",
       "  \"/>\n",
       "<circle clip-path=\"url(#clip462)\" cx=\"280.231\" cy=\"85.8412\" r=\"14\" fill=\"#ed5d92\" fill-rule=\"evenodd\" fill-opacity=\"1\" stroke=\"#000000\" stroke-opacity=\"1\" stroke-width=\"3.2\"/>\n",
       "<circle clip-path=\"url(#clip462)\" cx=\"503.804\" cy=\"86.0935\" r=\"14\" fill=\"#ed5d92\" fill-rule=\"evenodd\" fill-opacity=\"1\" stroke=\"#000000\" stroke-opacity=\"1\" stroke-width=\"3.2\"/>\n",
       "<circle clip-path=\"url(#clip462)\" cx=\"727.378\" cy=\"88.054\" r=\"14\" fill=\"#ed5d92\" fill-rule=\"evenodd\" fill-opacity=\"1\" stroke=\"#000000\" stroke-opacity=\"1\" stroke-width=\"3.2\"/>\n",
       "<circle clip-path=\"url(#clip462)\" cx=\"950.951\" cy=\"103.706\" r=\"14\" fill=\"#ed5d92\" fill-rule=\"evenodd\" fill-opacity=\"1\" stroke=\"#000000\" stroke-opacity=\"1\" stroke-width=\"3.2\"/>\n",
       "<circle clip-path=\"url(#clip462)\" cx=\"1174.52\" cy=\"281.443\" r=\"14\" fill=\"#ed5d92\" fill-rule=\"evenodd\" fill-opacity=\"1\" stroke=\"#000000\" stroke-opacity=\"1\" stroke-width=\"3.2\"/>\n",
       "<circle clip-path=\"url(#clip462)\" cx=\"1398.1\" cy=\"1120.41\" r=\"14\" fill=\"#ed5d92\" fill-rule=\"evenodd\" fill-opacity=\"1\" stroke=\"#000000\" stroke-opacity=\"1\" stroke-width=\"3.2\"/>\n",
       "<circle clip-path=\"url(#clip462)\" cx=\"1621.67\" cy=\"1271.63\" r=\"14\" fill=\"#ed5d92\" fill-rule=\"evenodd\" fill-opacity=\"1\" stroke=\"#000000\" stroke-opacity=\"1\" stroke-width=\"3.2\"/>\n",
       "<circle clip-path=\"url(#clip462)\" cx=\"1845.24\" cy=\"1308.94\" r=\"14\" fill=\"#ed5d92\" fill-rule=\"evenodd\" fill-opacity=\"1\" stroke=\"#000000\" stroke-opacity=\"1\" stroke-width=\"3.2\"/>\n",
       "<circle clip-path=\"url(#clip462)\" cx=\"2068.82\" cy=\"1321.1\" r=\"14\" fill=\"#ed5d92\" fill-rule=\"evenodd\" fill-opacity=\"1\" stroke=\"#000000\" stroke-opacity=\"1\" stroke-width=\"3.2\"/>\n",
       "<circle clip-path=\"url(#clip462)\" cx=\"2292.39\" cy=\"1325.33\" r=\"14\" fill=\"#ed5d92\" fill-rule=\"evenodd\" fill-opacity=\"1\" stroke=\"#000000\" stroke-opacity=\"1\" stroke-width=\"3.2\"/>\n",
       "<polyline clip-path=\"url(#clip462)\" style=\"stroke:#c68125; stroke-linecap:butt; stroke-linejoin:round; stroke-width:4; stroke-opacity:1; fill:none\" points=\"\n",
       "  280.231,85.8395 503.804,86.0797 727.378,87.9467 950.951,102.836 1174.52,266.338 1398.1,1137.17 1621.67,1277.4 1845.24,1310.97 2068.82,1321.82 2292.39,1325.59 \n",
       "  \n",
       "  \"/>\n",
       "<circle clip-path=\"url(#clip462)\" cx=\"280.231\" cy=\"85.8395\" r=\"14\" fill=\"#c68125\" fill-rule=\"evenodd\" fill-opacity=\"1\" stroke=\"#000000\" stroke-opacity=\"1\" stroke-width=\"3.2\"/>\n",
       "<circle clip-path=\"url(#clip462)\" cx=\"503.804\" cy=\"86.0797\" r=\"14\" fill=\"#c68125\" fill-rule=\"evenodd\" fill-opacity=\"1\" stroke=\"#000000\" stroke-opacity=\"1\" stroke-width=\"3.2\"/>\n",
       "<circle clip-path=\"url(#clip462)\" cx=\"727.378\" cy=\"87.9467\" r=\"14\" fill=\"#c68125\" fill-rule=\"evenodd\" fill-opacity=\"1\" stroke=\"#000000\" stroke-opacity=\"1\" stroke-width=\"3.2\"/>\n",
       "<circle clip-path=\"url(#clip462)\" cx=\"950.951\" cy=\"102.836\" r=\"14\" fill=\"#c68125\" fill-rule=\"evenodd\" fill-opacity=\"1\" stroke=\"#000000\" stroke-opacity=\"1\" stroke-width=\"3.2\"/>\n",
       "<circle clip-path=\"url(#clip462)\" cx=\"1174.52\" cy=\"266.338\" r=\"14\" fill=\"#c68125\" fill-rule=\"evenodd\" fill-opacity=\"1\" stroke=\"#000000\" stroke-opacity=\"1\" stroke-width=\"3.2\"/>\n",
       "<circle clip-path=\"url(#clip462)\" cx=\"1398.1\" cy=\"1137.17\" r=\"14\" fill=\"#c68125\" fill-rule=\"evenodd\" fill-opacity=\"1\" stroke=\"#000000\" stroke-opacity=\"1\" stroke-width=\"3.2\"/>\n",
       "<circle clip-path=\"url(#clip462)\" cx=\"1621.67\" cy=\"1277.4\" r=\"14\" fill=\"#c68125\" fill-rule=\"evenodd\" fill-opacity=\"1\" stroke=\"#000000\" stroke-opacity=\"1\" stroke-width=\"3.2\"/>\n",
       "<circle clip-path=\"url(#clip462)\" cx=\"1845.24\" cy=\"1310.97\" r=\"14\" fill=\"#c68125\" fill-rule=\"evenodd\" fill-opacity=\"1\" stroke=\"#000000\" stroke-opacity=\"1\" stroke-width=\"3.2\"/>\n",
       "<circle clip-path=\"url(#clip462)\" cx=\"2068.82\" cy=\"1321.82\" r=\"14\" fill=\"#c68125\" fill-rule=\"evenodd\" fill-opacity=\"1\" stroke=\"#000000\" stroke-opacity=\"1\" stroke-width=\"3.2\"/>\n",
       "<circle clip-path=\"url(#clip462)\" cx=\"2292.39\" cy=\"1325.59\" r=\"14\" fill=\"#c68125\" fill-rule=\"evenodd\" fill-opacity=\"1\" stroke=\"#000000\" stroke-opacity=\"1\" stroke-width=\"3.2\"/>\n",
       "<polyline clip-path=\"url(#clip462)\" style=\"stroke:#00a98d; stroke-linecap:butt; stroke-linejoin:round; stroke-width:4; stroke-opacity:1; fill:none\" points=\"\n",
       "  280.231,85.838 503.804,86.0687 727.378,87.8608 950.951,102.144 1174.52,255.254 1398.1,1182.77 1621.67,1323.75 1845.24,1357.53 2068.82,1368.49 2292.39,1372.3 \n",
       "  \n",
       "  \"/>\n",
       "<circle clip-path=\"url(#clip462)\" cx=\"280.231\" cy=\"85.838\" r=\"14\" fill=\"#00a98d\" fill-rule=\"evenodd\" fill-opacity=\"1\" stroke=\"#000000\" stroke-opacity=\"1\" stroke-width=\"3.2\"/>\n",
       "<circle clip-path=\"url(#clip462)\" cx=\"503.804\" cy=\"86.0687\" r=\"14\" fill=\"#00a98d\" fill-rule=\"evenodd\" fill-opacity=\"1\" stroke=\"#000000\" stroke-opacity=\"1\" stroke-width=\"3.2\"/>\n",
       "<circle clip-path=\"url(#clip462)\" cx=\"727.378\" cy=\"87.8608\" r=\"14\" fill=\"#00a98d\" fill-rule=\"evenodd\" fill-opacity=\"1\" stroke=\"#000000\" stroke-opacity=\"1\" stroke-width=\"3.2\"/>\n",
       "<circle clip-path=\"url(#clip462)\" cx=\"950.951\" cy=\"102.144\" r=\"14\" fill=\"#00a98d\" fill-rule=\"evenodd\" fill-opacity=\"1\" stroke=\"#000000\" stroke-opacity=\"1\" stroke-width=\"3.2\"/>\n",
       "<circle clip-path=\"url(#clip462)\" cx=\"1174.52\" cy=\"255.254\" r=\"14\" fill=\"#00a98d\" fill-rule=\"evenodd\" fill-opacity=\"1\" stroke=\"#000000\" stroke-opacity=\"1\" stroke-width=\"3.2\"/>\n",
       "<circle clip-path=\"url(#clip462)\" cx=\"1398.1\" cy=\"1182.77\" r=\"14\" fill=\"#00a98d\" fill-rule=\"evenodd\" fill-opacity=\"1\" stroke=\"#000000\" stroke-opacity=\"1\" stroke-width=\"3.2\"/>\n",
       "<circle clip-path=\"url(#clip462)\" cx=\"1621.67\" cy=\"1323.75\" r=\"14\" fill=\"#00a98d\" fill-rule=\"evenodd\" fill-opacity=\"1\" stroke=\"#000000\" stroke-opacity=\"1\" stroke-width=\"3.2\"/>\n",
       "<circle clip-path=\"url(#clip462)\" cx=\"1845.24\" cy=\"1357.53\" r=\"14\" fill=\"#00a98d\" fill-rule=\"evenodd\" fill-opacity=\"1\" stroke=\"#000000\" stroke-opacity=\"1\" stroke-width=\"3.2\"/>\n",
       "<circle clip-path=\"url(#clip462)\" cx=\"2068.82\" cy=\"1368.49\" r=\"14\" fill=\"#00a98d\" fill-rule=\"evenodd\" fill-opacity=\"1\" stroke=\"#000000\" stroke-opacity=\"1\" stroke-width=\"3.2\"/>\n",
       "<circle clip-path=\"url(#clip462)\" cx=\"2292.39\" cy=\"1372.3\" r=\"14\" fill=\"#00a98d\" fill-rule=\"evenodd\" fill-opacity=\"1\" stroke=\"#000000\" stroke-opacity=\"1\" stroke-width=\"3.2\"/>\n",
       "<path clip-path=\"url(#clip460)\" d=\"\n",
       "M1886.83 697.499 L2281.66 697.499 L2281.66 92.6992 L1886.83 92.6992  Z\n",
       "  \" fill=\"#ffffff\" fill-rule=\"evenodd\" fill-opacity=\"1\"/>\n",
       "<polyline clip-path=\"url(#clip460)\" style=\"stroke:#000000; stroke-linecap:butt; stroke-linejoin:round; stroke-width:4; stroke-opacity:1; fill:none\" points=\"\n",
       "  1886.83,697.499 2281.66,697.499 2281.66,92.6992 1886.83,92.6992 1886.83,697.499 \n",
       "  \"/>\n",
       "<polyline clip-path=\"url(#clip460)\" style=\"stroke:#009af9; stroke-linecap:butt; stroke-linejoin:round; stroke-width:4; stroke-opacity:1; fill:none\" points=\"\n",
       "  1910.52,153.179 2052.72,153.179 \n",
       "  \"/>\n",
       "<circle clip-path=\"url(#clip460)\" cx=\"1981.62\" cy=\"153.179\" r=\"23\" fill=\"#009af9\" fill-rule=\"evenodd\" fill-opacity=\"1\" stroke=\"#000000\" stroke-opacity=\"1\" stroke-width=\"5.12\"/>\n",
       "<path clip-path=\"url(#clip460)\" d=\"M2076.42 135.899 L2082.71 135.899 L2098.04 164.811 L2098.04 135.899 L2102.57 135.899 L2102.57 170.459 L2096.28 170.459 L2080.95 141.547 L2080.95 170.459 L2076.42 170.459 L2076.42 135.899 Z\" fill=\"#000000\" fill-rule=\"evenodd\" fill-opacity=\"1\" /><path clip-path=\"url(#clip460)\" d=\"M2127.32 148.932 L2156.99 148.932 L2156.99 152.82 L2127.32 152.82 L2127.32 148.932 M2127.32 158.376 L2156.99 158.376 L2156.99 162.311 L2127.32 162.311 L2127.32 158.376 Z\" fill=\"#000000\" fill-rule=\"evenodd\" fill-opacity=\"1\" /><path clip-path=\"url(#clip460)\" d=\"M2186.18 166.524 L2202.5 166.524 L2202.5 170.459 L2180.56 170.459 L2180.56 166.524 Q2183.22 163.769 2187.8 159.14 Q2192.41 154.487 2193.59 153.144 Q2195.84 150.621 2196.72 148.885 Q2197.62 147.126 2197.62 145.436 Q2197.62 142.682 2195.67 140.945 Q2193.75 139.209 2190.65 139.209 Q2188.45 139.209 2186 139.973 Q2183.57 140.737 2180.79 142.288 L2180.79 137.566 Q2183.61 136.432 2186.07 135.853 Q2188.52 135.274 2190.56 135.274 Q2195.93 135.274 2199.12 137.959 Q2202.32 140.645 2202.32 145.135 Q2202.32 147.265 2201.51 149.186 Q2200.72 151.084 2198.61 153.677 Q2198.04 154.348 2194.93 157.566 Q2191.83 160.76 2186.18 166.524 Z\" fill=\"#000000\" fill-rule=\"evenodd\" fill-opacity=\"1\" /><polyline clip-path=\"url(#clip460)\" style=\"stroke:#e26f46; stroke-linecap:butt; stroke-linejoin:round; stroke-width:4; stroke-opacity:1; fill:none\" points=\"\n",
       "  1910.52,213.659 2052.72,213.659 \n",
       "  \"/>\n",
       "<circle clip-path=\"url(#clip460)\" cx=\"1981.62\" cy=\"213.659\" r=\"23\" fill=\"#e26f46\" fill-rule=\"evenodd\" fill-opacity=\"1\" stroke=\"#000000\" stroke-opacity=\"1\" stroke-width=\"5.12\"/>\n",
       "<path clip-path=\"url(#clip460)\" d=\"M2076.42 196.379 L2082.71 196.379 L2098.04 225.291 L2098.04 196.379 L2102.57 196.379 L2102.57 230.939 L2096.28 230.939 L2080.95 202.027 L2080.95 230.939 L2076.42 230.939 L2076.42 196.379 Z\" fill=\"#000000\" fill-rule=\"evenodd\" fill-opacity=\"1\" /><path clip-path=\"url(#clip460)\" d=\"M2127.32 209.412 L2156.99 209.412 L2156.99 213.3 L2127.32 213.3 L2127.32 209.412 M2127.32 218.856 L2156.99 218.856 L2156.99 222.791 L2127.32 222.791 L2127.32 218.856 Z\" fill=\"#000000\" fill-rule=\"evenodd\" fill-opacity=\"1\" /><path clip-path=\"url(#clip460)\" d=\"M2196.32 212.305 Q2199.68 213.023 2201.55 215.291 Q2203.45 217.56 2203.45 220.893 Q2203.45 226.009 2199.93 228.81 Q2196.42 231.61 2189.93 231.61 Q2187.76 231.61 2185.44 231.171 Q2183.15 230.754 2180.7 229.898 L2180.7 225.384 Q2182.64 226.518 2184.96 227.097 Q2187.27 227.675 2189.79 227.675 Q2194.19 227.675 2196.48 225.939 Q2198.8 224.203 2198.8 220.893 Q2198.8 217.837 2196.65 216.124 Q2194.52 214.388 2190.7 214.388 L2186.67 214.388 L2186.67 210.546 L2190.88 210.546 Q2194.33 210.546 2196.16 209.18 Q2197.99 207.791 2197.99 205.199 Q2197.99 202.537 2196.09 201.125 Q2194.22 199.689 2190.7 199.689 Q2188.78 199.689 2186.58 200.106 Q2184.38 200.523 2181.74 201.402 L2181.74 197.236 Q2184.4 196.495 2186.72 196.125 Q2189.05 195.754 2191.11 195.754 Q2196.44 195.754 2199.54 198.185 Q2202.64 200.592 2202.64 204.712 Q2202.64 207.583 2201 209.574 Q2199.35 211.541 2196.32 212.305 Z\" fill=\"#000000\" fill-rule=\"evenodd\" fill-opacity=\"1\" /><polyline clip-path=\"url(#clip460)\" style=\"stroke:#3da44d; stroke-linecap:butt; stroke-linejoin:round; stroke-width:4; stroke-opacity:1; fill:none\" points=\"\n",
       "  1910.52,274.139 2052.72,274.139 \n",
       "  \"/>\n",
       "<circle clip-path=\"url(#clip460)\" cx=\"1981.62\" cy=\"274.139\" r=\"23\" fill=\"#3da44d\" fill-rule=\"evenodd\" fill-opacity=\"1\" stroke=\"#000000\" stroke-opacity=\"1\" stroke-width=\"5.12\"/>\n",
       "<path clip-path=\"url(#clip460)\" d=\"M2076.42 256.859 L2082.71 256.859 L2098.04 285.771 L2098.04 256.859 L2102.57 256.859 L2102.57 291.419 L2096.28 291.419 L2080.95 262.507 L2080.95 291.419 L2076.42 291.419 L2076.42 256.859 Z\" fill=\"#000000\" fill-rule=\"evenodd\" fill-opacity=\"1\" /><path clip-path=\"url(#clip460)\" d=\"M2127.32 269.892 L2156.99 269.892 L2156.99 273.78 L2127.32 273.78 L2127.32 269.892 M2127.32 279.336 L2156.99 279.336 L2156.99 283.271 L2127.32 283.271 L2127.32 279.336 Z\" fill=\"#000000\" fill-rule=\"evenodd\" fill-opacity=\"1\" /><path clip-path=\"url(#clip460)\" d=\"M2195 260.933 L2183.2 279.382 L2195 279.382 L2195 260.933 M2193.78 256.859 L2199.66 256.859 L2199.66 279.382 L2204.59 279.382 L2204.59 283.271 L2199.66 283.271 L2199.66 291.419 L2195 291.419 L2195 283.271 L2179.4 283.271 L2179.4 278.757 L2193.78 256.859 Z\" fill=\"#000000\" fill-rule=\"evenodd\" fill-opacity=\"1\" /><polyline clip-path=\"url(#clip460)\" style=\"stroke:#c271d2; stroke-linecap:butt; stroke-linejoin:round; stroke-width:4; stroke-opacity:1; fill:none\" points=\"\n",
       "  1910.52,334.619 2052.72,334.619 \n",
       "  \"/>\n",
       "<circle clip-path=\"url(#clip460)\" cx=\"1981.62\" cy=\"334.619\" r=\"23\" fill=\"#c271d2\" fill-rule=\"evenodd\" fill-opacity=\"1\" stroke=\"#000000\" stroke-opacity=\"1\" stroke-width=\"5.12\"/>\n",
       "<path clip-path=\"url(#clip460)\" d=\"M2076.42 317.339 L2082.71 317.339 L2098.04 346.251 L2098.04 317.339 L2102.57 317.339 L2102.57 351.899 L2096.28 351.899 L2080.95 322.987 L2080.95 351.899 L2076.42 351.899 L2076.42 317.339 Z\" fill=\"#000000\" fill-rule=\"evenodd\" fill-opacity=\"1\" /><path clip-path=\"url(#clip460)\" d=\"M2127.32 330.372 L2156.99 330.372 L2156.99 334.26 L2127.32 334.26 L2127.32 330.372 M2127.32 339.816 L2156.99 339.816 L2156.99 343.751 L2127.32 343.751 L2127.32 339.816 Z\" fill=\"#000000\" fill-rule=\"evenodd\" fill-opacity=\"1\" /><path clip-path=\"url(#clip460)\" d=\"M2182.2 317.339 L2200.56 317.339 L2200.56 321.274 L2186.48 321.274 L2186.48 329.747 Q2187.5 329.399 2188.52 329.237 Q2189.54 329.052 2190.56 329.052 Q2196.35 329.052 2199.73 332.223 Q2203.1 335.395 2203.1 340.811 Q2203.1 346.39 2199.63 349.492 Q2196.16 352.57 2189.84 352.57 Q2187.67 352.57 2185.4 352.2 Q2183.15 351.83 2180.74 351.089 L2180.74 346.39 Q2182.83 347.524 2185.05 348.08 Q2187.27 348.635 2189.75 348.635 Q2193.75 348.635 2196.09 346.529 Q2198.43 344.422 2198.43 340.811 Q2198.43 337.2 2196.09 335.094 Q2193.75 332.987 2189.75 332.987 Q2187.87 332.987 2186 333.404 Q2184.15 333.821 2182.2 334.7 L2182.2 317.339 Z\" fill=\"#000000\" fill-rule=\"evenodd\" fill-opacity=\"1\" /><polyline clip-path=\"url(#clip460)\" style=\"stroke:#ac8d18; stroke-linecap:butt; stroke-linejoin:round; stroke-width:4; stroke-opacity:1; fill:none\" points=\"\n",
       "  1910.52,395.099 2052.72,395.099 \n",
       "  \"/>\n",
       "<circle clip-path=\"url(#clip460)\" cx=\"1981.62\" cy=\"395.099\" r=\"23\" fill=\"#ac8d18\" fill-rule=\"evenodd\" fill-opacity=\"1\" stroke=\"#000000\" stroke-opacity=\"1\" stroke-width=\"5.12\"/>\n",
       "<path clip-path=\"url(#clip460)\" d=\"M2076.42 377.819 L2082.71 377.819 L2098.04 406.731 L2098.04 377.819 L2102.57 377.819 L2102.57 412.379 L2096.28 412.379 L2080.95 383.467 L2080.95 412.379 L2076.42 412.379 L2076.42 377.819 Z\" fill=\"#000000\" fill-rule=\"evenodd\" fill-opacity=\"1\" /><path clip-path=\"url(#clip460)\" d=\"M2127.32 390.852 L2156.99 390.852 L2156.99 394.74 L2127.32 394.74 L2127.32 390.852 M2127.32 400.296 L2156.99 400.296 L2156.99 404.231 L2127.32 404.231 L2127.32 400.296 Z\" fill=\"#000000\" fill-rule=\"evenodd\" fill-opacity=\"1\" /><path clip-path=\"url(#clip460)\" d=\"M2192.73 393.236 Q2189.59 393.236 2187.73 395.389 Q2185.91 397.541 2185.91 401.291 Q2185.91 405.018 2187.73 407.194 Q2189.59 409.347 2192.73 409.347 Q2195.88 409.347 2197.71 407.194 Q2199.56 405.018 2199.56 401.291 Q2199.56 397.541 2197.71 395.389 Q2195.88 393.236 2192.73 393.236 M2202.02 378.583 L2202.02 382.842 Q2200.26 382.009 2198.45 381.569 Q2196.67 381.129 2194.91 381.129 Q2190.28 381.129 2187.83 384.254 Q2185.4 387.379 2185.05 393.699 Q2186.42 391.685 2188.48 390.62 Q2190.54 389.532 2193.01 389.532 Q2198.22 389.532 2201.23 392.703 Q2204.26 395.851 2204.26 401.291 Q2204.26 406.615 2201.11 409.833 Q2197.97 413.05 2192.73 413.05 Q2186.74 413.05 2183.57 408.467 Q2180.4 403.861 2180.4 395.134 Q2180.4 386.94 2184.29 382.078 Q2188.17 377.194 2194.73 377.194 Q2196.48 377.194 2198.27 377.541 Q2200.07 377.889 2202.02 378.583 Z\" fill=\"#000000\" fill-rule=\"evenodd\" fill-opacity=\"1\" /><polyline clip-path=\"url(#clip460)\" style=\"stroke:#00a9ad; stroke-linecap:butt; stroke-linejoin:round; stroke-width:4; stroke-opacity:1; fill:none\" points=\"\n",
       "  1910.52,455.579 2052.72,455.579 \n",
       "  \"/>\n",
       "<circle clip-path=\"url(#clip460)\" cx=\"1981.62\" cy=\"455.579\" r=\"23\" fill=\"#00a9ad\" fill-rule=\"evenodd\" fill-opacity=\"1\" stroke=\"#000000\" stroke-opacity=\"1\" stroke-width=\"5.12\"/>\n",
       "<path clip-path=\"url(#clip460)\" d=\"M2076.42 438.299 L2082.71 438.299 L2098.04 467.211 L2098.04 438.299 L2102.57 438.299 L2102.57 472.859 L2096.28 472.859 L2080.95 443.947 L2080.95 472.859 L2076.42 472.859 L2076.42 438.299 Z\" fill=\"#000000\" fill-rule=\"evenodd\" fill-opacity=\"1\" /><path clip-path=\"url(#clip460)\" d=\"M2127.32 451.332 L2156.99 451.332 L2156.99 455.22 L2127.32 455.22 L2127.32 451.332 M2127.32 460.776 L2156.99 460.776 L2156.99 464.711 L2127.32 464.711 L2127.32 460.776 Z\" fill=\"#000000\" fill-rule=\"evenodd\" fill-opacity=\"1\" /><path clip-path=\"url(#clip460)\" d=\"M2180.98 438.299 L2203.2 438.299 L2203.2 440.29 L2190.65 472.859 L2185.77 472.859 L2197.57 442.234 L2180.98 442.234 L2180.98 438.299 Z\" fill=\"#000000\" fill-rule=\"evenodd\" fill-opacity=\"1\" /><polyline clip-path=\"url(#clip460)\" style=\"stroke:#ed5d92; stroke-linecap:butt; stroke-linejoin:round; stroke-width:4; stroke-opacity:1; fill:none\" points=\"\n",
       "  1910.52,516.059 2052.72,516.059 \n",
       "  \"/>\n",
       "<circle clip-path=\"url(#clip460)\" cx=\"1981.62\" cy=\"516.059\" r=\"23\" fill=\"#ed5d92\" fill-rule=\"evenodd\" fill-opacity=\"1\" stroke=\"#000000\" stroke-opacity=\"1\" stroke-width=\"5.12\"/>\n",
       "<path clip-path=\"url(#clip460)\" d=\"M2076.42 498.779 L2082.71 498.779 L2098.04 527.691 L2098.04 498.779 L2102.57 498.779 L2102.57 533.339 L2096.28 533.339 L2080.95 504.427 L2080.95 533.339 L2076.42 533.339 L2076.42 498.779 Z\" fill=\"#000000\" fill-rule=\"evenodd\" fill-opacity=\"1\" /><path clip-path=\"url(#clip460)\" d=\"M2127.32 511.812 L2156.99 511.812 L2156.99 515.7 L2127.32 515.7 L2127.32 511.812 M2127.32 521.256 L2156.99 521.256 L2156.99 525.191 L2127.32 525.191 L2127.32 521.256 Z\" fill=\"#000000\" fill-rule=\"evenodd\" fill-opacity=\"1\" /><path clip-path=\"url(#clip460)\" d=\"M2192.16 516.927 Q2188.82 516.927 2186.9 518.71 Q2185 520.492 2185 523.617 Q2185 526.742 2186.9 528.524 Q2188.82 530.307 2192.16 530.307 Q2195.49 530.307 2197.41 528.524 Q2199.33 526.719 2199.33 523.617 Q2199.33 520.492 2197.41 518.71 Q2195.51 516.927 2192.16 516.927 M2187.48 514.937 Q2184.47 514.196 2182.78 512.136 Q2181.11 510.075 2181.11 507.112 Q2181.11 502.969 2184.05 500.562 Q2187.02 498.154 2192.16 498.154 Q2197.32 498.154 2200.26 500.562 Q2203.2 502.969 2203.2 507.112 Q2203.2 510.075 2201.51 512.136 Q2199.84 514.196 2196.85 514.937 Q2200.23 515.724 2202.11 518.015 Q2204.01 520.307 2204.01 523.617 Q2204.01 528.64 2200.93 531.325 Q2197.87 534.01 2192.16 534.01 Q2186.44 534.01 2183.36 531.325 Q2180.3 528.64 2180.3 523.617 Q2180.3 520.307 2182.2 518.015 Q2184.1 515.724 2187.48 514.937 M2185.77 507.552 Q2185.77 510.237 2187.43 511.742 Q2189.12 513.247 2192.16 513.247 Q2195.17 513.247 2196.85 511.742 Q2198.57 510.237 2198.57 507.552 Q2198.57 504.867 2196.85 503.362 Q2195.17 501.858 2192.16 501.858 Q2189.12 501.858 2187.43 503.362 Q2185.77 504.867 2185.77 507.552 Z\" fill=\"#000000\" fill-rule=\"evenodd\" fill-opacity=\"1\" /><polyline clip-path=\"url(#clip460)\" style=\"stroke:#c68125; stroke-linecap:butt; stroke-linejoin:round; stroke-width:4; stroke-opacity:1; fill:none\" points=\"\n",
       "  1910.52,576.539 2052.72,576.539 \n",
       "  \"/>\n",
       "<circle clip-path=\"url(#clip460)\" cx=\"1981.62\" cy=\"576.539\" r=\"23\" fill=\"#c68125\" fill-rule=\"evenodd\" fill-opacity=\"1\" stroke=\"#000000\" stroke-opacity=\"1\" stroke-width=\"5.12\"/>\n",
       "<path clip-path=\"url(#clip460)\" d=\"M2076.42 559.259 L2082.71 559.259 L2098.04 588.171 L2098.04 559.259 L2102.57 559.259 L2102.57 593.819 L2096.28 593.819 L2080.95 564.907 L2080.95 593.819 L2076.42 593.819 L2076.42 559.259 Z\" fill=\"#000000\" fill-rule=\"evenodd\" fill-opacity=\"1\" /><path clip-path=\"url(#clip460)\" d=\"M2127.32 572.292 L2156.99 572.292 L2156.99 576.18 L2127.32 576.18 L2127.32 572.292 M2127.32 581.736 L2156.99 581.736 L2156.99 585.671 L2127.32 585.671 L2127.32 581.736 Z\" fill=\"#000000\" fill-rule=\"evenodd\" fill-opacity=\"1\" /><path clip-path=\"url(#clip460)\" d=\"M2182.29 593.102 L2182.29 588.842 Q2184.05 589.676 2185.86 590.115 Q2187.67 590.555 2189.4 590.555 Q2194.03 590.555 2196.46 587.453 Q2198.92 584.328 2199.26 577.986 Q2197.92 579.977 2195.86 581.041 Q2193.8 582.106 2191.3 582.106 Q2186.11 582.106 2183.08 578.981 Q2180.07 575.833 2180.07 570.393 Q2180.07 565.069 2183.22 561.852 Q2186.37 558.634 2191.6 558.634 Q2197.6 558.634 2200.74 563.241 Q2203.91 567.824 2203.91 576.574 Q2203.91 584.745 2200.03 589.629 Q2196.16 594.49 2189.61 594.49 Q2187.85 594.49 2186.04 594.143 Q2184.24 593.796 2182.29 593.102 M2191.6 578.449 Q2194.75 578.449 2196.58 576.296 Q2198.43 574.143 2198.43 570.393 Q2198.43 566.667 2196.58 564.514 Q2194.75 562.338 2191.6 562.338 Q2188.45 562.338 2186.6 564.514 Q2184.77 566.667 2184.77 570.393 Q2184.77 574.143 2186.6 576.296 Q2188.45 578.449 2191.6 578.449 Z\" fill=\"#000000\" fill-rule=\"evenodd\" fill-opacity=\"1\" /><polyline clip-path=\"url(#clip460)\" style=\"stroke:#00a98d; stroke-linecap:butt; stroke-linejoin:round; stroke-width:4; stroke-opacity:1; fill:none\" points=\"\n",
       "  1910.52,637.019 2052.72,637.019 \n",
       "  \"/>\n",
       "<circle clip-path=\"url(#clip460)\" cx=\"1981.62\" cy=\"637.019\" r=\"23\" fill=\"#00a98d\" fill-rule=\"evenodd\" fill-opacity=\"1\" stroke=\"#000000\" stroke-opacity=\"1\" stroke-width=\"5.12\"/>\n",
       "<path clip-path=\"url(#clip460)\" d=\"M2076.42 619.739 L2082.71 619.739 L2098.04 648.651 L2098.04 619.739 L2102.57 619.739 L2102.57 654.299 L2096.28 654.299 L2080.95 625.387 L2080.95 654.299 L2076.42 654.299 L2076.42 619.739 Z\" fill=\"#000000\" fill-rule=\"evenodd\" fill-opacity=\"1\" /><path clip-path=\"url(#clip460)\" d=\"M2127.32 632.772 L2156.99 632.772 L2156.99 636.66 L2127.32 636.66 L2127.32 632.772 M2127.32 642.216 L2156.99 642.216 L2156.99 646.151 L2127.32 646.151 L2127.32 642.216 Z\" fill=\"#000000\" fill-rule=\"evenodd\" fill-opacity=\"1\" /><path clip-path=\"url(#clip460)\" d=\"M2182.97 650.364 L2190.6 650.364 L2190.6 623.998 L2182.29 625.665 L2182.29 621.406 L2190.56 619.739 L2195.23 619.739 L2195.23 650.364 L2202.87 650.364 L2202.87 654.299 L2182.97 654.299 L2182.97 650.364 Z\" fill=\"#000000\" fill-rule=\"evenodd\" fill-opacity=\"1\" /><path clip-path=\"url(#clip460)\" d=\"M2222.32 622.818 Q2218.71 622.818 2216.88 626.383 Q2215.07 629.924 2215.07 637.054 Q2215.07 644.16 2216.88 647.725 Q2218.71 651.267 2222.32 651.267 Q2225.95 651.267 2227.76 647.725 Q2229.59 644.16 2229.59 637.054 Q2229.59 629.924 2227.76 626.383 Q2225.95 622.818 2222.32 622.818 M2222.32 619.114 Q2228.13 619.114 2231.18 623.721 Q2234.26 628.304 2234.26 637.054 Q2234.26 645.781 2231.18 650.387 Q2228.13 654.97 2222.32 654.97 Q2216.51 654.97 2213.43 650.387 Q2210.37 645.781 2210.37 637.054 Q2210.37 628.304 2213.43 623.721 Q2216.51 619.114 2222.32 619.114 Z\" fill=\"#000000\" fill-rule=\"evenodd\" fill-opacity=\"1\" /></svg>\n"
      ]
     },
     "execution_count": 43,
     "metadata": {},
     "output_type": "execute_result"
    }
   ],
   "source": [
    "p"
   ]
  },
  {
   "cell_type": "code",
   "execution_count": 38,
   "metadata": {},
   "outputs": [
    {
     "data": {
      "image/svg+xml": [
       "<?xml version=\"1.0\" encoding=\"utf-8\"?>\n",
       "<svg xmlns=\"http://www.w3.org/2000/svg\" xmlns:xlink=\"http://www.w3.org/1999/xlink\" width=\"600\" height=\"400\" viewBox=\"0 0 2400 1600\">\n",
       "<defs>\n",
       "  <clipPath id=\"clip380\">\n",
       "    <rect x=\"0\" y=\"0\" width=\"2400\" height=\"1600\"/>\n",
       "  </clipPath>\n",
       "</defs>\n",
       "<path clip-path=\"url(#clip380)\" d=\"\n",
       "M0 1600 L2400 1600 L2400 0 L0 0  Z\n",
       "  \" fill=\"#ffffff\" fill-rule=\"evenodd\" fill-opacity=\"1\"/>\n",
       "<defs>\n",
       "  <clipPath id=\"clip381\">\n",
       "    <rect x=\"480\" y=\"0\" width=\"1681\" height=\"1600\"/>\n",
       "  </clipPath>\n",
       "</defs>\n",
       "<path clip-path=\"url(#clip380)\" d=\"\n",
       "M219.866 1423.18 L2352.76 1423.18 L2352.76 47.2441 L219.866 47.2441  Z\n",
       "  \" fill=\"#ffffff\" fill-rule=\"evenodd\" fill-opacity=\"1\"/>\n",
       "<defs>\n",
       "  <clipPath id=\"clip382\">\n",
       "    <rect x=\"219\" y=\"47\" width=\"2134\" height=\"1377\"/>\n",
       "  </clipPath>\n",
       "</defs>\n",
       "<polyline clip-path=\"url(#clip382)\" style=\"stroke:#000000; stroke-linecap:butt; stroke-linejoin:round; stroke-width:2; stroke-opacity:0.1; fill:none\" points=\"\n",
       "  380.839,1423.18 380.839,47.2441 \n",
       "  \"/>\n",
       "<polyline clip-path=\"url(#clip382)\" style=\"stroke:#000000; stroke-linecap:butt; stroke-linejoin:round; stroke-width:2; stroke-opacity:0.1; fill:none\" points=\"\n",
       "  883.879,1423.18 883.879,47.2441 \n",
       "  \"/>\n",
       "<polyline clip-path=\"url(#clip382)\" style=\"stroke:#000000; stroke-linecap:butt; stroke-linejoin:round; stroke-width:2; stroke-opacity:0.1; fill:none\" points=\"\n",
       "  1386.92,1423.18 1386.92,47.2441 \n",
       "  \"/>\n",
       "<polyline clip-path=\"url(#clip382)\" style=\"stroke:#000000; stroke-linecap:butt; stroke-linejoin:round; stroke-width:2; stroke-opacity:0.1; fill:none\" points=\"\n",
       "  1889.96,1423.18 1889.96,47.2441 \n",
       "  \"/>\n",
       "<polyline clip-path=\"url(#clip380)\" style=\"stroke:#000000; stroke-linecap:butt; stroke-linejoin:round; stroke-width:4; stroke-opacity:1; fill:none\" points=\"\n",
       "  219.866,1423.18 2352.76,1423.18 \n",
       "  \"/>\n",
       "<polyline clip-path=\"url(#clip380)\" style=\"stroke:#000000; stroke-linecap:butt; stroke-linejoin:round; stroke-width:4; stroke-opacity:1; fill:none\" points=\"\n",
       "  380.839,1423.18 380.839,1406.67 \n",
       "  \"/>\n",
       "<polyline clip-path=\"url(#clip380)\" style=\"stroke:#000000; stroke-linecap:butt; stroke-linejoin:round; stroke-width:4; stroke-opacity:1; fill:none\" points=\"\n",
       "  883.879,1423.18 883.879,1406.67 \n",
       "  \"/>\n",
       "<polyline clip-path=\"url(#clip380)\" style=\"stroke:#000000; stroke-linecap:butt; stroke-linejoin:round; stroke-width:4; stroke-opacity:1; fill:none\" points=\"\n",
       "  1386.92,1423.18 1386.92,1406.67 \n",
       "  \"/>\n",
       "<polyline clip-path=\"url(#clip380)\" style=\"stroke:#000000; stroke-linecap:butt; stroke-linejoin:round; stroke-width:4; stroke-opacity:1; fill:none\" points=\"\n",
       "  1889.96,1423.18 1889.96,1406.67 \n",
       "  \"/>\n",
       "<path clip-path=\"url(#clip380)\" d=\"M352.575 1479.92 L368.895 1479.92 L368.895 1483.85 L346.95 1483.85 L346.95 1479.92 Q349.612 1477.16 354.196 1472.53 Q358.802 1467.88 359.983 1466.54 Q362.228 1464.01 363.108 1462.28 Q364.01 1460.52 364.01 1458.83 Q364.01 1456.07 362.066 1454.34 Q360.145 1452.6 357.043 1452.6 Q354.844 1452.6 352.39 1453.37 Q349.96 1454.13 347.182 1455.68 L347.182 1450.96 Q350.006 1449.82 352.46 1449.25 Q354.913 1448.67 356.95 1448.67 Q362.321 1448.67 365.515 1451.35 Q368.71 1454.04 368.71 1458.53 Q368.71 1460.66 367.899 1462.58 Q367.112 1464.48 365.006 1467.07 Q364.427 1467.74 361.325 1470.96 Q358.223 1474.15 352.575 1479.92 Z\" fill=\"#000000\" fill-rule=\"evenodd\" fill-opacity=\"1\" /><path clip-path=\"url(#clip380)\" d=\"M378.709 1477.97 L383.594 1477.97 L383.594 1483.85 L378.709 1483.85 L378.709 1477.97 Z\" fill=\"#000000\" fill-rule=\"evenodd\" fill-opacity=\"1\" /><path clip-path=\"url(#clip380)\" d=\"M393.825 1449.29 L412.181 1449.29 L412.181 1453.23 L398.107 1453.23 L398.107 1461.7 Q399.126 1461.35 400.145 1461.19 Q401.163 1461 402.182 1461 Q407.969 1461 411.348 1464.18 Q414.728 1467.35 414.728 1472.76 Q414.728 1478.34 411.256 1481.44 Q407.783 1484.52 401.464 1484.52 Q399.288 1484.52 397.02 1484.15 Q394.774 1483.78 392.367 1483.04 L392.367 1478.34 Q394.45 1479.48 396.672 1480.03 Q398.895 1480.59 401.371 1480.59 Q405.376 1480.59 407.714 1478.48 Q410.052 1476.38 410.052 1472.76 Q410.052 1469.15 407.714 1467.05 Q405.376 1464.94 401.371 1464.94 Q399.496 1464.94 397.621 1465.36 Q395.77 1465.77 393.825 1466.65 L393.825 1449.29 Z\" fill=\"#000000\" fill-rule=\"evenodd\" fill-opacity=\"1\" /><path clip-path=\"url(#clip380)\" d=\"M851.044 1449.29 L869.4 1449.29 L869.4 1453.23 L855.326 1453.23 L855.326 1461.7 Q856.345 1461.35 857.363 1461.19 Q858.382 1461 859.4 1461 Q865.187 1461 868.567 1464.18 Q871.946 1467.35 871.946 1472.76 Q871.946 1478.34 868.474 1481.44 Q865.002 1484.52 858.682 1484.52 Q856.507 1484.52 854.238 1484.15 Q851.993 1483.78 849.585 1483.04 L849.585 1478.34 Q851.669 1479.48 853.891 1480.03 Q856.113 1480.59 858.59 1480.59 Q862.594 1480.59 864.932 1478.48 Q867.27 1476.38 867.27 1472.76 Q867.27 1469.15 864.932 1467.05 Q862.594 1464.94 858.59 1464.94 Q856.715 1464.94 854.84 1465.36 Q852.988 1465.77 851.044 1466.65 L851.044 1449.29 Z\" fill=\"#000000\" fill-rule=\"evenodd\" fill-opacity=\"1\" /><path clip-path=\"url(#clip380)\" d=\"M881.159 1477.97 L886.043 1477.97 L886.043 1483.85 L881.159 1483.85 L881.159 1477.97 Z\" fill=\"#000000\" fill-rule=\"evenodd\" fill-opacity=\"1\" /><path clip-path=\"url(#clip380)\" d=\"M906.228 1452.37 Q902.617 1452.37 900.789 1455.94 Q898.983 1459.48 898.983 1466.61 Q898.983 1473.71 900.789 1477.28 Q902.617 1480.82 906.228 1480.82 Q909.863 1480.82 911.668 1477.28 Q913.497 1473.71 913.497 1466.61 Q913.497 1459.48 911.668 1455.94 Q909.863 1452.37 906.228 1452.37 M906.228 1448.67 Q912.039 1448.67 915.094 1453.27 Q918.173 1457.86 918.173 1466.61 Q918.173 1475.33 915.094 1479.94 Q912.039 1484.52 906.228 1484.52 Q900.418 1484.52 897.34 1479.94 Q894.284 1475.33 894.284 1466.61 Q894.284 1457.86 897.34 1453.27 Q900.418 1448.67 906.228 1448.67 Z\" fill=\"#000000\" fill-rule=\"evenodd\" fill-opacity=\"1\" /><path clip-path=\"url(#clip380)\" d=\"M1353.24 1449.29 L1375.46 1449.29 L1375.46 1451.28 L1362.91 1483.85 L1358.03 1483.85 L1369.84 1453.23 L1353.24 1453.23 L1353.24 1449.29 Z\" fill=\"#000000\" fill-rule=\"evenodd\" fill-opacity=\"1\" /><path clip-path=\"url(#clip380)\" d=\"M1384.58 1477.97 L1389.47 1477.97 L1389.47 1483.85 L1384.58 1483.85 L1384.58 1477.97 Z\" fill=\"#000000\" fill-rule=\"evenodd\" fill-opacity=\"1\" /><path clip-path=\"url(#clip380)\" d=\"M1399.7 1449.29 L1418.05 1449.29 L1418.05 1453.23 L1403.98 1453.23 L1403.98 1461.7 Q1405 1461.35 1406.02 1461.19 Q1407.03 1461 1408.05 1461 Q1413.84 1461 1417.22 1464.18 Q1420.6 1467.35 1420.6 1472.76 Q1420.6 1478.34 1417.13 1481.44 Q1413.66 1484.52 1407.34 1484.52 Q1405.16 1484.52 1402.89 1484.15 Q1400.65 1483.78 1398.24 1483.04 L1398.24 1478.34 Q1400.32 1479.48 1402.54 1480.03 Q1404.77 1480.59 1407.24 1480.59 Q1411.25 1480.59 1413.59 1478.48 Q1415.92 1476.38 1415.92 1472.76 Q1415.92 1469.15 1413.59 1467.05 Q1411.25 1464.94 1407.24 1464.94 Q1405.37 1464.94 1403.49 1465.36 Q1401.64 1465.77 1399.7 1466.65 L1399.7 1449.29 Z\" fill=\"#000000\" fill-rule=\"evenodd\" fill-opacity=\"1\" /><path clip-path=\"url(#clip380)\" d=\"M1842.03 1479.92 L1849.67 1479.92 L1849.67 1453.55 L1841.36 1455.22 L1841.36 1450.96 L1849.62 1449.29 L1854.3 1449.29 L1854.3 1479.92 L1861.94 1479.92 L1861.94 1483.85 L1842.03 1483.85 L1842.03 1479.92 Z\" fill=\"#000000\" fill-rule=\"evenodd\" fill-opacity=\"1\" /><path clip-path=\"url(#clip380)\" d=\"M1881.38 1452.37 Q1877.77 1452.37 1875.94 1455.94 Q1874.14 1459.48 1874.14 1466.61 Q1874.14 1473.71 1875.94 1477.28 Q1877.77 1480.82 1881.38 1480.82 Q1885.02 1480.82 1886.82 1477.28 Q1888.65 1473.71 1888.65 1466.61 Q1888.65 1459.48 1886.82 1455.94 Q1885.02 1452.37 1881.38 1452.37 M1881.38 1448.67 Q1887.19 1448.67 1890.25 1453.27 Q1893.33 1457.86 1893.33 1466.61 Q1893.33 1475.33 1890.25 1479.94 Q1887.19 1484.52 1881.38 1484.52 Q1875.57 1484.52 1872.49 1479.94 Q1869.44 1475.33 1869.44 1466.61 Q1869.44 1457.86 1872.49 1453.27 Q1875.57 1448.67 1881.38 1448.67 Z\" fill=\"#000000\" fill-rule=\"evenodd\" fill-opacity=\"1\" /><path clip-path=\"url(#clip380)\" d=\"M1901.54 1477.97 L1906.43 1477.97 L1906.43 1483.85 L1901.54 1483.85 L1901.54 1477.97 Z\" fill=\"#000000\" fill-rule=\"evenodd\" fill-opacity=\"1\" /><path clip-path=\"url(#clip380)\" d=\"M1926.61 1452.37 Q1923 1452.37 1921.17 1455.94 Q1919.37 1459.48 1919.37 1466.61 Q1919.37 1473.71 1921.17 1477.28 Q1923 1480.82 1926.61 1480.82 Q1930.25 1480.82 1932.05 1477.28 Q1933.88 1473.71 1933.88 1466.61 Q1933.88 1459.48 1932.05 1455.94 Q1930.25 1452.37 1926.61 1452.37 M1926.61 1448.67 Q1932.42 1448.67 1935.48 1453.27 Q1938.56 1457.86 1938.56 1466.61 Q1938.56 1475.33 1935.48 1479.94 Q1932.42 1484.52 1926.61 1484.52 Q1920.8 1484.52 1917.73 1479.94 Q1914.67 1475.33 1914.67 1466.61 Q1914.67 1457.86 1917.73 1453.27 Q1920.8 1448.67 1926.61 1448.67 Z\" fill=\"#000000\" fill-rule=\"evenodd\" fill-opacity=\"1\" /><path clip-path=\"url(#clip380)\" d=\"M1082.26 1533.76 L1082.26 1539.24 Q1079.78 1537.87 1077.26 1537.2 Q1074.78 1536.5 1072.23 1536.5 Q1066.54 1536.5 1063.38 1540.13 Q1060.23 1543.73 1060.23 1550.25 Q1060.23 1556.78 1063.38 1560.4 Q1066.54 1564 1072.23 1564 Q1074.78 1564 1077.26 1563.33 Q1079.78 1562.63 1082.26 1561.26 L1082.26 1566.68 Q1079.81 1567.82 1077.17 1568.39 Q1074.56 1568.97 1071.6 1568.97 Q1063.54 1568.97 1058.8 1563.91 Q1054.06 1558.85 1054.06 1550.25 Q1054.06 1541.53 1058.83 1536.53 Q1063.64 1531.54 1071.98 1531.54 Q1074.68 1531.54 1077.26 1532.11 Q1079.84 1532.65 1082.26 1533.76 Z\" fill=\"#000000\" fill-rule=\"evenodd\" fill-opacity=\"1\" /><path clip-path=\"url(#clip380)\" d=\"M1122.08 1546.53 L1122.08 1568.04 L1116.22 1568.04 L1116.22 1546.72 Q1116.22 1541.66 1114.25 1539.14 Q1112.27 1536.63 1108.33 1536.63 Q1103.58 1536.63 1100.85 1539.65 Q1098.11 1542.68 1098.11 1547.9 L1098.11 1568.04 L1092.22 1568.04 L1092.22 1518.52 L1098.11 1518.52 L1098.11 1537.93 Q1100.21 1534.72 1103.04 1533.13 Q1105.91 1531.54 1109.63 1531.54 Q1115.77 1531.54 1118.92 1535.36 Q1122.08 1539.14 1122.08 1546.53 Z\" fill=\"#000000\" fill-rule=\"evenodd\" fill-opacity=\"1\" /><path clip-path=\"url(#clip380)\" d=\"M1149.96 1550.12 Q1142.86 1550.12 1140.12 1551.75 Q1137.39 1553.37 1137.39 1557.29 Q1137.39 1560.4 1139.42 1562.25 Q1141.49 1564.07 1145.02 1564.07 Q1149.89 1564.07 1152.82 1560.63 Q1155.78 1557.16 1155.78 1551.43 L1155.78 1550.12 L1149.96 1550.12 M1161.64 1547.71 L1161.64 1568.04 L1155.78 1568.04 L1155.78 1562.63 Q1153.78 1565.88 1150.79 1567.44 Q1147.79 1568.97 1143.46 1568.97 Q1137.99 1568.97 1134.74 1565.91 Q1131.53 1562.82 1131.53 1557.67 Q1131.53 1551.65 1135.54 1548.6 Q1139.58 1545.54 1147.57 1545.54 L1155.78 1545.54 L1155.78 1544.97 Q1155.78 1540.93 1153.11 1538.73 Q1150.47 1536.5 1145.66 1536.5 Q1142.61 1536.5 1139.71 1537.23 Q1136.81 1537.97 1134.14 1539.43 L1134.14 1534.02 Q1137.35 1532.78 1140.38 1532.17 Q1143.4 1531.54 1146.27 1531.54 Q1154 1531.54 1157.82 1535.55 Q1161.64 1539.56 1161.64 1547.71 Z\" fill=\"#000000\" fill-rule=\"evenodd\" fill-opacity=\"1\" /><path clip-path=\"url(#clip380)\" d=\"M1173.7 1532.4 L1179.56 1532.4 L1179.56 1568.04 L1173.7 1568.04 L1173.7 1532.4 M1173.7 1518.52 L1179.56 1518.52 L1179.56 1525.93 L1173.7 1525.93 L1173.7 1518.52 Z\" fill=\"#000000\" fill-rule=\"evenodd\" fill-opacity=\"1\" /><path clip-path=\"url(#clip380)\" d=\"M1221.44 1546.53 L1221.44 1568.04 L1215.59 1568.04 L1215.59 1546.72 Q1215.59 1541.66 1213.61 1539.14 Q1211.64 1536.63 1207.69 1536.63 Q1202.95 1536.63 1200.21 1539.65 Q1197.48 1542.68 1197.48 1547.9 L1197.48 1568.04 L1191.59 1568.04 L1191.59 1532.4 L1197.48 1532.4 L1197.48 1537.93 Q1199.58 1534.72 1202.41 1533.13 Q1205.28 1531.54 1209 1531.54 Q1215.14 1531.54 1218.29 1535.36 Q1221.44 1539.14 1221.44 1546.53 Z\" fill=\"#000000\" fill-rule=\"evenodd\" fill-opacity=\"1\" /><path clip-path=\"url(#clip380)\" d=\"M1253.85 1518.52 L1259.7 1518.52 L1259.7 1568.04 L1253.85 1568.04 L1253.85 1518.52 Z\" fill=\"#000000\" fill-rule=\"evenodd\" fill-opacity=\"1\" /><path clip-path=\"url(#clip380)\" d=\"M1302.45 1548.76 L1302.45 1551.62 L1275.52 1551.62 Q1275.9 1557.67 1279.15 1560.85 Q1282.43 1564 1288.25 1564 Q1291.63 1564 1294.78 1563.17 Q1297.96 1562.35 1301.08 1560.69 L1301.08 1566.23 Q1297.93 1567.57 1294.62 1568.27 Q1291.31 1568.97 1287.9 1568.97 Q1279.37 1568.97 1274.38 1564 Q1269.41 1559.04 1269.41 1550.57 Q1269.41 1541.82 1274.12 1536.69 Q1278.86 1531.54 1286.88 1531.54 Q1294.08 1531.54 1298.25 1536.18 Q1302.45 1540.8 1302.45 1548.76 M1296.59 1547.04 Q1296.53 1542.23 1293.89 1539.37 Q1291.28 1536.5 1286.95 1536.5 Q1282.05 1536.5 1279.09 1539.27 Q1276.16 1542.04 1275.71 1547.07 L1296.59 1547.04 Z\" fill=\"#000000\" fill-rule=\"evenodd\" fill-opacity=\"1\" /><path clip-path=\"url(#clip380)\" d=\"M1341.69 1546.53 L1341.69 1568.04 L1335.84 1568.04 L1335.84 1546.72 Q1335.84 1541.66 1333.86 1539.14 Q1331.89 1536.63 1327.94 1536.63 Q1323.2 1536.63 1320.46 1539.65 Q1317.73 1542.68 1317.73 1547.9 L1317.73 1568.04 L1311.84 1568.04 L1311.84 1532.4 L1317.73 1532.4 L1317.73 1537.93 Q1319.83 1534.72 1322.66 1533.13 Q1325.52 1531.54 1329.25 1531.54 Q1335.39 1531.54 1338.54 1535.36 Q1341.69 1539.14 1341.69 1546.53 Z\" fill=\"#000000\" fill-rule=\"evenodd\" fill-opacity=\"1\" /><path clip-path=\"url(#clip380)\" d=\"M1376.83 1549.81 Q1376.83 1543.44 1374.19 1539.94 Q1371.58 1536.44 1366.84 1536.44 Q1362.13 1536.44 1359.48 1539.94 Q1356.87 1543.44 1356.87 1549.81 Q1356.87 1556.14 1359.48 1559.64 Q1362.13 1563.14 1366.84 1563.14 Q1371.58 1563.14 1374.19 1559.64 Q1376.83 1556.14 1376.83 1549.81 M1382.69 1563.62 Q1382.69 1572.72 1378.65 1577.15 Q1374.6 1581.6 1366.26 1581.6 Q1363.18 1581.6 1360.44 1581.13 Q1357.7 1580.68 1355.12 1579.72 L1355.12 1574.03 Q1357.7 1575.43 1360.22 1576.1 Q1362.73 1576.76 1365.34 1576.76 Q1371.1 1576.76 1373.97 1573.74 Q1376.83 1570.75 1376.83 1564.67 L1376.83 1561.77 Q1375.02 1564.92 1372.18 1566.48 Q1369.35 1568.04 1365.4 1568.04 Q1358.85 1568.04 1354.84 1563.05 Q1350.83 1558.05 1350.83 1549.81 Q1350.83 1541.53 1354.84 1536.53 Q1358.85 1531.54 1365.4 1531.54 Q1369.35 1531.54 1372.18 1533.1 Q1375.02 1534.66 1376.83 1537.81 L1376.83 1532.4 L1382.69 1532.4 L1382.69 1563.62 Z\" fill=\"#000000\" fill-rule=\"evenodd\" fill-opacity=\"1\" /><path clip-path=\"url(#clip380)\" d=\"M1400.54 1522.27 L1400.54 1532.4 L1412.61 1532.4 L1412.61 1536.95 L1400.54 1536.95 L1400.54 1556.3 Q1400.54 1560.66 1401.72 1561.9 Q1402.93 1563.14 1406.59 1563.14 L1412.61 1563.14 L1412.61 1568.04 L1406.59 1568.04 Q1399.81 1568.04 1397.23 1565.53 Q1394.66 1562.98 1394.66 1556.3 L1394.66 1536.95 L1390.36 1536.95 L1390.36 1532.4 L1394.66 1532.4 L1394.66 1522.27 L1400.54 1522.27 Z\" fill=\"#000000\" fill-rule=\"evenodd\" fill-opacity=\"1\" /><path clip-path=\"url(#clip380)\" d=\"M1449.94 1546.53 L1449.94 1568.04 L1444.09 1568.04 L1444.09 1546.72 Q1444.09 1541.66 1442.11 1539.14 Q1440.14 1536.63 1436.19 1536.63 Q1431.45 1536.63 1428.71 1539.65 Q1425.97 1542.68 1425.97 1547.9 L1425.97 1568.04 L1420.09 1568.04 L1420.09 1518.52 L1425.97 1518.52 L1425.97 1537.93 Q1428.08 1534.72 1430.91 1533.13 Q1433.77 1531.54 1437.5 1531.54 Q1443.64 1531.54 1446.79 1535.36 Q1449.94 1539.14 1449.94 1546.53 Z\" fill=\"#000000\" fill-rule=\"evenodd\" fill-opacity=\"1\" /><path clip-path=\"url(#clip380)\" d=\"M1482.6 1520.52 L1491.26 1520.52 L1512.33 1560.28 L1512.33 1520.52 L1518.56 1520.52 L1518.56 1568.04 L1509.91 1568.04 L1488.84 1528.29 L1488.84 1568.04 L1482.6 1568.04 L1482.6 1520.52 Z\" fill=\"#000000\" fill-rule=\"evenodd\" fill-opacity=\"1\" /><polyline clip-path=\"url(#clip382)\" style=\"stroke:#000000; stroke-linecap:butt; stroke-linejoin:round; stroke-width:2; stroke-opacity:0.1; fill:none\" points=\"\n",
       "  219.866,1123.52 2352.76,1123.52 \n",
       "  \"/>\n",
       "<polyline clip-path=\"url(#clip382)\" style=\"stroke:#000000; stroke-linecap:butt; stroke-linejoin:round; stroke-width:2; stroke-opacity:0.1; fill:none\" points=\"\n",
       "  219.866,775.906 2352.76,775.906 \n",
       "  \"/>\n",
       "<polyline clip-path=\"url(#clip382)\" style=\"stroke:#000000; stroke-linecap:butt; stroke-linejoin:round; stroke-width:2; stroke-opacity:0.1; fill:none\" points=\"\n",
       "  219.866,428.288 2352.76,428.288 \n",
       "  \"/>\n",
       "<polyline clip-path=\"url(#clip382)\" style=\"stroke:#000000; stroke-linecap:butt; stroke-linejoin:round; stroke-width:2; stroke-opacity:0.1; fill:none\" points=\"\n",
       "  219.866,80.6693 2352.76,80.6693 \n",
       "  \"/>\n",
       "<polyline clip-path=\"url(#clip380)\" style=\"stroke:#000000; stroke-linecap:butt; stroke-linejoin:round; stroke-width:4; stroke-opacity:1; fill:none\" points=\"\n",
       "  219.866,1423.18 219.866,47.2441 \n",
       "  \"/>\n",
       "<polyline clip-path=\"url(#clip380)\" style=\"stroke:#000000; stroke-linecap:butt; stroke-linejoin:round; stroke-width:4; stroke-opacity:1; fill:none\" points=\"\n",
       "  219.866,1123.52 245.461,1123.52 \n",
       "  \"/>\n",
       "<polyline clip-path=\"url(#clip380)\" style=\"stroke:#000000; stroke-linecap:butt; stroke-linejoin:round; stroke-width:4; stroke-opacity:1; fill:none\" points=\"\n",
       "  219.866,775.906 245.461,775.906 \n",
       "  \"/>\n",
       "<polyline clip-path=\"url(#clip380)\" style=\"stroke:#000000; stroke-linecap:butt; stroke-linejoin:round; stroke-width:4; stroke-opacity:1; fill:none\" points=\"\n",
       "  219.866,428.288 245.461,428.288 \n",
       "  \"/>\n",
       "<polyline clip-path=\"url(#clip380)\" style=\"stroke:#000000; stroke-linecap:butt; stroke-linejoin:round; stroke-width:4; stroke-opacity:1; fill:none\" points=\"\n",
       "  219.866,80.6693 245.461,80.6693 \n",
       "  \"/>\n",
       "<path clip-path=\"url(#clip380)\" d=\"M126.205 1109.32 Q122.593 1109.32 120.765 1112.89 Q118.959 1116.43 118.959 1123.56 Q118.959 1130.67 120.765 1134.23 Q122.593 1137.77 126.205 1137.77 Q129.839 1137.77 131.644 1134.23 Q133.473 1130.67 133.473 1123.56 Q133.473 1116.43 131.644 1112.89 Q129.839 1109.32 126.205 1109.32 M126.205 1105.62 Q132.015 1105.62 135.07 1110.23 Q138.149 1114.81 138.149 1123.56 Q138.149 1132.29 135.07 1136.89 Q132.015 1141.48 126.205 1141.48 Q120.394 1141.48 117.316 1136.89 Q114.26 1132.29 114.26 1123.56 Q114.26 1114.81 117.316 1110.23 Q120.394 1105.62 126.205 1105.62 Z\" fill=\"#000000\" fill-rule=\"evenodd\" fill-opacity=\"1\" /><path clip-path=\"url(#clip380)\" d=\"M146.366 1134.92 L151.251 1134.92 L151.251 1140.8 L146.366 1140.8 L146.366 1134.92 Z\" fill=\"#000000\" fill-rule=\"evenodd\" fill-opacity=\"1\" /><path clip-path=\"url(#clip380)\" d=\"M174.283 1110.32 L162.477 1128.77 L174.283 1128.77 L174.283 1110.32 M173.056 1106.24 L178.936 1106.24 L178.936 1128.77 L183.866 1128.77 L183.866 1132.66 L178.936 1132.66 L178.936 1140.8 L174.283 1140.8 L174.283 1132.66 L158.681 1132.66 L158.681 1128.14 L173.056 1106.24 Z\" fill=\"#000000\" fill-rule=\"evenodd\" fill-opacity=\"1\" /><path clip-path=\"url(#clip380)\" d=\"M126.529 761.705 Q122.918 761.705 121.089 765.27 Q119.283 768.811 119.283 775.941 Q119.283 783.047 121.089 786.612 Q122.918 790.154 126.529 790.154 Q130.163 790.154 131.968 786.612 Q133.797 783.047 133.797 775.941 Q133.797 768.811 131.968 765.27 Q130.163 761.705 126.529 761.705 M126.529 758.001 Q132.339 758.001 135.394 762.608 Q138.473 767.191 138.473 775.941 Q138.473 784.668 135.394 789.274 Q132.339 793.857 126.529 793.857 Q120.718 793.857 117.64 789.274 Q114.584 784.668 114.584 775.941 Q114.584 767.191 117.64 762.608 Q120.718 758.001 126.529 758.001 Z\" fill=\"#000000\" fill-rule=\"evenodd\" fill-opacity=\"1\" /><path clip-path=\"url(#clip380)\" d=\"M146.691 787.306 L151.575 787.306 L151.575 793.186 L146.691 793.186 L146.691 787.306 Z\" fill=\"#000000\" fill-rule=\"evenodd\" fill-opacity=\"1\" /><path clip-path=\"url(#clip380)\" d=\"M172.339 774.043 Q169.19 774.043 167.339 776.195 Q165.51 778.348 165.51 782.098 Q165.51 785.825 167.339 788.001 Q169.19 790.154 172.339 790.154 Q175.487 790.154 177.315 788.001 Q179.167 785.825 179.167 782.098 Q179.167 778.348 177.315 776.195 Q175.487 774.043 172.339 774.043 M181.621 759.39 L181.621 763.649 Q179.862 762.816 178.056 762.376 Q176.274 761.936 174.514 761.936 Q169.885 761.936 167.431 765.061 Q165.001 768.186 164.653 774.506 Q166.019 772.492 168.079 771.427 Q170.139 770.339 172.616 770.339 Q177.825 770.339 180.834 773.51 Q183.866 776.658 183.866 782.098 Q183.866 787.422 180.718 790.64 Q177.57 793.857 172.339 793.857 Q166.343 793.857 163.172 789.274 Q160.001 784.668 160.001 775.941 Q160.001 767.746 163.89 762.885 Q167.778 758.001 174.329 758.001 Q176.089 758.001 177.871 758.348 Q179.676 758.696 181.621 759.39 Z\" fill=\"#000000\" fill-rule=\"evenodd\" fill-opacity=\"1\" /><path clip-path=\"url(#clip380)\" d=\"M126.783 414.086 Q123.172 414.086 121.343 417.651 Q119.538 421.193 119.538 428.322 Q119.538 435.429 121.343 438.994 Q123.172 442.535 126.783 442.535 Q130.417 442.535 132.223 438.994 Q134.052 435.429 134.052 428.322 Q134.052 421.193 132.223 417.651 Q130.417 414.086 126.783 414.086 M126.783 410.383 Q132.593 410.383 135.649 414.989 Q138.728 419.572 138.728 428.322 Q138.728 437.049 135.649 441.656 Q132.593 446.239 126.783 446.239 Q120.973 446.239 117.894 441.656 Q114.839 437.049 114.839 428.322 Q114.839 419.572 117.894 414.989 Q120.973 410.383 126.783 410.383 Z\" fill=\"#000000\" fill-rule=\"evenodd\" fill-opacity=\"1\" /><path clip-path=\"url(#clip380)\" d=\"M146.945 439.688 L151.829 439.688 L151.829 445.568 L146.945 445.568 L146.945 439.688 Z\" fill=\"#000000\" fill-rule=\"evenodd\" fill-opacity=\"1\" /><path clip-path=\"url(#clip380)\" d=\"M172.014 429.156 Q168.681 429.156 166.76 430.938 Q164.862 432.721 164.862 435.845 Q164.862 438.97 166.76 440.753 Q168.681 442.535 172.014 442.535 Q175.348 442.535 177.269 440.753 Q179.19 438.947 179.19 435.845 Q179.19 432.721 177.269 430.938 Q175.371 429.156 172.014 429.156 M167.339 427.165 Q164.329 426.424 162.64 424.364 Q160.973 422.304 160.973 419.341 Q160.973 415.197 163.913 412.79 Q166.876 410.383 172.014 410.383 Q177.176 410.383 180.116 412.79 Q183.056 415.197 183.056 419.341 Q183.056 422.304 181.366 424.364 Q179.7 426.424 176.714 427.165 Q180.093 427.952 181.968 430.244 Q183.866 432.535 183.866 435.845 Q183.866 440.869 180.788 443.554 Q177.732 446.239 172.014 446.239 Q166.297 446.239 163.218 443.554 Q160.163 440.869 160.163 435.845 Q160.163 432.535 162.061 430.244 Q163.959 427.952 167.339 427.165 M165.626 419.781 Q165.626 422.466 167.292 423.971 Q168.982 425.475 172.014 425.475 Q175.024 425.475 176.714 423.971 Q178.426 422.466 178.426 419.781 Q178.426 417.096 176.714 415.591 Q175.024 414.086 172.014 414.086 Q168.982 414.086 167.292 415.591 Q165.626 417.096 165.626 419.781 Z\" fill=\"#000000\" fill-rule=\"evenodd\" fill-opacity=\"1\" /><path clip-path=\"url(#clip380)\" d=\"M117.501 94.0141 L125.14 94.0141 L125.14 67.6485 L116.83 69.3152 L116.83 65.0559 L125.093 63.3893 L129.769 63.3893 L129.769 94.0141 L137.408 94.0141 L137.408 97.9493 L117.501 97.9493 L117.501 94.0141 Z\" fill=\"#000000\" fill-rule=\"evenodd\" fill-opacity=\"1\" /><path clip-path=\"url(#clip380)\" d=\"M146.853 92.0697 L151.737 92.0697 L151.737 97.9493 L146.853 97.9493 L146.853 92.0697 Z\" fill=\"#000000\" fill-rule=\"evenodd\" fill-opacity=\"1\" /><path clip-path=\"url(#clip380)\" d=\"M171.922 66.468 Q168.311 66.468 166.482 70.0327 Q164.677 73.5744 164.677 80.704 Q164.677 87.8104 166.482 91.3752 Q168.311 94.9169 171.922 94.9169 Q175.556 94.9169 177.362 91.3752 Q179.19 87.8104 179.19 80.704 Q179.19 73.5744 177.362 70.0327 Q175.556 66.468 171.922 66.468 M171.922 62.7643 Q177.732 62.7643 180.788 67.3707 Q183.866 71.954 183.866 80.704 Q183.866 89.4308 180.788 94.0373 Q177.732 98.6206 171.922 98.6206 Q166.112 98.6206 163.033 94.0373 Q159.978 89.4308 159.978 80.704 Q159.978 71.954 163.033 67.3707 Q166.112 62.7643 171.922 62.7643 Z\" fill=\"#000000\" fill-rule=\"evenodd\" fill-opacity=\"1\" /><path clip-path=\"url(#clip380)\" d=\"M16.4842 1067.95 L16.4842 1061.52 L35.9632 1061.52 L35.9632 1038.16 L16.4842 1038.16 L16.4842 1031.73 L64.0042 1031.73 L64.0042 1038.16 L41.3741 1038.16 L41.3741 1061.52 L64.0042 1061.52 L64.0042 1067.95 L16.4842 1067.95 Z\" fill=\"#000000\" fill-rule=\"evenodd\" fill-opacity=\"1\" /><path clip-path=\"url(#clip380)\" d=\"M46.0847 1002.99 Q46.0847 1010.08 47.7079 1012.82 Q49.3312 1015.56 53.2461 1015.56 Q56.3653 1015.56 58.2114 1013.52 Q60.0256 1011.45 60.0256 1007.92 Q60.0256 1003.05 56.5881 1000.12 Q53.1188 997.161 47.3897 997.161 L46.0847 997.161 L46.0847 1002.99 M43.6657 991.304 L64.0042 991.304 L64.0042 997.161 L58.5933 997.161 Q61.8398 999.166 63.3994 1002.16 Q64.9272 1005.15 64.9272 1009.48 Q64.9272 1014.95 61.8716 1018.2 Q58.7843 1021.41 53.6281 1021.41 Q47.6125 1021.41 44.5569 1017.4 Q41.5014 1013.36 41.5014 1005.37 L41.5014 997.161 L40.9285 997.161 Q36.8862 997.161 34.6901 999.834 Q32.4621 1002.48 32.4621 1007.28 Q32.4621 1010.34 33.1941 1013.23 Q33.9262 1016.13 35.3903 1018.8 L29.9795 1018.8 Q28.7381 1015.59 28.1334 1012.57 Q27.4968 1009.54 27.4968 1006.68 Q27.4968 998.943 31.5072 995.124 Q35.5176 991.304 43.6657 991.304 Z\" fill=\"#000000\" fill-rule=\"evenodd\" fill-opacity=\"1\" /><path clip-path=\"url(#clip380)\" d=\"M35.1993 951.487 Q31.2526 949.291 29.3747 946.235 Q27.4968 943.18 27.4968 939.042 Q27.4968 933.472 31.4117 930.448 Q35.2948 927.424 42.4881 927.424 L64.0042 927.424 L64.0042 933.313 L42.679 933.313 Q37.5546 933.313 35.072 935.127 Q32.5894 936.941 32.5894 940.665 Q32.5894 945.217 35.6131 947.858 Q38.6368 950.5 43.8567 950.5 L64.0042 950.5 L64.0042 956.388 L42.679 956.388 Q37.5228 956.388 35.072 958.203 Q32.5894 960.017 32.5894 963.804 Q32.5894 968.292 35.6449 970.934 Q38.6686 973.576 43.8567 973.576 L64.0042 973.576 L64.0042 979.464 L28.3562 979.464 L28.3562 973.576 L33.8944 973.576 Q30.616 971.571 29.0564 968.77 Q27.4968 965.969 27.4968 962.118 Q27.4968 958.235 29.4702 955.529 Q31.4436 952.792 35.1993 951.487 Z\" fill=\"#000000\" fill-rule=\"evenodd\" fill-opacity=\"1\" /><path clip-path=\"url(#clip380)\" d=\"M28.3562 915.743 L28.3562 909.887 L64.0042 909.887 L64.0042 915.743 L28.3562 915.743 M14.479 915.743 L14.479 909.887 L21.895 909.887 L21.895 915.743 L14.479 915.743 Z\" fill=\"#000000\" fill-rule=\"evenodd\" fill-opacity=\"1\" /><path clip-path=\"url(#clip380)\" d=\"M14.479 897.633 L14.479 891.777 L64.0042 891.777 L64.0042 897.633 L14.479 897.633 Z\" fill=\"#000000\" fill-rule=\"evenodd\" fill-opacity=\"1\" /><path clip-path=\"url(#clip380)\" d=\"M18.2347 873.73 L28.3562 873.73 L28.3562 861.667 L32.9077 861.667 L32.9077 873.73 L52.2594 873.73 Q56.6199 873.73 57.8613 872.552 Q59.1026 871.343 59.1026 867.682 L59.1026 861.667 L64.0042 861.667 L64.0042 867.682 Q64.0042 874.462 61.4897 877.04 Q58.9434 879.618 52.2594 879.618 L32.9077 879.618 L32.9077 883.915 L28.3562 883.915 L28.3562 879.618 L18.2347 879.618 L18.2347 873.73 Z\" fill=\"#000000\" fill-rule=\"evenodd\" fill-opacity=\"1\" /><path clip-path=\"url(#clip380)\" d=\"M32.4621 840.151 Q32.4621 844.861 36.1542 847.599 Q39.8145 850.336 46.212 850.336 Q52.6095 850.336 56.3017 847.63 Q59.9619 844.893 59.9619 840.151 Q59.9619 835.472 56.2698 832.735 Q52.5777 829.997 46.212 829.997 Q39.8781 829.997 36.186 832.735 Q32.4621 835.472 32.4621 840.151 M27.4968 840.151 Q27.4968 832.512 32.4621 828.151 Q37.4273 823.791 46.212 823.791 Q54.9649 823.791 59.9619 828.151 Q64.9272 832.512 64.9272 840.151 Q64.9272 847.821 59.9619 852.182 Q54.9649 856.511 46.212 856.511 Q37.4273 856.511 32.4621 852.182 Q27.4968 847.821 27.4968 840.151 Z\" fill=\"#000000\" fill-rule=\"evenodd\" fill-opacity=\"1\" /><path clip-path=\"url(#clip380)\" d=\"M42.4881 784.451 L64.0042 784.451 L64.0042 790.307 L42.679 790.307 Q37.6183 790.307 35.1038 792.281 Q32.5894 794.254 32.5894 798.201 Q32.5894 802.943 35.6131 805.68 Q38.6368 808.418 43.8567 808.418 L64.0042 808.418 L64.0042 814.306 L28.3562 814.306 L28.3562 808.418 L33.8944 808.418 Q30.6797 806.317 29.0883 803.484 Q27.4968 800.62 27.4968 796.896 Q27.4968 790.753 31.3163 787.602 Q35.1038 784.451 42.4881 784.451 Z\" fill=\"#000000\" fill-rule=\"evenodd\" fill-opacity=\"1\" /><path clip-path=\"url(#clip380)\" d=\"M28.3562 772.77 L28.3562 766.913 L64.0042 766.913 L64.0042 772.77 L28.3562 772.77 M14.479 772.77 L14.479 766.913 L21.895 766.913 L21.895 772.77 L14.479 772.77 Z\" fill=\"#000000\" fill-rule=\"evenodd\" fill-opacity=\"1\" /><path clip-path=\"url(#clip380)\" d=\"M46.0847 738.458 Q46.0847 745.556 47.7079 748.293 Q49.3312 751.031 53.2461 751.031 Q56.3653 751.031 58.2114 748.994 Q60.0256 746.925 60.0256 743.392 Q60.0256 738.522 56.5881 735.594 Q53.1188 732.634 47.3897 732.634 L46.0847 732.634 L46.0847 738.458 M43.6657 726.777 L64.0042 726.777 L64.0042 732.634 L58.5933 732.634 Q61.8398 734.639 63.3994 737.631 Q64.9272 740.623 64.9272 744.951 Q64.9272 750.426 61.8716 753.673 Q58.7843 756.887 53.6281 756.887 Q47.6125 756.887 44.5569 752.877 Q41.5014 748.835 41.5014 740.846 L41.5014 732.634 L40.9285 732.634 Q36.8862 732.634 34.6901 735.307 Q32.4621 737.949 32.4621 742.755 Q32.4621 745.811 33.1941 748.707 Q33.9262 751.604 35.3903 754.277 L29.9795 754.277 Q28.7381 751.063 28.1334 748.039 Q27.4968 745.015 27.4968 742.151 Q27.4968 734.416 31.5072 730.597 Q35.5176 726.777 43.6657 726.777 Z\" fill=\"#000000\" fill-rule=\"evenodd\" fill-opacity=\"1\" /><path clip-path=\"url(#clip380)\" d=\"M42.4881 685.082 L64.0042 685.082 L64.0042 690.938 L42.679 690.938 Q37.6183 690.938 35.1038 692.912 Q32.5894 694.885 32.5894 698.832 Q32.5894 703.574 35.6131 706.312 Q38.6368 709.049 43.8567 709.049 L64.0042 709.049 L64.0042 714.937 L28.3562 714.937 L28.3562 709.049 L33.8944 709.049 Q30.6797 706.948 29.0883 704.115 Q27.4968 701.251 27.4968 697.527 Q27.4968 691.384 31.3163 688.233 Q35.1038 685.082 42.4881 685.082 Z\" fill=\"#000000\" fill-rule=\"evenodd\" fill-opacity=\"1\" /><path clip-path=\"url(#clip380)\" d=\"M29.4065 629.955 L34.9447 629.955 Q33.6716 632.438 33.035 635.111 Q32.3984 637.785 32.3984 640.649 Q32.3984 645.01 33.7352 647.206 Q35.072 649.37 37.7456 649.37 Q39.7826 649.37 40.9603 647.811 Q42.1061 646.251 43.1565 641.541 L43.6021 639.535 Q44.9389 633.297 47.3897 630.687 Q49.8086 628.045 54.1691 628.045 Q59.1344 628.045 62.0308 631.992 Q64.9272 635.907 64.9272 642.782 Q64.9272 645.646 64.3543 648.766 Q63.8132 651.853 62.6992 655.291 L56.6518 655.291 Q58.3387 652.044 59.198 648.893 Q60.0256 645.742 60.0256 642.655 Q60.0256 638.517 58.6251 636.289 Q57.1929 634.061 54.6147 634.061 Q52.2276 634.061 50.9545 635.684 Q49.6813 637.276 48.5037 642.718 L48.0262 644.755 Q46.8804 650.198 44.5251 652.617 Q42.138 655.036 38.0002 655.036 Q32.9713 655.036 30.2341 651.471 Q27.4968 647.906 27.4968 641.35 Q27.4968 638.103 27.9743 635.239 Q28.4517 632.374 29.4065 629.955 Z\" fill=\"#000000\" fill-rule=\"evenodd\" fill-opacity=\"1\" /><path clip-path=\"url(#clip380)\" d=\"M58.657 613.054 L77.5631 613.054 L77.5631 618.942 L28.3562 618.942 L28.3562 613.054 L33.7671 613.054 Q30.5842 611.208 29.0564 608.407 Q27.4968 605.574 27.4968 601.659 Q27.4968 595.166 32.6531 591.124 Q37.8093 587.05 46.212 587.05 Q54.6147 587.05 59.771 591.124 Q64.9272 595.166 64.9272 601.659 Q64.9272 605.574 63.3994 608.407 Q61.8398 611.208 58.657 613.054 M46.212 593.129 Q39.7508 593.129 36.0905 595.803 Q32.3984 598.445 32.3984 603.092 Q32.3984 607.739 36.0905 610.412 Q39.7508 613.054 46.212 613.054 Q52.6732 613.054 56.3653 610.412 Q60.0256 607.739 60.0256 603.092 Q60.0256 598.445 56.3653 595.803 Q52.6732 593.129 46.212 593.129 Z\" fill=\"#000000\" fill-rule=\"evenodd\" fill-opacity=\"1\" /><path clip-path=\"url(#clip380)\" d=\"M46.0847 561.142 Q46.0847 568.239 47.7079 570.977 Q49.3312 573.714 53.2461 573.714 Q56.3653 573.714 58.2114 571.677 Q60.0256 569.608 60.0256 566.075 Q60.0256 561.205 56.5881 558.277 Q53.1188 555.317 47.3897 555.317 L46.0847 555.317 L46.0847 561.142 M43.6657 549.461 L64.0042 549.461 L64.0042 555.317 L58.5933 555.317 Q61.8398 557.322 63.3994 560.314 Q64.9272 563.306 64.9272 567.635 Q64.9272 573.109 61.8716 576.356 Q58.7843 579.57 53.6281 579.57 Q47.6125 579.57 44.5569 575.56 Q41.5014 571.518 41.5014 563.529 L41.5014 555.317 L40.9285 555.317 Q36.8862 555.317 34.6901 557.991 Q32.4621 560.632 32.4621 565.439 Q32.4621 568.494 33.1941 571.391 Q33.9262 574.287 35.3903 576.961 L29.9795 576.961 Q28.7381 573.746 28.1334 570.722 Q27.4968 567.698 27.4968 564.834 Q27.4968 557.099 31.5072 553.28 Q35.5176 549.461 43.6657 549.461 Z\" fill=\"#000000\" fill-rule=\"evenodd\" fill-opacity=\"1\" /><path clip-path=\"url(#clip380)\" d=\"M33.8307 516.741 Q33.2578 517.728 33.0032 518.905 Q32.7167 520.051 32.7167 521.452 Q32.7167 526.417 35.9632 529.09 Q39.1779 531.732 45.2253 531.732 L64.0042 531.732 L64.0042 537.62 L28.3562 537.62 L28.3562 531.732 L33.8944 531.732 Q30.6479 529.886 29.0883 526.926 Q27.4968 523.966 27.4968 519.733 Q27.4968 519.128 27.5923 518.396 Q27.656 517.664 27.8151 516.773 L33.8307 516.741 Z\" fill=\"#000000\" fill-rule=\"evenodd\" fill-opacity=\"1\" /><path clip-path=\"url(#clip380)\" d=\"M29.4065 487.872 L34.9447 487.872 Q33.6716 490.355 33.035 493.029 Q32.3984 495.702 32.3984 498.567 Q32.3984 502.927 33.7352 505.124 Q35.072 507.288 37.7456 507.288 Q39.7826 507.288 40.9603 505.728 Q42.1061 504.169 43.1565 499.458 L43.6021 497.453 Q44.9389 491.214 47.3897 488.604 Q49.8086 485.963 54.1691 485.963 Q59.1344 485.963 62.0308 489.909 Q64.9272 493.824 64.9272 500.699 Q64.9272 503.564 64.3543 506.683 Q63.8132 509.77 62.6992 513.208 L56.6518 513.208 Q58.3387 509.961 59.198 506.81 Q60.0256 503.659 60.0256 500.572 Q60.0256 496.434 58.6251 494.206 Q57.1929 491.978 54.6147 491.978 Q52.2276 491.978 50.9545 493.602 Q49.6813 495.193 48.5037 500.636 L48.0262 502.673 Q46.8804 508.115 44.5251 510.534 Q42.138 512.953 38.0002 512.953 Q32.9713 512.953 30.2341 509.389 Q27.4968 505.824 27.4968 499.267 Q27.4968 496.021 27.9743 493.156 Q28.4517 490.291 29.4065 487.872 Z\" fill=\"#000000\" fill-rule=\"evenodd\" fill-opacity=\"1\" /><path clip-path=\"url(#clip380)\" d=\"M28.3562 476.637 L28.3562 470.781 L64.0042 470.781 L64.0042 476.637 L28.3562 476.637 M14.479 476.637 L14.479 470.781 L21.895 470.781 L21.895 476.637 L14.479 476.637 Z\" fill=\"#000000\" fill-rule=\"evenodd\" fill-opacity=\"1\" /><path clip-path=\"url(#clip380)\" d=\"M18.2347 452.734 L28.3562 452.734 L28.3562 440.671 L32.9077 440.671 L32.9077 452.734 L52.2594 452.734 Q56.6199 452.734 57.8613 451.556 Q59.1026 450.347 59.1026 446.686 L59.1026 440.671 L64.0042 440.671 L64.0042 446.686 Q64.0042 453.466 61.4897 456.044 Q58.9434 458.622 52.2594 458.622 L32.9077 458.622 L32.9077 462.919 L28.3562 462.919 L28.3562 458.622 L18.2347 458.622 L18.2347 452.734 Z\" fill=\"#000000\" fill-rule=\"evenodd\" fill-opacity=\"1\" /><path clip-path=\"url(#clip380)\" d=\"M67.3143 418.136 Q73.68 420.619 75.6216 422.974 Q77.5631 425.329 77.5631 429.276 L77.5631 433.955 L72.6615 433.955 L72.6615 430.517 Q72.6615 428.098 71.5157 426.762 Q70.3699 425.425 66.1048 423.802 L63.4312 422.751 L28.3562 437.17 L28.3562 430.963 L56.238 419.823 L28.3562 408.683 L28.3562 402.476 L67.3143 418.136 Z\" fill=\"#000000\" fill-rule=\"evenodd\" fill-opacity=\"1\" /><polyline clip-path=\"url(#clip382)\" style=\"stroke:#009af9; stroke-linecap:butt; stroke-linejoin:round; stroke-width:4; stroke-opacity:1; fill:none\" points=\"\n",
       "  280.231,1384.24 481.447,841.085 682.663,623.823 883.879,386.193 1085.1,270.773 1286.31,185.057 1487.53,141.774 1688.74,113.688 1889.96,99.3402 2091.18,90.6445 \n",
       "  2292.39,86.1857 \n",
       "  \"/>\n",
       "<circle clip-path=\"url(#clip382)\" cx=\"280.231\" cy=\"1384.24\" r=\"14\" fill=\"#009af9\" fill-rule=\"evenodd\" fill-opacity=\"1\" stroke=\"#000000\" stroke-opacity=\"1\" stroke-width=\"3.2\"/>\n",
       "<circle clip-path=\"url(#clip382)\" cx=\"481.447\" cy=\"841.085\" r=\"14\" fill=\"#009af9\" fill-rule=\"evenodd\" fill-opacity=\"1\" stroke=\"#000000\" stroke-opacity=\"1\" stroke-width=\"3.2\"/>\n",
       "<circle clip-path=\"url(#clip382)\" cx=\"682.663\" cy=\"623.823\" r=\"14\" fill=\"#009af9\" fill-rule=\"evenodd\" fill-opacity=\"1\" stroke=\"#000000\" stroke-opacity=\"1\" stroke-width=\"3.2\"/>\n",
       "<circle clip-path=\"url(#clip382)\" cx=\"883.879\" cy=\"386.193\" r=\"14\" fill=\"#009af9\" fill-rule=\"evenodd\" fill-opacity=\"1\" stroke=\"#000000\" stroke-opacity=\"1\" stroke-width=\"3.2\"/>\n",
       "<circle clip-path=\"url(#clip382)\" cx=\"1085.1\" cy=\"270.773\" r=\"14\" fill=\"#009af9\" fill-rule=\"evenodd\" fill-opacity=\"1\" stroke=\"#000000\" stroke-opacity=\"1\" stroke-width=\"3.2\"/>\n",
       "<circle clip-path=\"url(#clip382)\" cx=\"1286.31\" cy=\"185.057\" r=\"14\" fill=\"#009af9\" fill-rule=\"evenodd\" fill-opacity=\"1\" stroke=\"#000000\" stroke-opacity=\"1\" stroke-width=\"3.2\"/>\n",
       "<circle clip-path=\"url(#clip382)\" cx=\"1487.53\" cy=\"141.774\" r=\"14\" fill=\"#009af9\" fill-rule=\"evenodd\" fill-opacity=\"1\" stroke=\"#000000\" stroke-opacity=\"1\" stroke-width=\"3.2\"/>\n",
       "<circle clip-path=\"url(#clip382)\" cx=\"1688.74\" cy=\"113.688\" r=\"14\" fill=\"#009af9\" fill-rule=\"evenodd\" fill-opacity=\"1\" stroke=\"#000000\" stroke-opacity=\"1\" stroke-width=\"3.2\"/>\n",
       "<circle clip-path=\"url(#clip382)\" cx=\"1889.96\" cy=\"99.3402\" r=\"14\" fill=\"#009af9\" fill-rule=\"evenodd\" fill-opacity=\"1\" stroke=\"#000000\" stroke-opacity=\"1\" stroke-width=\"3.2\"/>\n",
       "<circle clip-path=\"url(#clip382)\" cx=\"2091.18\" cy=\"90.6445\" r=\"14\" fill=\"#009af9\" fill-rule=\"evenodd\" fill-opacity=\"1\" stroke=\"#000000\" stroke-opacity=\"1\" stroke-width=\"3.2\"/>\n",
       "<circle clip-path=\"url(#clip382)\" cx=\"2292.39\" cy=\"86.1857\" r=\"14\" fill=\"#009af9\" fill-rule=\"evenodd\" fill-opacity=\"1\" stroke=\"#000000\" stroke-opacity=\"1\" stroke-width=\"3.2\"/>\n",
       "</svg>\n"
      ]
     },
     "execution_count": 38,
     "metadata": {},
     "output_type": "execute_result"
    }
   ],
   "source": [
    "sparsity(x) = count(isequal(0), x)/length(x)\n",
    "\n",
    "Ns = 2:12\n",
    "sparsities = Float64[]\n",
    "for N in Ns\n",
    "    H = TransverseFieldIsing(N=N, h=1)\n",
    "    push!(sparsities, sparsity(H))\n",
    "end\n",
    "plot(Ns, sparsities, legend=false, xlab=\"chain length N\", ylab=\"Hamiltonian sparsity\", marker=:circle)"
   ]
  },
  {
   "cell_type": "code",
   "execution_count": null,
   "metadata": {},
   "outputs": [],
   "source": []
  }
 ],
 "metadata": {
  "kernelspec": {
   "display_name": "Julia 1.6.1",
   "language": "julia",
   "name": "julia-1.6"
  },
  "language_info": {
   "file_extension": ".jl",
   "mimetype": "application/julia",
   "name": "julia",
   "version": "1.6.1"
  }
 },
 "nbformat": 4,
 "nbformat_minor": 4
}
